{
 "cells": [
  {
   "attachments": {},
   "cell_type": "markdown",
   "metadata": {},
   "source": [
    "# Starbucks Capstone Project\n",
    "\n",
    "_A Udacity Data Science Project_"
   ]
  },
  {
   "attachments": {},
   "cell_type": "markdown",
   "metadata": {},
   "source": [
    "## Project Overview\n",
    "\n",
    "This dataset contains simulated data that mimics customer behavior on the Starbucks rewards mobile app. Once every few days, Starbucks sends out an offer to users of the mobile app. An offer can be merely an advertisement for a drink or an actual offer such as a discount or BOGO (buy one get one free). Some users might not receive any offer during certain weeks. \n",
    "\n",
    "Not all users receive the same offer, and that is the challenge to solve with this data set.\n",
    "\n",
    "The task is to combine transaction, demographic and offer data to determine which demographic groups respond best to which offer type. This data set is a simplified version of the real Starbucks app because the underlying simulator only has one product whereas Starbucks actually sells dozens of products.\n",
    "\n",
    "Every offer has a validity period before the offer expires. As an example, a BOGO offer might be valid for only 5 days. You'll see in the data set that informational offers have a validity period even though these ads are merely providing information about a product; for example, if an informational offer has 7 days of validity, you can assume the customer is feeling the influence of the offer for 7 days after receiving the advertisement.\n",
    "\n",
    "You'll be given transactional data showing user purchases made on the app including the timestamp of purchase and the amount of money spent on a purchase. This transactional data also has a record for each offer that a user receives as well as a record for when a user actually views the offer. There are also records for when a user completes an offer. \n",
    "\n",
    "Keep in mind as well that someone using the app might make a purchase through the app without having received an offer or seen an offer.\n",
    "\n",
    "To give an example, a user could receive a discount offer buy 10 dollars get 2 off on Monday. The offer is valid for 10 days from receipt. If the customer accumulates at least 10 dollars in purchases during the validity period, the customer completes the offer.\n",
    "\n",
    "However, there are a few things to watch out for in this data set. Customers do not opt into the offers that they receive; in other words, a user can receive an offer, never actually view the offer, and still complete the offer. For example, a user might receive the \"buy 10 dollars get 2 dollars off offer\", but the user never opens the offer during the 10 day validity period. The customer spends 15 dollars during those ten days. There will be an offer completion record in the data set; however, the customer was not influenced by the offer because the customer never viewed the offer.\n",
    "\n",
    "You'll also want to take into account that some demographic groups will make purchases even if they don't receive an offer. From a business perspective, if a customer is going to make a 10 dollar purchase without an offer anyway, you wouldn't want to send a buy 10 dollars get 2 dollars off offer. You'll want to try to assess what a certain demographic group will buy when not receiving any offers.\n",
    "\n",
    "### Problem Statement\n",
    "\n",
    "The primary goal of this analysis is to understand the factors that influence customer spending at Starbucks. I will also investigate the relationship between gender and customer spending. I have summaried this into 4 main questions which I will aim to answer in this notebook:\n",
    "\n",
    "1. Does gender correlate to how much someone spends at Starbucks?\n",
    "2. How many customers viewed then completed offers? And how many customers completed offers without seeing them first?\n",
    "3. Which offer type is the most likely to be completed after viewed?\n",
    "4. What are the attributes that most contribute to a customer's likelihood of completing an offer after viewing it?\n",
    "\n",
    "By addressing these questions, I aim to provide insights that can help Starbucks optimize their offers and marketing strategies to enhance customer engagement and increase revenue.\n",
    "\n",
    "### Project Strategy\n",
    "\n",
    "To address these research questions, first I will perform several analyses on the dataset. Firstly, we examined the relationship between gender and customer spending by conducting statistical tests and visualizing the distribution of spending amounts for different genders.\n",
    "\n",
    "Next, we explored the number of people who viewed and completed offers, as well as those who completed offers without opening them first. We calculated relevant metrics and created visualizations to understand the offer engagement patterns.\n",
    "\n",
    "We also investigated the completion rates of different offer types after being viewed. By analyzing the data, we determined which offer type has the highest likelihood of being completed after being viewed.\n",
    "\n",
    "Lastly, we employed feature importance techniques, such as correlation analysis and machine learning models, to identify the attributes that have the most significant impact on customer spending habits.\n",
    "\n",
    "By leveraging these analysis strategies, we aim to provide insights that can help Starbucks optimize their offers, personalize marketing campaigns, and enhance customer satisfaction.\n"
   ]
  },
  {
   "attachments": {},
   "cell_type": "markdown",
   "metadata": {},
   "source": [
    "## Data Sets\n",
    "\n",
    "The data is contained in three files:\n",
    "\n",
    "* portfolio.json - containing offer ids and meta data about each offer (duration, type, etc.)\n",
    "* profile.json - demographic data for each customer\n",
    "* transcript.json - records for transactions, offers received, offers viewed, and offers completed\n",
    "\n",
    "Here is the schema and explanation of each variable in the files:\n",
    "\n",
    "**portfolio.json**\n",
    "* id (string) - offer id\n",
    "* offer_type (string) - type of offer ie BOGO, discount, informational\n",
    "* difficulty (int) - minimum required spend to complete an offer\n",
    "* reward (int) - reward given for completing an offer\n",
    "* duration (int) - time for offer to be open, in days\n",
    "* channels (list of strings)\n",
    "\n",
    "**profile.json**\n",
    "* age (int) - age of the customer. A value of 118 represents a missing value.\n",
    "* became_member_on (int) - date when customer created an app account\n",
    "* gender (str) - gender of the customer (note some entries contain 'O' for other rather than M or F)\n",
    "* id (str) - customer id\n",
    "* income (float) - customer's income\n",
    "\n",
    "**transcript.json**\n",
    "* event (str) - record description (ie transaction, offer received, offer viewed, etc.)\n",
    "* person (str) - customer id\n",
    "* time (int) - time in hours since start of test. The data begins at time t=0\n",
    "* value - (dict of strings) - either an offer id or transaction amount depending on the record"
   ]
  },
  {
   "cell_type": "code",
   "execution_count": 179,
   "metadata": {},
   "outputs": [],
   "source": [
    "import pandas as pd\n",
    "import numpy as np\n",
    "import math\n",
    "import json\n",
    "import matplotlib.pyplot as plt\n",
    "import seaborn as sns\n",
    "import datetime\n",
    "%matplotlib inline\n",
    "\n",
    "from sklearn.model_selection import train_test_split\n",
    "from sklearn.pipeline import make_pipeline\n",
    "from sklearn.preprocessing import StandardScaler, RobustScaler\n",
    "from sklearn.linear_model import LogisticRegression\n",
    "from sklearn.svm import SVC\n",
    "from sklearn.tree import DecisionTreeClassifier\n",
    "from sklearn.feature_selection import SelectKBest, f_classif\n",
    "from sklearn.model_selection import GridSearchCV\n",
    "from sklearn.metrics import f1_score, confusion_matrix, classification_report\n",
    "\n",
    "# read in the json files\n",
    "portfolio = pd.read_json('data/portfolio.json', orient='records', lines=True)\n",
    "profile = pd.read_json('data/profile.json', orient='records', lines=True)\n",
    "transcript = pd.read_json('data/transcript.json', orient='records', lines=True)"
   ]
  },
  {
   "cell_type": "code",
   "execution_count": 89,
   "metadata": {},
   "outputs": [
    {
     "data": {
      "text/html": [
       "<div>\n",
       "<style scoped>\n",
       "    .dataframe tbody tr th:only-of-type {\n",
       "        vertical-align: middle;\n",
       "    }\n",
       "\n",
       "    .dataframe tbody tr th {\n",
       "        vertical-align: top;\n",
       "    }\n",
       "\n",
       "    .dataframe thead th {\n",
       "        text-align: right;\n",
       "    }\n",
       "</style>\n",
       "<table border=\"1\" class=\"dataframe\">\n",
       "  <thead>\n",
       "    <tr style=\"text-align: right;\">\n",
       "      <th></th>\n",
       "      <th>reward</th>\n",
       "      <th>channels</th>\n",
       "      <th>difficulty</th>\n",
       "      <th>duration</th>\n",
       "      <th>offer_type</th>\n",
       "      <th>id</th>\n",
       "    </tr>\n",
       "  </thead>\n",
       "  <tbody>\n",
       "    <tr>\n",
       "      <th>0</th>\n",
       "      <td>10</td>\n",
       "      <td>[email, mobile, social]</td>\n",
       "      <td>10</td>\n",
       "      <td>7</td>\n",
       "      <td>bogo</td>\n",
       "      <td>ae264e3637204a6fb9bb56bc8210ddfd</td>\n",
       "    </tr>\n",
       "    <tr>\n",
       "      <th>1</th>\n",
       "      <td>10</td>\n",
       "      <td>[web, email, mobile, social]</td>\n",
       "      <td>10</td>\n",
       "      <td>5</td>\n",
       "      <td>bogo</td>\n",
       "      <td>4d5c57ea9a6940dd891ad53e9dbe8da0</td>\n",
       "    </tr>\n",
       "    <tr>\n",
       "      <th>2</th>\n",
       "      <td>0</td>\n",
       "      <td>[web, email, mobile]</td>\n",
       "      <td>0</td>\n",
       "      <td>4</td>\n",
       "      <td>informational</td>\n",
       "      <td>3f207df678b143eea3cee63160fa8bed</td>\n",
       "    </tr>\n",
       "    <tr>\n",
       "      <th>3</th>\n",
       "      <td>5</td>\n",
       "      <td>[web, email, mobile]</td>\n",
       "      <td>5</td>\n",
       "      <td>7</td>\n",
       "      <td>bogo</td>\n",
       "      <td>9b98b8c7a33c4b65b9aebfe6a799e6d9</td>\n",
       "    </tr>\n",
       "    <tr>\n",
       "      <th>4</th>\n",
       "      <td>5</td>\n",
       "      <td>[web, email]</td>\n",
       "      <td>20</td>\n",
       "      <td>10</td>\n",
       "      <td>discount</td>\n",
       "      <td>0b1e1539f2cc45b7b9fa7c272da2e1d7</td>\n",
       "    </tr>\n",
       "  </tbody>\n",
       "</table>\n",
       "</div>"
      ],
      "text/plain": [
       "   reward                      channels  difficulty  duration     offer_type   \n",
       "0      10       [email, mobile, social]          10         7           bogo  \\\n",
       "1      10  [web, email, mobile, social]          10         5           bogo   \n",
       "2       0          [web, email, mobile]           0         4  informational   \n",
       "3       5          [web, email, mobile]           5         7           bogo   \n",
       "4       5                  [web, email]          20        10       discount   \n",
       "\n",
       "                                 id  \n",
       "0  ae264e3637204a6fb9bb56bc8210ddfd  \n",
       "1  4d5c57ea9a6940dd891ad53e9dbe8da0  \n",
       "2  3f207df678b143eea3cee63160fa8bed  \n",
       "3  9b98b8c7a33c4b65b9aebfe6a799e6d9  \n",
       "4  0b1e1539f2cc45b7b9fa7c272da2e1d7  "
      ]
     },
     "execution_count": 89,
     "metadata": {},
     "output_type": "execute_result"
    }
   ],
   "source": [
    "portfolio.head()"
   ]
  },
  {
   "cell_type": "code",
   "execution_count": 90,
   "metadata": {},
   "outputs": [
    {
     "data": {
      "text/html": [
       "<div>\n",
       "<style scoped>\n",
       "    .dataframe tbody tr th:only-of-type {\n",
       "        vertical-align: middle;\n",
       "    }\n",
       "\n",
       "    .dataframe tbody tr th {\n",
       "        vertical-align: top;\n",
       "    }\n",
       "\n",
       "    .dataframe thead th {\n",
       "        text-align: right;\n",
       "    }\n",
       "</style>\n",
       "<table border=\"1\" class=\"dataframe\">\n",
       "  <thead>\n",
       "    <tr style=\"text-align: right;\">\n",
       "      <th></th>\n",
       "      <th>gender</th>\n",
       "      <th>age</th>\n",
       "      <th>id</th>\n",
       "      <th>became_member_on</th>\n",
       "      <th>income</th>\n",
       "    </tr>\n",
       "  </thead>\n",
       "  <tbody>\n",
       "    <tr>\n",
       "      <th>0</th>\n",
       "      <td>None</td>\n",
       "      <td>118</td>\n",
       "      <td>68be06ca386d4c31939f3a4f0e3dd783</td>\n",
       "      <td>20170212</td>\n",
       "      <td>NaN</td>\n",
       "    </tr>\n",
       "    <tr>\n",
       "      <th>1</th>\n",
       "      <td>F</td>\n",
       "      <td>55</td>\n",
       "      <td>0610b486422d4921ae7d2bf64640c50b</td>\n",
       "      <td>20170715</td>\n",
       "      <td>112000.0</td>\n",
       "    </tr>\n",
       "    <tr>\n",
       "      <th>2</th>\n",
       "      <td>None</td>\n",
       "      <td>118</td>\n",
       "      <td>38fe809add3b4fcf9315a9694bb96ff5</td>\n",
       "      <td>20180712</td>\n",
       "      <td>NaN</td>\n",
       "    </tr>\n",
       "    <tr>\n",
       "      <th>3</th>\n",
       "      <td>F</td>\n",
       "      <td>75</td>\n",
       "      <td>78afa995795e4d85b5d9ceeca43f5fef</td>\n",
       "      <td>20170509</td>\n",
       "      <td>100000.0</td>\n",
       "    </tr>\n",
       "    <tr>\n",
       "      <th>4</th>\n",
       "      <td>None</td>\n",
       "      <td>118</td>\n",
       "      <td>a03223e636434f42ac4c3df47e8bac43</td>\n",
       "      <td>20170804</td>\n",
       "      <td>NaN</td>\n",
       "    </tr>\n",
       "  </tbody>\n",
       "</table>\n",
       "</div>"
      ],
      "text/plain": [
       "  gender  age                                id  became_member_on    income\n",
       "0   None  118  68be06ca386d4c31939f3a4f0e3dd783          20170212       NaN\n",
       "1      F   55  0610b486422d4921ae7d2bf64640c50b          20170715  112000.0\n",
       "2   None  118  38fe809add3b4fcf9315a9694bb96ff5          20180712       NaN\n",
       "3      F   75  78afa995795e4d85b5d9ceeca43f5fef          20170509  100000.0\n",
       "4   None  118  a03223e636434f42ac4c3df47e8bac43          20170804       NaN"
      ]
     },
     "execution_count": 90,
     "metadata": {},
     "output_type": "execute_result"
    }
   ],
   "source": [
    "profile.head() "
   ]
  },
  {
   "cell_type": "code",
   "execution_count": 91,
   "metadata": {},
   "outputs": [
    {
     "data": {
      "text/html": [
       "<div>\n",
       "<style scoped>\n",
       "    .dataframe tbody tr th:only-of-type {\n",
       "        vertical-align: middle;\n",
       "    }\n",
       "\n",
       "    .dataframe tbody tr th {\n",
       "        vertical-align: top;\n",
       "    }\n",
       "\n",
       "    .dataframe thead th {\n",
       "        text-align: right;\n",
       "    }\n",
       "</style>\n",
       "<table border=\"1\" class=\"dataframe\">\n",
       "  <thead>\n",
       "    <tr style=\"text-align: right;\">\n",
       "      <th></th>\n",
       "      <th>person</th>\n",
       "      <th>event</th>\n",
       "      <th>value</th>\n",
       "      <th>time</th>\n",
       "    </tr>\n",
       "  </thead>\n",
       "  <tbody>\n",
       "    <tr>\n",
       "      <th>0</th>\n",
       "      <td>78afa995795e4d85b5d9ceeca43f5fef</td>\n",
       "      <td>offer received</td>\n",
       "      <td>{'offer id': '9b98b8c7a33c4b65b9aebfe6a799e6d9'}</td>\n",
       "      <td>0</td>\n",
       "    </tr>\n",
       "    <tr>\n",
       "      <th>1</th>\n",
       "      <td>a03223e636434f42ac4c3df47e8bac43</td>\n",
       "      <td>offer received</td>\n",
       "      <td>{'offer id': '0b1e1539f2cc45b7b9fa7c272da2e1d7'}</td>\n",
       "      <td>0</td>\n",
       "    </tr>\n",
       "    <tr>\n",
       "      <th>2</th>\n",
       "      <td>e2127556f4f64592b11af22de27a7932</td>\n",
       "      <td>offer received</td>\n",
       "      <td>{'offer id': '2906b810c7d4411798c6938adc9daaa5'}</td>\n",
       "      <td>0</td>\n",
       "    </tr>\n",
       "    <tr>\n",
       "      <th>3</th>\n",
       "      <td>8ec6ce2a7e7949b1bf142def7d0e0586</td>\n",
       "      <td>offer received</td>\n",
       "      <td>{'offer id': 'fafdcd668e3743c1bb461111dcafc2a4'}</td>\n",
       "      <td>0</td>\n",
       "    </tr>\n",
       "    <tr>\n",
       "      <th>4</th>\n",
       "      <td>68617ca6246f4fbc85e91a2a49552598</td>\n",
       "      <td>offer received</td>\n",
       "      <td>{'offer id': '4d5c57ea9a6940dd891ad53e9dbe8da0'}</td>\n",
       "      <td>0</td>\n",
       "    </tr>\n",
       "  </tbody>\n",
       "</table>\n",
       "</div>"
      ],
      "text/plain": [
       "                             person           event   \n",
       "0  78afa995795e4d85b5d9ceeca43f5fef  offer received  \\\n",
       "1  a03223e636434f42ac4c3df47e8bac43  offer received   \n",
       "2  e2127556f4f64592b11af22de27a7932  offer received   \n",
       "3  8ec6ce2a7e7949b1bf142def7d0e0586  offer received   \n",
       "4  68617ca6246f4fbc85e91a2a49552598  offer received   \n",
       "\n",
       "                                              value  time  \n",
       "0  {'offer id': '9b98b8c7a33c4b65b9aebfe6a799e6d9'}     0  \n",
       "1  {'offer id': '0b1e1539f2cc45b7b9fa7c272da2e1d7'}     0  \n",
       "2  {'offer id': '2906b810c7d4411798c6938adc9daaa5'}     0  \n",
       "3  {'offer id': 'fafdcd668e3743c1bb461111dcafc2a4'}     0  \n",
       "4  {'offer id': '4d5c57ea9a6940dd891ad53e9dbe8da0'}     0  "
      ]
     },
     "execution_count": 91,
     "metadata": {},
     "output_type": "execute_result"
    }
   ],
   "source": [
    "transcript.head() "
   ]
  },
  {
   "attachments": {},
   "cell_type": "markdown",
   "metadata": {},
   "source": [
    "## Data Cleaning"
   ]
  },
  {
   "attachments": {},
   "cell_type": "markdown",
   "metadata": {},
   "source": [
    "### Portfolio Data"
   ]
  },
  {
   "cell_type": "code",
   "execution_count": 92,
   "metadata": {},
   "outputs": [
    {
     "name": "stdout",
     "output_type": "stream",
     "text": [
      "<class 'pandas.core.frame.DataFrame'>\n",
      "RangeIndex: 10 entries, 0 to 9\n",
      "Data columns (total 6 columns):\n",
      " #   Column      Non-Null Count  Dtype \n",
      "---  ------      --------------  ----- \n",
      " 0   reward      10 non-null     int64 \n",
      " 1   channels    10 non-null     object\n",
      " 2   difficulty  10 non-null     int64 \n",
      " 3   duration    10 non-null     int64 \n",
      " 4   offer_type  10 non-null     object\n",
      " 5   id          10 non-null     object\n",
      "dtypes: int64(3), object(3)\n",
      "memory usage: 608.0+ bytes\n"
     ]
    }
   ],
   "source": [
    "portfolio.info()"
   ]
  },
  {
   "cell_type": "code",
   "execution_count": 93,
   "metadata": {},
   "outputs": [
    {
     "data": {
      "text/html": [
       "<div>\n",
       "<style scoped>\n",
       "    .dataframe tbody tr th:only-of-type {\n",
       "        vertical-align: middle;\n",
       "    }\n",
       "\n",
       "    .dataframe tbody tr th {\n",
       "        vertical-align: top;\n",
       "    }\n",
       "\n",
       "    .dataframe thead th {\n",
       "        text-align: right;\n",
       "    }\n",
       "</style>\n",
       "<table border=\"1\" class=\"dataframe\">\n",
       "  <thead>\n",
       "    <tr style=\"text-align: right;\">\n",
       "      <th></th>\n",
       "      <th>reward</th>\n",
       "      <th>difficulty</th>\n",
       "      <th>duration</th>\n",
       "    </tr>\n",
       "  </thead>\n",
       "  <tbody>\n",
       "    <tr>\n",
       "      <th>count</th>\n",
       "      <td>10.000000</td>\n",
       "      <td>10.000000</td>\n",
       "      <td>10.000000</td>\n",
       "    </tr>\n",
       "    <tr>\n",
       "      <th>mean</th>\n",
       "      <td>4.200000</td>\n",
       "      <td>7.700000</td>\n",
       "      <td>6.500000</td>\n",
       "    </tr>\n",
       "    <tr>\n",
       "      <th>std</th>\n",
       "      <td>3.583915</td>\n",
       "      <td>5.831905</td>\n",
       "      <td>2.321398</td>\n",
       "    </tr>\n",
       "    <tr>\n",
       "      <th>min</th>\n",
       "      <td>0.000000</td>\n",
       "      <td>0.000000</td>\n",
       "      <td>3.000000</td>\n",
       "    </tr>\n",
       "    <tr>\n",
       "      <th>25%</th>\n",
       "      <td>2.000000</td>\n",
       "      <td>5.000000</td>\n",
       "      <td>5.000000</td>\n",
       "    </tr>\n",
       "    <tr>\n",
       "      <th>50%</th>\n",
       "      <td>4.000000</td>\n",
       "      <td>8.500000</td>\n",
       "      <td>7.000000</td>\n",
       "    </tr>\n",
       "    <tr>\n",
       "      <th>75%</th>\n",
       "      <td>5.000000</td>\n",
       "      <td>10.000000</td>\n",
       "      <td>7.000000</td>\n",
       "    </tr>\n",
       "    <tr>\n",
       "      <th>max</th>\n",
       "      <td>10.000000</td>\n",
       "      <td>20.000000</td>\n",
       "      <td>10.000000</td>\n",
       "    </tr>\n",
       "  </tbody>\n",
       "</table>\n",
       "</div>"
      ],
      "text/plain": [
       "          reward  difficulty   duration\n",
       "count  10.000000   10.000000  10.000000\n",
       "mean    4.200000    7.700000   6.500000\n",
       "std     3.583915    5.831905   2.321398\n",
       "min     0.000000    0.000000   3.000000\n",
       "25%     2.000000    5.000000   5.000000\n",
       "50%     4.000000    8.500000   7.000000\n",
       "75%     5.000000   10.000000   7.000000\n",
       "max    10.000000   20.000000  10.000000"
      ]
     },
     "execution_count": 93,
     "metadata": {},
     "output_type": "execute_result"
    }
   ],
   "source": [
    "portfolio.describe()"
   ]
  },
  {
   "cell_type": "code",
   "execution_count": 94,
   "metadata": {},
   "outputs": [
    {
     "data": {
      "text/plain": [
       "0         [email, mobile, social]\n",
       "1    [web, email, mobile, social]\n",
       "2            [web, email, mobile]\n",
       "3            [web, email, mobile]\n",
       "4                    [web, email]\n",
       "5    [web, email, mobile, social]\n",
       "6    [web, email, mobile, social]\n",
       "7         [email, mobile, social]\n",
       "8    [web, email, mobile, social]\n",
       "9            [web, email, mobile]\n",
       "Name: channels, dtype: object"
      ]
     },
     "execution_count": 94,
     "metadata": {},
     "output_type": "execute_result"
    }
   ],
   "source": [
    "portfolio['channels']"
   ]
  },
  {
   "attachments": {},
   "cell_type": "markdown",
   "metadata": {},
   "source": [
    "The _'channels'_ column seems to store a list for each offer, where the list contains values for which medium it's sent to customers. The values will need to be extracted and split up into dummy columns."
   ]
  },
  {
   "cell_type": "code",
   "execution_count": 95,
   "metadata": {},
   "outputs": [
    {
     "data": {
      "text/plain": [
       "reward        0\n",
       "channels      0\n",
       "difficulty    0\n",
       "duration      0\n",
       "offer_type    0\n",
       "id            0\n",
       "dtype: int64"
      ]
     },
     "execution_count": 95,
     "metadata": {},
     "output_type": "execute_result"
    }
   ],
   "source": [
    "# check for missing values\n",
    "portfolio.isnull().sum()"
   ]
  },
  {
   "attachments": {},
   "cell_type": "markdown",
   "metadata": {},
   "source": [
    "Steps for data cleaning:\n",
    "- convert the column _'channels'_ into 4 different dummy channel columns on the basis of different types of channel, where 1 represents a true value and 0 represents false.\n",
    "- convert the column _'offer_type'_ into 3 dummy columns on the basis of different types of offers, where 1 represents a true value and 0 represents false.\n",
    "- rename the _'id'_ column name to _'offer_id'_."
   ]
  },
  {
   "cell_type": "code",
   "execution_count": 96,
   "metadata": {},
   "outputs": [
    {
     "data": {
      "text/html": [
       "<div>\n",
       "<style scoped>\n",
       "    .dataframe tbody tr th:only-of-type {\n",
       "        vertical-align: middle;\n",
       "    }\n",
       "\n",
       "    .dataframe tbody tr th {\n",
       "        vertical-align: top;\n",
       "    }\n",
       "\n",
       "    .dataframe thead th {\n",
       "        text-align: right;\n",
       "    }\n",
       "</style>\n",
       "<table border=\"1\" class=\"dataframe\">\n",
       "  <thead>\n",
       "    <tr style=\"text-align: right;\">\n",
       "      <th></th>\n",
       "      <th>reward</th>\n",
       "      <th>difficulty</th>\n",
       "      <th>duration</th>\n",
       "      <th>offer_type</th>\n",
       "      <th>offer_id</th>\n",
       "      <th>email</th>\n",
       "      <th>mobile</th>\n",
       "      <th>social</th>\n",
       "      <th>web</th>\n",
       "      <th>bogo</th>\n",
       "      <th>discount</th>\n",
       "      <th>informational</th>\n",
       "    </tr>\n",
       "  </thead>\n",
       "  <tbody>\n",
       "    <tr>\n",
       "      <th>0</th>\n",
       "      <td>10</td>\n",
       "      <td>10</td>\n",
       "      <td>7</td>\n",
       "      <td>bogo</td>\n",
       "      <td>ae264e3637204a6fb9bb56bc8210ddfd</td>\n",
       "      <td>1</td>\n",
       "      <td>1</td>\n",
       "      <td>1</td>\n",
       "      <td>0</td>\n",
       "      <td>1</td>\n",
       "      <td>0</td>\n",
       "      <td>0</td>\n",
       "    </tr>\n",
       "    <tr>\n",
       "      <th>1</th>\n",
       "      <td>10</td>\n",
       "      <td>10</td>\n",
       "      <td>5</td>\n",
       "      <td>bogo</td>\n",
       "      <td>4d5c57ea9a6940dd891ad53e9dbe8da0</td>\n",
       "      <td>1</td>\n",
       "      <td>1</td>\n",
       "      <td>1</td>\n",
       "      <td>1</td>\n",
       "      <td>1</td>\n",
       "      <td>0</td>\n",
       "      <td>0</td>\n",
       "    </tr>\n",
       "    <tr>\n",
       "      <th>2</th>\n",
       "      <td>0</td>\n",
       "      <td>0</td>\n",
       "      <td>4</td>\n",
       "      <td>informational</td>\n",
       "      <td>3f207df678b143eea3cee63160fa8bed</td>\n",
       "      <td>1</td>\n",
       "      <td>1</td>\n",
       "      <td>0</td>\n",
       "      <td>1</td>\n",
       "      <td>0</td>\n",
       "      <td>0</td>\n",
       "      <td>1</td>\n",
       "    </tr>\n",
       "    <tr>\n",
       "      <th>3</th>\n",
       "      <td>5</td>\n",
       "      <td>5</td>\n",
       "      <td>7</td>\n",
       "      <td>bogo</td>\n",
       "      <td>9b98b8c7a33c4b65b9aebfe6a799e6d9</td>\n",
       "      <td>1</td>\n",
       "      <td>1</td>\n",
       "      <td>0</td>\n",
       "      <td>1</td>\n",
       "      <td>1</td>\n",
       "      <td>0</td>\n",
       "      <td>0</td>\n",
       "    </tr>\n",
       "    <tr>\n",
       "      <th>4</th>\n",
       "      <td>5</td>\n",
       "      <td>20</td>\n",
       "      <td>10</td>\n",
       "      <td>discount</td>\n",
       "      <td>0b1e1539f2cc45b7b9fa7c272da2e1d7</td>\n",
       "      <td>1</td>\n",
       "      <td>0</td>\n",
       "      <td>0</td>\n",
       "      <td>1</td>\n",
       "      <td>0</td>\n",
       "      <td>1</td>\n",
       "      <td>0</td>\n",
       "    </tr>\n",
       "  </tbody>\n",
       "</table>\n",
       "</div>"
      ],
      "text/plain": [
       "   reward  difficulty  duration     offer_type   \n",
       "0      10          10         7           bogo  \\\n",
       "1      10          10         5           bogo   \n",
       "2       0           0         4  informational   \n",
       "3       5           5         7           bogo   \n",
       "4       5          20        10       discount   \n",
       "\n",
       "                           offer_id  email  mobile  social  web  bogo   \n",
       "0  ae264e3637204a6fb9bb56bc8210ddfd      1       1       1    0     1  \\\n",
       "1  4d5c57ea9a6940dd891ad53e9dbe8da0      1       1       1    1     1   \n",
       "2  3f207df678b143eea3cee63160fa8bed      1       1       0    1     0   \n",
       "3  9b98b8c7a33c4b65b9aebfe6a799e6d9      1       1       0    1     1   \n",
       "4  0b1e1539f2cc45b7b9fa7c272da2e1d7      1       0       0    1     0   \n",
       "\n",
       "   discount  informational  \n",
       "0         0              0  \n",
       "1         0              0  \n",
       "2         0              1  \n",
       "3         0              0  \n",
       "4         1              0  "
      ]
     },
     "execution_count": 96,
     "metadata": {},
     "output_type": "execute_result"
    }
   ],
   "source": [
    "portfolio_clean = portfolio.copy()\n",
    "dummy_channels = pd.get_dummies(portfolio_clean['channels'].explode()).groupby(level=0).sum()\n",
    "dummy_offertype = pd.get_dummies(portfolio['offer_type']).groupby(level=0).sum()\n",
    "\n",
    "portfolio_clean = pd.concat([portfolio_clean, dummy_channels], axis=1)\n",
    "portfolio_clean = pd.concat([portfolio_clean, dummy_offertype], axis=1)\n",
    "\n",
    "portfolio_clean = portfolio_clean.drop(columns='channels')\n",
    "portfolio_clean = portfolio_clean.rename(columns={'id':'offer_id'})\n",
    "portfolio_clean.head()"
   ]
  },
  {
   "attachments": {},
   "cell_type": "markdown",
   "metadata": {},
   "source": [
    "### Profile Data"
   ]
  },
  {
   "cell_type": "code",
   "execution_count": 97,
   "metadata": {},
   "outputs": [
    {
     "name": "stdout",
     "output_type": "stream",
     "text": [
      "<class 'pandas.core.frame.DataFrame'>\n",
      "RangeIndex: 17000 entries, 0 to 16999\n",
      "Data columns (total 5 columns):\n",
      " #   Column            Non-Null Count  Dtype  \n",
      "---  ------            --------------  -----  \n",
      " 0   gender            14825 non-null  object \n",
      " 1   age               17000 non-null  int64  \n",
      " 2   id                17000 non-null  object \n",
      " 3   became_member_on  17000 non-null  int64  \n",
      " 4   income            14825 non-null  float64\n",
      "dtypes: float64(1), int64(2), object(2)\n",
      "memory usage: 664.2+ KB\n"
     ]
    }
   ],
   "source": [
    "profile.info()"
   ]
  },
  {
   "cell_type": "code",
   "execution_count": 98,
   "metadata": {},
   "outputs": [
    {
     "data": {
      "text/plain": [
       "gender              2175\n",
       "age                    0\n",
       "id                     0\n",
       "became_member_on       0\n",
       "income              2175\n",
       "dtype: int64"
      ]
     },
     "execution_count": 98,
     "metadata": {},
     "output_type": "execute_result"
    }
   ],
   "source": [
    "# check the missing values\n",
    "profile.isnull().sum()"
   ]
  },
  {
   "cell_type": "code",
   "execution_count": 99,
   "metadata": {},
   "outputs": [
    {
     "data": {
      "text/plain": [
       "12.79"
      ]
     },
     "execution_count": 99,
     "metadata": {},
     "output_type": "execute_result"
    }
   ],
   "source": [
    "# what percentage of income (and gender) data is missing?\n",
    "round(100*profile['income'].isna().sum()/profile.shape[0],2)"
   ]
  },
  {
   "attachments": {},
   "cell_type": "markdown",
   "metadata": {},
   "source": [
    "There are 2175 missing values in both the _'gender'_ and the _'income'_ columns, approximately 12.8% of the rows in the table. We'll come back to this later to investigate what to do with these missing values."
   ]
  },
  {
   "cell_type": "code",
   "execution_count": 100,
   "metadata": {},
   "outputs": [
    {
     "data": {
      "text/plain": [
       "0"
      ]
     },
     "execution_count": 100,
     "metadata": {},
     "output_type": "execute_result"
    }
   ],
   "source": [
    "# check the number of duplicated rows\n",
    "profile.duplicated(subset=['id']).sum()"
   ]
  },
  {
   "cell_type": "code",
   "execution_count": 101,
   "metadata": {},
   "outputs": [
    {
     "data": {
      "text/html": [
       "<div>\n",
       "<style scoped>\n",
       "    .dataframe tbody tr th:only-of-type {\n",
       "        vertical-align: middle;\n",
       "    }\n",
       "\n",
       "    .dataframe tbody tr th {\n",
       "        vertical-align: top;\n",
       "    }\n",
       "\n",
       "    .dataframe thead th {\n",
       "        text-align: right;\n",
       "    }\n",
       "</style>\n",
       "<table border=\"1\" class=\"dataframe\">\n",
       "  <thead>\n",
       "    <tr style=\"text-align: right;\">\n",
       "      <th></th>\n",
       "      <th>age</th>\n",
       "      <th>became_member_on</th>\n",
       "      <th>income</th>\n",
       "    </tr>\n",
       "  </thead>\n",
       "  <tbody>\n",
       "    <tr>\n",
       "      <th>count</th>\n",
       "      <td>17000.000000</td>\n",
       "      <td>1.700000e+04</td>\n",
       "      <td>14825.000000</td>\n",
       "    </tr>\n",
       "    <tr>\n",
       "      <th>mean</th>\n",
       "      <td>62.531412</td>\n",
       "      <td>2.016703e+07</td>\n",
       "      <td>65404.991568</td>\n",
       "    </tr>\n",
       "    <tr>\n",
       "      <th>std</th>\n",
       "      <td>26.738580</td>\n",
       "      <td>1.167750e+04</td>\n",
       "      <td>21598.299410</td>\n",
       "    </tr>\n",
       "    <tr>\n",
       "      <th>min</th>\n",
       "      <td>18.000000</td>\n",
       "      <td>2.013073e+07</td>\n",
       "      <td>30000.000000</td>\n",
       "    </tr>\n",
       "    <tr>\n",
       "      <th>25%</th>\n",
       "      <td>45.000000</td>\n",
       "      <td>2.016053e+07</td>\n",
       "      <td>49000.000000</td>\n",
       "    </tr>\n",
       "    <tr>\n",
       "      <th>50%</th>\n",
       "      <td>58.000000</td>\n",
       "      <td>2.017080e+07</td>\n",
       "      <td>64000.000000</td>\n",
       "    </tr>\n",
       "    <tr>\n",
       "      <th>75%</th>\n",
       "      <td>73.000000</td>\n",
       "      <td>2.017123e+07</td>\n",
       "      <td>80000.000000</td>\n",
       "    </tr>\n",
       "    <tr>\n",
       "      <th>max</th>\n",
       "      <td>118.000000</td>\n",
       "      <td>2.018073e+07</td>\n",
       "      <td>120000.000000</td>\n",
       "    </tr>\n",
       "  </tbody>\n",
       "</table>\n",
       "</div>"
      ],
      "text/plain": [
       "                age  became_member_on         income\n",
       "count  17000.000000      1.700000e+04   14825.000000\n",
       "mean      62.531412      2.016703e+07   65404.991568\n",
       "std       26.738580      1.167750e+04   21598.299410\n",
       "min       18.000000      2.013073e+07   30000.000000\n",
       "25%       45.000000      2.016053e+07   49000.000000\n",
       "50%       58.000000      2.017080e+07   64000.000000\n",
       "75%       73.000000      2.017123e+07   80000.000000\n",
       "max      118.000000      2.018073e+07  120000.000000"
      ]
     },
     "execution_count": 101,
     "metadata": {},
     "output_type": "execute_result"
    }
   ],
   "source": [
    "profile.describe()"
   ]
  },
  {
   "attachments": {},
   "cell_type": "markdown",
   "metadata": {},
   "source": [
    "Steps for data cleaning:\n",
    "- convert the data type of _'became_member_on'_ column from into to datetime.\n",
    "- change the -'id'_ column name to _'customer_id'_.\n",
    "- extract the membership year and make into a new column.\n",
    "- create a new column called _'customer_loyalty_days'_ to show how long the customer has been a member (in days).\n",
    "- make dummy columns for membership year.\n",
    "- make dummy columns for gender."
   ]
  },
  {
   "cell_type": "code",
   "execution_count": 102,
   "metadata": {},
   "outputs": [
    {
     "data": {
      "text/html": [
       "<div>\n",
       "<style scoped>\n",
       "    .dataframe tbody tr th:only-of-type {\n",
       "        vertical-align: middle;\n",
       "    }\n",
       "\n",
       "    .dataframe tbody tr th {\n",
       "        vertical-align: top;\n",
       "    }\n",
       "\n",
       "    .dataframe thead th {\n",
       "        text-align: right;\n",
       "    }\n",
       "</style>\n",
       "<table border=\"1\" class=\"dataframe\">\n",
       "  <thead>\n",
       "    <tr style=\"text-align: right;\">\n",
       "      <th></th>\n",
       "      <th>gender</th>\n",
       "      <th>age</th>\n",
       "      <th>customer_id</th>\n",
       "      <th>became_member_on</th>\n",
       "      <th>income</th>\n",
       "      <th>membership_year</th>\n",
       "      <th>customer_loyalty_days</th>\n",
       "      <th>gender_F</th>\n",
       "      <th>gender_M</th>\n",
       "      <th>gender_O</th>\n",
       "      <th>year_joined_2013</th>\n",
       "      <th>year_joined_2014</th>\n",
       "      <th>year_joined_2015</th>\n",
       "      <th>year_joined_2016</th>\n",
       "      <th>year_joined_2017</th>\n",
       "      <th>year_joined_2018</th>\n",
       "    </tr>\n",
       "  </thead>\n",
       "  <tbody>\n",
       "    <tr>\n",
       "      <th>0</th>\n",
       "      <td>None</td>\n",
       "      <td>118</td>\n",
       "      <td>68be06ca386d4c31939f3a4f0e3dd783</td>\n",
       "      <td>2017-02-12</td>\n",
       "      <td>NaN</td>\n",
       "      <td>2017</td>\n",
       "      <td>2319</td>\n",
       "      <td>0</td>\n",
       "      <td>0</td>\n",
       "      <td>0</td>\n",
       "      <td>0</td>\n",
       "      <td>0</td>\n",
       "      <td>0</td>\n",
       "      <td>0</td>\n",
       "      <td>1</td>\n",
       "      <td>0</td>\n",
       "    </tr>\n",
       "    <tr>\n",
       "      <th>1</th>\n",
       "      <td>F</td>\n",
       "      <td>55</td>\n",
       "      <td>0610b486422d4921ae7d2bf64640c50b</td>\n",
       "      <td>2017-07-15</td>\n",
       "      <td>112000.0</td>\n",
       "      <td>2017</td>\n",
       "      <td>2166</td>\n",
       "      <td>1</td>\n",
       "      <td>0</td>\n",
       "      <td>0</td>\n",
       "      <td>0</td>\n",
       "      <td>0</td>\n",
       "      <td>0</td>\n",
       "      <td>0</td>\n",
       "      <td>1</td>\n",
       "      <td>0</td>\n",
       "    </tr>\n",
       "    <tr>\n",
       "      <th>2</th>\n",
       "      <td>None</td>\n",
       "      <td>118</td>\n",
       "      <td>38fe809add3b4fcf9315a9694bb96ff5</td>\n",
       "      <td>2018-07-12</td>\n",
       "      <td>NaN</td>\n",
       "      <td>2018</td>\n",
       "      <td>1804</td>\n",
       "      <td>0</td>\n",
       "      <td>0</td>\n",
       "      <td>0</td>\n",
       "      <td>0</td>\n",
       "      <td>0</td>\n",
       "      <td>0</td>\n",
       "      <td>0</td>\n",
       "      <td>0</td>\n",
       "      <td>1</td>\n",
       "    </tr>\n",
       "    <tr>\n",
       "      <th>3</th>\n",
       "      <td>F</td>\n",
       "      <td>75</td>\n",
       "      <td>78afa995795e4d85b5d9ceeca43f5fef</td>\n",
       "      <td>2017-05-09</td>\n",
       "      <td>100000.0</td>\n",
       "      <td>2017</td>\n",
       "      <td>2233</td>\n",
       "      <td>1</td>\n",
       "      <td>0</td>\n",
       "      <td>0</td>\n",
       "      <td>0</td>\n",
       "      <td>0</td>\n",
       "      <td>0</td>\n",
       "      <td>0</td>\n",
       "      <td>1</td>\n",
       "      <td>0</td>\n",
       "    </tr>\n",
       "    <tr>\n",
       "      <th>4</th>\n",
       "      <td>None</td>\n",
       "      <td>118</td>\n",
       "      <td>a03223e636434f42ac4c3df47e8bac43</td>\n",
       "      <td>2017-08-04</td>\n",
       "      <td>NaN</td>\n",
       "      <td>2017</td>\n",
       "      <td>2146</td>\n",
       "      <td>0</td>\n",
       "      <td>0</td>\n",
       "      <td>0</td>\n",
       "      <td>0</td>\n",
       "      <td>0</td>\n",
       "      <td>0</td>\n",
       "      <td>0</td>\n",
       "      <td>1</td>\n",
       "      <td>0</td>\n",
       "    </tr>\n",
       "  </tbody>\n",
       "</table>\n",
       "</div>"
      ],
      "text/plain": [
       "  gender  age                       customer_id became_member_on    income   \n",
       "0   None  118  68be06ca386d4c31939f3a4f0e3dd783       2017-02-12       NaN  \\\n",
       "1      F   55  0610b486422d4921ae7d2bf64640c50b       2017-07-15  112000.0   \n",
       "2   None  118  38fe809add3b4fcf9315a9694bb96ff5       2018-07-12       NaN   \n",
       "3      F   75  78afa995795e4d85b5d9ceeca43f5fef       2017-05-09  100000.0   \n",
       "4   None  118  a03223e636434f42ac4c3df47e8bac43       2017-08-04       NaN   \n",
       "\n",
       "  membership_year  customer_loyalty_days  gender_F  gender_M  gender_O   \n",
       "0            2017                   2319         0         0         0  \\\n",
       "1            2017                   2166         1         0         0   \n",
       "2            2018                   1804         0         0         0   \n",
       "3            2017                   2233         1         0         0   \n",
       "4            2017                   2146         0         0         0   \n",
       "\n",
       "   year_joined_2013  year_joined_2014  year_joined_2015  year_joined_2016   \n",
       "0                 0                 0                 0                 0  \\\n",
       "1                 0                 0                 0                 0   \n",
       "2                 0                 0                 0                 0   \n",
       "3                 0                 0                 0                 0   \n",
       "4                 0                 0                 0                 0   \n",
       "\n",
       "   year_joined_2017  year_joined_2018  \n",
       "0                 1                 0  \n",
       "1                 1                 0  \n",
       "2                 0                 1  \n",
       "3                 1                 0  \n",
       "4                 1                 0  "
      ]
     },
     "execution_count": 102,
     "metadata": {},
     "output_type": "execute_result"
    }
   ],
   "source": [
    "profile_clean = profile.copy()\n",
    "profile_clean['membership_year'] = profile_clean['became_member_on'].astype(str).apply(lambda x: x[0:4])\n",
    "profile_clean['became_member_on'] = pd.to_datetime(profile_clean['became_member_on'], format='%Y%m%d')\n",
    "\n",
    "date_now = pd.to_datetime(datetime.datetime.now().date())\n",
    "profile_clean['customer_loyalty_days'] = (date_now - profile_clean['became_member_on'])\n",
    "profile_clean['customer_loyalty_days'] = profile_clean['customer_loyalty_days'].dt.days\n",
    "\n",
    "gender_dummies = profile_clean['gender'].str.get_dummies().add_prefix('gender_')\n",
    "year_joined_dummies = profile_clean['membership_year'].str.get_dummies().add_prefix('year_joined_')\n",
    "\n",
    "profile_clean = pd.concat([profile_clean, gender_dummies, year_joined_dummies], axis=1)\n",
    "profile_clean = profile_clean.rename(columns={'id':'customer_id'})\n",
    "profile_clean.head()"
   ]
  },
  {
   "cell_type": "code",
   "execution_count": 103,
   "metadata": {},
   "outputs": [
    {
     "data": {
      "text/plain": [
       "gender                   2175\n",
       "age                         0\n",
       "customer_id                 0\n",
       "became_member_on            0\n",
       "income                   2175\n",
       "membership_year             0\n",
       "customer_loyalty_days       0\n",
       "gender_F                    0\n",
       "gender_M                    0\n",
       "gender_O                    0\n",
       "year_joined_2013            0\n",
       "year_joined_2014            0\n",
       "year_joined_2015            0\n",
       "year_joined_2016            0\n",
       "year_joined_2017            0\n",
       "year_joined_2018            0\n",
       "dtype: int64"
      ]
     },
     "execution_count": 103,
     "metadata": {},
     "output_type": "execute_result"
    }
   ],
   "source": [
    "profile_missing = profile_clean[profile_clean['income'].isna()]\n",
    "profile_missing.isnull().sum()"
   ]
  },
  {
   "attachments": {},
   "cell_type": "markdown",
   "metadata": {},
   "source": [
    "It looks like all missing gender and income values are on the same rows. We'll explore the _'age'_ and _'became_member_on'_ columns for these rows."
   ]
  },
  {
   "cell_type": "code",
   "execution_count": 104,
   "metadata": {},
   "outputs": [
    {
     "data": {
      "text/html": [
       "<div>\n",
       "<style scoped>\n",
       "    .dataframe tbody tr th:only-of-type {\n",
       "        vertical-align: middle;\n",
       "    }\n",
       "\n",
       "    .dataframe tbody tr th {\n",
       "        vertical-align: top;\n",
       "    }\n",
       "\n",
       "    .dataframe thead th {\n",
       "        text-align: right;\n",
       "    }\n",
       "</style>\n",
       "<table border=\"1\" class=\"dataframe\">\n",
       "  <thead>\n",
       "    <tr style=\"text-align: right;\">\n",
       "      <th></th>\n",
       "      <th>age</th>\n",
       "      <th>became_member_on</th>\n",
       "      <th>income</th>\n",
       "      <th>customer_loyalty_days</th>\n",
       "      <th>gender_F</th>\n",
       "      <th>gender_M</th>\n",
       "      <th>gender_O</th>\n",
       "      <th>year_joined_2013</th>\n",
       "      <th>year_joined_2014</th>\n",
       "      <th>year_joined_2015</th>\n",
       "      <th>year_joined_2016</th>\n",
       "      <th>year_joined_2017</th>\n",
       "      <th>year_joined_2018</th>\n",
       "    </tr>\n",
       "  </thead>\n",
       "  <tbody>\n",
       "    <tr>\n",
       "      <th>count</th>\n",
       "      <td>2175.0</td>\n",
       "      <td>2175</td>\n",
       "      <td>0.0</td>\n",
       "      <td>2175.000000</td>\n",
       "      <td>2175.0</td>\n",
       "      <td>2175.0</td>\n",
       "      <td>2175.0</td>\n",
       "      <td>2175.000000</td>\n",
       "      <td>2175.000000</td>\n",
       "      <td>2175.000000</td>\n",
       "      <td>2175.000000</td>\n",
       "      <td>2175.000000</td>\n",
       "      <td>2175.000000</td>\n",
       "    </tr>\n",
       "    <tr>\n",
       "      <th>mean</th>\n",
       "      <td>118.0</td>\n",
       "      <td>2017-03-29 19:53:42.620689920</td>\n",
       "      <td>NaN</td>\n",
       "      <td>2273.171034</td>\n",
       "      <td>0.0</td>\n",
       "      <td>0.0</td>\n",
       "      <td>0.0</td>\n",
       "      <td>0.005517</td>\n",
       "      <td>0.013333</td>\n",
       "      <td>0.107126</td>\n",
       "      <td>0.230805</td>\n",
       "      <td>0.400000</td>\n",
       "      <td>0.243218</td>\n",
       "    </tr>\n",
       "    <tr>\n",
       "      <th>min</th>\n",
       "      <td>118.0</td>\n",
       "      <td>2013-08-02 00:00:00</td>\n",
       "      <td>NaN</td>\n",
       "      <td>1790.000000</td>\n",
       "      <td>0.0</td>\n",
       "      <td>0.0</td>\n",
       "      <td>0.0</td>\n",
       "      <td>0.000000</td>\n",
       "      <td>0.000000</td>\n",
       "      <td>0.000000</td>\n",
       "      <td>0.000000</td>\n",
       "      <td>0.000000</td>\n",
       "      <td>0.000000</td>\n",
       "    </tr>\n",
       "    <tr>\n",
       "      <th>25%</th>\n",
       "      <td>118.0</td>\n",
       "      <td>2016-07-04 12:00:00</td>\n",
       "      <td>NaN</td>\n",
       "      <td>2002.000000</td>\n",
       "      <td>0.0</td>\n",
       "      <td>0.0</td>\n",
       "      <td>0.0</td>\n",
       "      <td>0.000000</td>\n",
       "      <td>0.000000</td>\n",
       "      <td>0.000000</td>\n",
       "      <td>0.000000</td>\n",
       "      <td>0.000000</td>\n",
       "      <td>0.000000</td>\n",
       "    </tr>\n",
       "    <tr>\n",
       "      <th>50%</th>\n",
       "      <td>118.0</td>\n",
       "      <td>2017-07-31 00:00:00</td>\n",
       "      <td>NaN</td>\n",
       "      <td>2150.000000</td>\n",
       "      <td>0.0</td>\n",
       "      <td>0.0</td>\n",
       "      <td>0.0</td>\n",
       "      <td>0.000000</td>\n",
       "      <td>0.000000</td>\n",
       "      <td>0.000000</td>\n",
       "      <td>0.000000</td>\n",
       "      <td>0.000000</td>\n",
       "      <td>0.000000</td>\n",
       "    </tr>\n",
       "    <tr>\n",
       "      <th>75%</th>\n",
       "      <td>118.0</td>\n",
       "      <td>2017-12-26 00:00:00</td>\n",
       "      <td>NaN</td>\n",
       "      <td>2541.500000</td>\n",
       "      <td>0.0</td>\n",
       "      <td>0.0</td>\n",
       "      <td>0.0</td>\n",
       "      <td>0.000000</td>\n",
       "      <td>0.000000</td>\n",
       "      <td>0.000000</td>\n",
       "      <td>0.000000</td>\n",
       "      <td>1.000000</td>\n",
       "      <td>0.000000</td>\n",
       "    </tr>\n",
       "    <tr>\n",
       "      <th>max</th>\n",
       "      <td>118.0</td>\n",
       "      <td>2018-07-26 00:00:00</td>\n",
       "      <td>NaN</td>\n",
       "      <td>3609.000000</td>\n",
       "      <td>0.0</td>\n",
       "      <td>0.0</td>\n",
       "      <td>0.0</td>\n",
       "      <td>1.000000</td>\n",
       "      <td>1.000000</td>\n",
       "      <td>1.000000</td>\n",
       "      <td>1.000000</td>\n",
       "      <td>1.000000</td>\n",
       "      <td>1.000000</td>\n",
       "    </tr>\n",
       "    <tr>\n",
       "      <th>std</th>\n",
       "      <td>0.0</td>\n",
       "      <td>NaN</td>\n",
       "      <td>NaN</td>\n",
       "      <td>350.201317</td>\n",
       "      <td>0.0</td>\n",
       "      <td>0.0</td>\n",
       "      <td>0.0</td>\n",
       "      <td>0.074090</td>\n",
       "      <td>0.114724</td>\n",
       "      <td>0.309345</td>\n",
       "      <td>0.421445</td>\n",
       "      <td>0.490011</td>\n",
       "      <td>0.429125</td>\n",
       "    </tr>\n",
       "  </tbody>\n",
       "</table>\n",
       "</div>"
      ],
      "text/plain": [
       "          age               became_member_on  income  customer_loyalty_days   \n",
       "count  2175.0                           2175     0.0            2175.000000  \\\n",
       "mean    118.0  2017-03-29 19:53:42.620689920     NaN            2273.171034   \n",
       "min     118.0            2013-08-02 00:00:00     NaN            1790.000000   \n",
       "25%     118.0            2016-07-04 12:00:00     NaN            2002.000000   \n",
       "50%     118.0            2017-07-31 00:00:00     NaN            2150.000000   \n",
       "75%     118.0            2017-12-26 00:00:00     NaN            2541.500000   \n",
       "max     118.0            2018-07-26 00:00:00     NaN            3609.000000   \n",
       "std       0.0                            NaN     NaN             350.201317   \n",
       "\n",
       "       gender_F  gender_M  gender_O  year_joined_2013  year_joined_2014   \n",
       "count    2175.0    2175.0    2175.0       2175.000000       2175.000000  \\\n",
       "mean        0.0       0.0       0.0          0.005517          0.013333   \n",
       "min         0.0       0.0       0.0          0.000000          0.000000   \n",
       "25%         0.0       0.0       0.0          0.000000          0.000000   \n",
       "50%         0.0       0.0       0.0          0.000000          0.000000   \n",
       "75%         0.0       0.0       0.0          0.000000          0.000000   \n",
       "max         0.0       0.0       0.0          1.000000          1.000000   \n",
       "std         0.0       0.0       0.0          0.074090          0.114724   \n",
       "\n",
       "       year_joined_2015  year_joined_2016  year_joined_2017  year_joined_2018  \n",
       "count       2175.000000       2175.000000       2175.000000       2175.000000  \n",
       "mean           0.107126          0.230805          0.400000          0.243218  \n",
       "min            0.000000          0.000000          0.000000          0.000000  \n",
       "25%            0.000000          0.000000          0.000000          0.000000  \n",
       "50%            0.000000          0.000000          0.000000          0.000000  \n",
       "75%            0.000000          0.000000          1.000000          0.000000  \n",
       "max            1.000000          1.000000          1.000000          1.000000  \n",
       "std            0.309345          0.421445          0.490011          0.429125  "
      ]
     },
     "execution_count": 104,
     "metadata": {},
     "output_type": "execute_result"
    }
   ],
   "source": [
    "profile_missing.describe()"
   ]
  },
  {
   "cell_type": "code",
   "execution_count": 105,
   "metadata": {},
   "outputs": [
    {
     "data": {
      "text/plain": [
       "gender                      0\n",
       "age                      2175\n",
       "customer_id              2175\n",
       "became_member_on         2175\n",
       "income                      0\n",
       "membership_year          2175\n",
       "customer_loyalty_days    2175\n",
       "gender_F                 2175\n",
       "gender_M                 2175\n",
       "gender_O                 2175\n",
       "year_joined_2013         2175\n",
       "year_joined_2014         2175\n",
       "year_joined_2015         2175\n",
       "year_joined_2016         2175\n",
       "year_joined_2017         2175\n",
       "year_joined_2018         2175\n",
       "dtype: int64"
      ]
     },
     "execution_count": 105,
     "metadata": {},
     "output_type": "execute_result"
    }
   ],
   "source": [
    "profile_clean[profile_clean['age'] == 118].count()"
   ]
  },
  {
   "attachments": {},
   "cell_type": "markdown",
   "metadata": {},
   "source": [
    "The _'age'_ column only has values of 118 for the rows with missing gender and income values. This also means that the age is also missing for these customers so these rows will not be useful for demographic exploratory analysis as the only demographic information that we have is when they became a member. We will drop them later, after merging with other datasets as we'll need to know the customer_id number for ones to drop."
   ]
  },
  {
   "attachments": {},
   "cell_type": "markdown",
   "metadata": {},
   "source": [
    "### Transcript Data"
   ]
  },
  {
   "cell_type": "code",
   "execution_count": 106,
   "metadata": {},
   "outputs": [
    {
     "name": "stdout",
     "output_type": "stream",
     "text": [
      "<class 'pandas.core.frame.DataFrame'>\n",
      "RangeIndex: 306534 entries, 0 to 306533\n",
      "Data columns (total 4 columns):\n",
      " #   Column  Non-Null Count   Dtype \n",
      "---  ------  --------------   ----- \n",
      " 0   person  306534 non-null  object\n",
      " 1   event   306534 non-null  object\n",
      " 2   value   306534 non-null  object\n",
      " 3   time    306534 non-null  int64 \n",
      "dtypes: int64(1), object(3)\n",
      "memory usage: 9.4+ MB\n"
     ]
    }
   ],
   "source": [
    "transcript.info()"
   ]
  },
  {
   "cell_type": "code",
   "execution_count": 107,
   "metadata": {},
   "outputs": [
    {
     "data": {
      "text/html": [
       "<div>\n",
       "<style scoped>\n",
       "    .dataframe tbody tr th:only-of-type {\n",
       "        vertical-align: middle;\n",
       "    }\n",
       "\n",
       "    .dataframe tbody tr th {\n",
       "        vertical-align: top;\n",
       "    }\n",
       "\n",
       "    .dataframe thead th {\n",
       "        text-align: right;\n",
       "    }\n",
       "</style>\n",
       "<table border=\"1\" class=\"dataframe\">\n",
       "  <thead>\n",
       "    <tr style=\"text-align: right;\">\n",
       "      <th></th>\n",
       "      <th>time</th>\n",
       "    </tr>\n",
       "  </thead>\n",
       "  <tbody>\n",
       "    <tr>\n",
       "      <th>count</th>\n",
       "      <td>306534.000000</td>\n",
       "    </tr>\n",
       "    <tr>\n",
       "      <th>mean</th>\n",
       "      <td>366.382940</td>\n",
       "    </tr>\n",
       "    <tr>\n",
       "      <th>std</th>\n",
       "      <td>200.326314</td>\n",
       "    </tr>\n",
       "    <tr>\n",
       "      <th>min</th>\n",
       "      <td>0.000000</td>\n",
       "    </tr>\n",
       "    <tr>\n",
       "      <th>25%</th>\n",
       "      <td>186.000000</td>\n",
       "    </tr>\n",
       "    <tr>\n",
       "      <th>50%</th>\n",
       "      <td>408.000000</td>\n",
       "    </tr>\n",
       "    <tr>\n",
       "      <th>75%</th>\n",
       "      <td>528.000000</td>\n",
       "    </tr>\n",
       "    <tr>\n",
       "      <th>max</th>\n",
       "      <td>714.000000</td>\n",
       "    </tr>\n",
       "  </tbody>\n",
       "</table>\n",
       "</div>"
      ],
      "text/plain": [
       "                time\n",
       "count  306534.000000\n",
       "mean      366.382940\n",
       "std       200.326314\n",
       "min         0.000000\n",
       "25%       186.000000\n",
       "50%       408.000000\n",
       "75%       528.000000\n",
       "max       714.000000"
      ]
     },
     "execution_count": 107,
     "metadata": {},
     "output_type": "execute_result"
    }
   ],
   "source": [
    "transcript.describe()"
   ]
  },
  {
   "cell_type": "code",
   "execution_count": 108,
   "metadata": {},
   "outputs": [
    {
     "data": {
      "text/plain": [
       "person    0\n",
       "event     0\n",
       "value     0\n",
       "time      0\n",
       "dtype: int64"
      ]
     },
     "execution_count": 108,
     "metadata": {},
     "output_type": "execute_result"
    }
   ],
   "source": [
    "# check for missing values\n",
    "transcript.isnull().sum()"
   ]
  },
  {
   "cell_type": "code",
   "execution_count": 186,
   "metadata": {},
   "outputs": [
    {
     "data": {
      "text/plain": [
       "{'transaction': 138953,\n",
       " 'offer received': 76277,\n",
       " 'offer viewed': 57725,\n",
       " 'offer completed': 33579}"
      ]
     },
     "execution_count": 186,
     "metadata": {},
     "output_type": "execute_result"
    }
   ],
   "source": [
    "offer_status_dict = dict(transcript['event'].value_counts())\n",
    "offer_status_dict"
   ]
  },
  {
   "cell_type": "code",
   "execution_count": 191,
   "metadata": {},
   "outputs": [
    {
     "data": {
      "text/plain": [
       "45.33037118231583"
      ]
     },
     "execution_count": 191,
     "metadata": {},
     "output_type": "execute_result"
    }
   ],
   "source": [
    "# proportion of transactional data\n",
    "100*offer_status_dict['transaction']/transcript.shape[0]"
   ]
  },
  {
   "cell_type": "code",
   "execution_count": 188,
   "metadata": {},
   "outputs": [
    {
     "data": {
      "text/plain": [
       "44.02244451145168"
      ]
     },
     "execution_count": 188,
     "metadata": {},
     "output_type": "execute_result"
    }
   ],
   "source": [
    "# proportion  of offers completed\n",
    "100*offer_status_dict['offer completed']/offer_status_dict['offer received']"
   ]
  },
  {
   "attachments": {},
   "cell_type": "markdown",
   "metadata": {},
   "source": [
    "Most rows (45%) in the transcript dataset hold transactional data for customers. We can also see that only 44% of offers received were completed.\n",
    "\n",
    "Now we'll look more into _'event'_ column in the dataset, which we know stores a dictionary."
   ]
  },
  {
   "cell_type": "code",
   "execution_count": 110,
   "metadata": {},
   "outputs": [
    {
     "data": {
      "text/plain": [
       "0         {'offer id': '9b98b8c7a33c4b65b9aebfe6a799e6d9'}\n",
       "1         {'offer id': '0b1e1539f2cc45b7b9fa7c272da2e1d7'}\n",
       "2         {'offer id': '2906b810c7d4411798c6938adc9daaa5'}\n",
       "3         {'offer id': 'fafdcd668e3743c1bb461111dcafc2a4'}\n",
       "4         {'offer id': '4d5c57ea9a6940dd891ad53e9dbe8da0'}\n",
       "                                ...                       \n",
       "257882    {'offer id': 'ae264e3637204a6fb9bb56bc8210ddfd'}\n",
       "257883    {'offer id': '2906b810c7d4411798c6938adc9daaa5'}\n",
       "257884    {'offer id': '2298d6c36e964ae4a3e7e9706d1fb8c2'}\n",
       "257885    {'offer id': 'ae264e3637204a6fb9bb56bc8210ddfd'}\n",
       "257886    {'offer id': '3f207df678b143eea3cee63160fa8bed'}\n",
       "Name: value, Length: 76277, dtype: object"
      ]
     },
     "execution_count": 110,
     "metadata": {},
     "output_type": "execute_result"
    }
   ],
   "source": [
    "transcript[transcript['event'] == 'offer received']['value']"
   ]
  },
  {
   "cell_type": "code",
   "execution_count": 111,
   "metadata": {},
   "outputs": [
    {
     "data": {
      "text/plain": [
       "12650     {'offer id': 'f19421c1d4aa40978ebb69ca19b0e20d'}\n",
       "12651     {'offer id': '5a8bc65990b245e5a138643cd4eb9837'}\n",
       "12652     {'offer id': '4d5c57ea9a6940dd891ad53e9dbe8da0'}\n",
       "12653     {'offer id': 'ae264e3637204a6fb9bb56bc8210ddfd'}\n",
       "12655     {'offer id': '5a8bc65990b245e5a138643cd4eb9837'}\n",
       "                                ...                       \n",
       "306441    {'offer id': '5a8bc65990b245e5a138643cd4eb9837'}\n",
       "306450    {'offer id': '3f207df678b143eea3cee63160fa8bed'}\n",
       "306483    {'offer id': '5a8bc65990b245e5a138643cd4eb9837'}\n",
       "306490    {'offer id': '3f207df678b143eea3cee63160fa8bed'}\n",
       "306507    {'offer id': '0b1e1539f2cc45b7b9fa7c272da2e1d7'}\n",
       "Name: value, Length: 57725, dtype: object"
      ]
     },
     "execution_count": 111,
     "metadata": {},
     "output_type": "execute_result"
    }
   ],
   "source": [
    "transcript[transcript['event'] == 'offer viewed']['value']"
   ]
  },
  {
   "cell_type": "code",
   "execution_count": 112,
   "metadata": {},
   "outputs": [
    {
     "data": {
      "text/plain": [
       "12654     {'amount': 0.8300000000000001}\n",
       "12657                  {'amount': 34.56}\n",
       "12659                  {'amount': 13.23}\n",
       "12670                  {'amount': 19.51}\n",
       "12671                  {'amount': 18.97}\n",
       "                       ...              \n",
       "306529    {'amount': 1.5899999999999999}\n",
       "306530                  {'amount': 9.53}\n",
       "306531                  {'amount': 3.61}\n",
       "306532    {'amount': 3.5300000000000002}\n",
       "306533                  {'amount': 4.05}\n",
       "Name: value, Length: 138953, dtype: object"
      ]
     },
     "execution_count": 112,
     "metadata": {},
     "output_type": "execute_result"
    }
   ],
   "source": [
    "transcript[transcript['event'] == 'transaction']['value']"
   ]
  },
  {
   "cell_type": "code",
   "execution_count": 113,
   "metadata": {},
   "outputs": [
    {
     "data": {
      "text/plain": [
       "12658     {'offer_id': '2906b810c7d4411798c6938adc9daaa5...\n",
       "12672     {'offer_id': 'fafdcd668e3743c1bb461111dcafc2a4...\n",
       "12679     {'offer_id': '9b98b8c7a33c4b65b9aebfe6a799e6d9...\n",
       "12692     {'offer_id': 'ae264e3637204a6fb9bb56bc8210ddfd...\n",
       "12697     {'offer_id': '4d5c57ea9a6940dd891ad53e9dbe8da0...\n",
       "                                ...                        \n",
       "306475    {'offer_id': '2298d6c36e964ae4a3e7e9706d1fb8c2...\n",
       "306497    {'offer_id': '2298d6c36e964ae4a3e7e9706d1fb8c2...\n",
       "306506    {'offer_id': 'fafdcd668e3743c1bb461111dcafc2a4...\n",
       "306509    {'offer_id': 'fafdcd668e3743c1bb461111dcafc2a4...\n",
       "306527    {'offer_id': 'fafdcd668e3743c1bb461111dcafc2a4...\n",
       "Name: value, Length: 33579, dtype: object"
      ]
     },
     "execution_count": 113,
     "metadata": {},
     "output_type": "execute_result"
    }
   ],
   "source": [
    "transcript[transcript['event'] == 'offer completed']['value']"
   ]
  },
  {
   "cell_type": "code",
   "execution_count": 114,
   "metadata": {},
   "outputs": [
    {
     "data": {
      "text/plain": [
       "{'offer_id': '2906b810c7d4411798c6938adc9daaa5', 'reward': 2}"
      ]
     },
     "execution_count": 114,
     "metadata": {},
     "output_type": "execute_result"
    }
   ],
   "source": [
    "transcript[transcript['event'] == 'offer completed']['value'].iloc[0]"
   ]
  },
  {
   "attachments": {},
   "cell_type": "markdown",
   "metadata": {},
   "source": [
    "We can see that for 'offer recieved' and 'offer viewed', the dictionary holds offer id information. When the event is 'transaction', the dictionary stores transaction amount data, and finally for 'offer completed', the dictionary has offer id again (although the space has been replaced with an underscore) and a reward value. The values in these dictionaries will need to be extracted and stored in separate columns depending on the dictionary key."
   ]
  },
  {
   "attachments": {},
   "cell_type": "markdown",
   "metadata": {},
   "source": [
    "Steps for data cleaning:\n",
    "- change the _'person'_ column name to _'customer_id'_.\n",
    "- convert the column _'event'_ into 4 different dummy columns on the basis of different types of event.\n",
    "- convert the column _'values'_ into 3 different columns which hold the dictionary values."
   ]
  },
  {
   "cell_type": "code",
   "execution_count": 115,
   "metadata": {},
   "outputs": [
    {
     "data": {
      "text/html": [
       "<div>\n",
       "<style scoped>\n",
       "    .dataframe tbody tr th:only-of-type {\n",
       "        vertical-align: middle;\n",
       "    }\n",
       "\n",
       "    .dataframe tbody tr th {\n",
       "        vertical-align: top;\n",
       "    }\n",
       "\n",
       "    .dataframe thead th {\n",
       "        text-align: right;\n",
       "    }\n",
       "</style>\n",
       "<table border=\"1\" class=\"dataframe\">\n",
       "  <thead>\n",
       "    <tr style=\"text-align: right;\">\n",
       "      <th></th>\n",
       "      <th>customer_id</th>\n",
       "      <th>event</th>\n",
       "      <th>value</th>\n",
       "      <th>time</th>\n",
       "      <th>offer-completed</th>\n",
       "      <th>offer-received</th>\n",
       "      <th>offer-viewed</th>\n",
       "      <th>transaction</th>\n",
       "    </tr>\n",
       "  </thead>\n",
       "  <tbody>\n",
       "    <tr>\n",
       "      <th>0</th>\n",
       "      <td>78afa995795e4d85b5d9ceeca43f5fef</td>\n",
       "      <td>offer-received</td>\n",
       "      <td>{'offer id': '9b98b8c7a33c4b65b9aebfe6a799e6d9'}</td>\n",
       "      <td>0</td>\n",
       "      <td>0</td>\n",
       "      <td>1</td>\n",
       "      <td>0</td>\n",
       "      <td>0</td>\n",
       "    </tr>\n",
       "    <tr>\n",
       "      <th>1</th>\n",
       "      <td>a03223e636434f42ac4c3df47e8bac43</td>\n",
       "      <td>offer-received</td>\n",
       "      <td>{'offer id': '0b1e1539f2cc45b7b9fa7c272da2e1d7'}</td>\n",
       "      <td>0</td>\n",
       "      <td>0</td>\n",
       "      <td>1</td>\n",
       "      <td>0</td>\n",
       "      <td>0</td>\n",
       "    </tr>\n",
       "    <tr>\n",
       "      <th>2</th>\n",
       "      <td>e2127556f4f64592b11af22de27a7932</td>\n",
       "      <td>offer-received</td>\n",
       "      <td>{'offer id': '2906b810c7d4411798c6938adc9daaa5'}</td>\n",
       "      <td>0</td>\n",
       "      <td>0</td>\n",
       "      <td>1</td>\n",
       "      <td>0</td>\n",
       "      <td>0</td>\n",
       "    </tr>\n",
       "    <tr>\n",
       "      <th>3</th>\n",
       "      <td>8ec6ce2a7e7949b1bf142def7d0e0586</td>\n",
       "      <td>offer-received</td>\n",
       "      <td>{'offer id': 'fafdcd668e3743c1bb461111dcafc2a4'}</td>\n",
       "      <td>0</td>\n",
       "      <td>0</td>\n",
       "      <td>1</td>\n",
       "      <td>0</td>\n",
       "      <td>0</td>\n",
       "    </tr>\n",
       "    <tr>\n",
       "      <th>4</th>\n",
       "      <td>68617ca6246f4fbc85e91a2a49552598</td>\n",
       "      <td>offer-received</td>\n",
       "      <td>{'offer id': '4d5c57ea9a6940dd891ad53e9dbe8da0'}</td>\n",
       "      <td>0</td>\n",
       "      <td>0</td>\n",
       "      <td>1</td>\n",
       "      <td>0</td>\n",
       "      <td>0</td>\n",
       "    </tr>\n",
       "  </tbody>\n",
       "</table>\n",
       "</div>"
      ],
      "text/plain": [
       "                        customer_id           event   \n",
       "0  78afa995795e4d85b5d9ceeca43f5fef  offer-received  \\\n",
       "1  a03223e636434f42ac4c3df47e8bac43  offer-received   \n",
       "2  e2127556f4f64592b11af22de27a7932  offer-received   \n",
       "3  8ec6ce2a7e7949b1bf142def7d0e0586  offer-received   \n",
       "4  68617ca6246f4fbc85e91a2a49552598  offer-received   \n",
       "\n",
       "                                              value  time  offer-completed   \n",
       "0  {'offer id': '9b98b8c7a33c4b65b9aebfe6a799e6d9'}     0                0  \\\n",
       "1  {'offer id': '0b1e1539f2cc45b7b9fa7c272da2e1d7'}     0                0   \n",
       "2  {'offer id': '2906b810c7d4411798c6938adc9daaa5'}     0                0   \n",
       "3  {'offer id': 'fafdcd668e3743c1bb461111dcafc2a4'}     0                0   \n",
       "4  {'offer id': '4d5c57ea9a6940dd891ad53e9dbe8da0'}     0                0   \n",
       "\n",
       "   offer-received  offer-viewed  transaction  \n",
       "0               1             0            0  \n",
       "1               1             0            0  \n",
       "2               1             0            0  \n",
       "3               1             0            0  \n",
       "4               1             0            0  "
      ]
     },
     "execution_count": 115,
     "metadata": {},
     "output_type": "execute_result"
    }
   ],
   "source": [
    "transcript_clean = transcript.copy()\n",
    "\n",
    "transcript_clean = transcript_clean.rename(columns={'person':'customer_id'})\n",
    "transcript_clean['event'] = transcript_clean['event'].str.replace(' ', '-')\n",
    "dummy = pd.get_dummies(transcript_clean['event'])\n",
    "dummy.replace({False: 0, True: 1}, inplace=True)\n",
    "\n",
    "transcript_clean = pd.concat([transcript_clean, dummy], axis=1)\n",
    "transcript_clean.head()"
   ]
  },
  {
   "cell_type": "code",
   "execution_count": 116,
   "metadata": {},
   "outputs": [],
   "source": [
    "def offer_dict(value):\n",
    "    if 'offer_id' in value:\n",
    "        return value['offer_id']\n",
    "    if 'offer id' in value:\n",
    "        return value['offer id']\n",
    "    else:\n",
    "        return np.NaN\n",
    "\n",
    "transcript_clean['offer_id'] = transcript_clean['value'].map(offer_dict)"
   ]
  },
  {
   "cell_type": "code",
   "execution_count": 117,
   "metadata": {},
   "outputs": [],
   "source": [
    "def amount_dict(value):\n",
    "    if 'amount' in value:\n",
    "        return value['amount']\n",
    "    else:\n",
    "        return np.NaN\n",
    "    \n",
    "transcript_clean['amount'] = transcript_clean['value'].map(amount_dict)"
   ]
  },
  {
   "cell_type": "code",
   "execution_count": 118,
   "metadata": {},
   "outputs": [],
   "source": [
    "def reward_dict(value):\n",
    "    if 'reward' in value:\n",
    "        return value['reward']\n",
    "    else:\n",
    "        return np.NaN\n",
    "    \n",
    "transcript_clean['reward'] = transcript_clean['value'].map(reward_dict)"
   ]
  },
  {
   "cell_type": "code",
   "execution_count": 119,
   "metadata": {},
   "outputs": [],
   "source": [
    "transcript_clean.drop(columns=['value'], inplace=True)"
   ]
  },
  {
   "cell_type": "code",
   "execution_count": 120,
   "metadata": {},
   "outputs": [
    {
     "data": {
      "text/html": [
       "<div>\n",
       "<style scoped>\n",
       "    .dataframe tbody tr th:only-of-type {\n",
       "        vertical-align: middle;\n",
       "    }\n",
       "\n",
       "    .dataframe tbody tr th {\n",
       "        vertical-align: top;\n",
       "    }\n",
       "\n",
       "    .dataframe thead th {\n",
       "        text-align: right;\n",
       "    }\n",
       "</style>\n",
       "<table border=\"1\" class=\"dataframe\">\n",
       "  <thead>\n",
       "    <tr style=\"text-align: right;\">\n",
       "      <th></th>\n",
       "      <th>customer_id</th>\n",
       "      <th>event</th>\n",
       "      <th>time</th>\n",
       "      <th>offer-completed</th>\n",
       "      <th>offer-received</th>\n",
       "      <th>offer-viewed</th>\n",
       "      <th>transaction</th>\n",
       "      <th>offer_id</th>\n",
       "      <th>amount</th>\n",
       "      <th>reward</th>\n",
       "    </tr>\n",
       "  </thead>\n",
       "  <tbody>\n",
       "    <tr>\n",
       "      <th>0</th>\n",
       "      <td>78afa995795e4d85b5d9ceeca43f5fef</td>\n",
       "      <td>offer-received</td>\n",
       "      <td>0</td>\n",
       "      <td>0</td>\n",
       "      <td>1</td>\n",
       "      <td>0</td>\n",
       "      <td>0</td>\n",
       "      <td>9b98b8c7a33c4b65b9aebfe6a799e6d9</td>\n",
       "      <td>NaN</td>\n",
       "      <td>NaN</td>\n",
       "    </tr>\n",
       "    <tr>\n",
       "      <th>1</th>\n",
       "      <td>a03223e636434f42ac4c3df47e8bac43</td>\n",
       "      <td>offer-received</td>\n",
       "      <td>0</td>\n",
       "      <td>0</td>\n",
       "      <td>1</td>\n",
       "      <td>0</td>\n",
       "      <td>0</td>\n",
       "      <td>0b1e1539f2cc45b7b9fa7c272da2e1d7</td>\n",
       "      <td>NaN</td>\n",
       "      <td>NaN</td>\n",
       "    </tr>\n",
       "    <tr>\n",
       "      <th>2</th>\n",
       "      <td>e2127556f4f64592b11af22de27a7932</td>\n",
       "      <td>offer-received</td>\n",
       "      <td>0</td>\n",
       "      <td>0</td>\n",
       "      <td>1</td>\n",
       "      <td>0</td>\n",
       "      <td>0</td>\n",
       "      <td>2906b810c7d4411798c6938adc9daaa5</td>\n",
       "      <td>NaN</td>\n",
       "      <td>NaN</td>\n",
       "    </tr>\n",
       "    <tr>\n",
       "      <th>3</th>\n",
       "      <td>8ec6ce2a7e7949b1bf142def7d0e0586</td>\n",
       "      <td>offer-received</td>\n",
       "      <td>0</td>\n",
       "      <td>0</td>\n",
       "      <td>1</td>\n",
       "      <td>0</td>\n",
       "      <td>0</td>\n",
       "      <td>fafdcd668e3743c1bb461111dcafc2a4</td>\n",
       "      <td>NaN</td>\n",
       "      <td>NaN</td>\n",
       "    </tr>\n",
       "    <tr>\n",
       "      <th>4</th>\n",
       "      <td>68617ca6246f4fbc85e91a2a49552598</td>\n",
       "      <td>offer-received</td>\n",
       "      <td>0</td>\n",
       "      <td>0</td>\n",
       "      <td>1</td>\n",
       "      <td>0</td>\n",
       "      <td>0</td>\n",
       "      <td>4d5c57ea9a6940dd891ad53e9dbe8da0</td>\n",
       "      <td>NaN</td>\n",
       "      <td>NaN</td>\n",
       "    </tr>\n",
       "  </tbody>\n",
       "</table>\n",
       "</div>"
      ],
      "text/plain": [
       "                        customer_id           event  time  offer-completed   \n",
       "0  78afa995795e4d85b5d9ceeca43f5fef  offer-received     0                0  \\\n",
       "1  a03223e636434f42ac4c3df47e8bac43  offer-received     0                0   \n",
       "2  e2127556f4f64592b11af22de27a7932  offer-received     0                0   \n",
       "3  8ec6ce2a7e7949b1bf142def7d0e0586  offer-received     0                0   \n",
       "4  68617ca6246f4fbc85e91a2a49552598  offer-received     0                0   \n",
       "\n",
       "   offer-received  offer-viewed  transaction   \n",
       "0               1             0            0  \\\n",
       "1               1             0            0   \n",
       "2               1             0            0   \n",
       "3               1             0            0   \n",
       "4               1             0            0   \n",
       "\n",
       "                           offer_id  amount  reward  \n",
       "0  9b98b8c7a33c4b65b9aebfe6a799e6d9     NaN     NaN  \n",
       "1  0b1e1539f2cc45b7b9fa7c272da2e1d7     NaN     NaN  \n",
       "2  2906b810c7d4411798c6938adc9daaa5     NaN     NaN  \n",
       "3  fafdcd668e3743c1bb461111dcafc2a4     NaN     NaN  \n",
       "4  4d5c57ea9a6940dd891ad53e9dbe8da0     NaN     NaN  "
      ]
     },
     "execution_count": 120,
     "metadata": {},
     "output_type": "execute_result"
    }
   ],
   "source": [
    "transcript_clean.head()"
   ]
  },
  {
   "attachments": {},
   "cell_type": "markdown",
   "metadata": {},
   "source": [
    "### Merge data"
   ]
  },
  {
   "attachments": {},
   "cell_type": "markdown",
   "metadata": {},
   "source": [
    "- Join all three cleaned datasets together on customer id and ofer id."
   ]
  },
  {
   "cell_type": "code",
   "execution_count": 121,
   "metadata": {},
   "outputs": [
    {
     "data": {
      "text/html": [
       "<div>\n",
       "<style scoped>\n",
       "    .dataframe tbody tr th:only-of-type {\n",
       "        vertical-align: middle;\n",
       "    }\n",
       "\n",
       "    .dataframe tbody tr th {\n",
       "        vertical-align: top;\n",
       "    }\n",
       "\n",
       "    .dataframe thead th {\n",
       "        text-align: right;\n",
       "    }\n",
       "</style>\n",
       "<table border=\"1\" class=\"dataframe\">\n",
       "  <thead>\n",
       "    <tr style=\"text-align: right;\">\n",
       "      <th></th>\n",
       "      <th>customer_id</th>\n",
       "      <th>event</th>\n",
       "      <th>time</th>\n",
       "      <th>offer-completed</th>\n",
       "      <th>offer-received</th>\n",
       "      <th>offer-viewed</th>\n",
       "      <th>transaction</th>\n",
       "      <th>offer_id</th>\n",
       "      <th>amount</th>\n",
       "      <th>reward</th>\n",
       "      <th>...</th>\n",
       "      <th>customer_loyalty_days</th>\n",
       "      <th>gender_F</th>\n",
       "      <th>gender_M</th>\n",
       "      <th>gender_O</th>\n",
       "      <th>year_joined_2013</th>\n",
       "      <th>year_joined_2014</th>\n",
       "      <th>year_joined_2015</th>\n",
       "      <th>year_joined_2016</th>\n",
       "      <th>year_joined_2017</th>\n",
       "      <th>year_joined_2018</th>\n",
       "    </tr>\n",
       "  </thead>\n",
       "  <tbody>\n",
       "    <tr>\n",
       "      <th>0</th>\n",
       "      <td>78afa995795e4d85b5d9ceeca43f5fef</td>\n",
       "      <td>offer-received</td>\n",
       "      <td>0</td>\n",
       "      <td>0</td>\n",
       "      <td>1</td>\n",
       "      <td>0</td>\n",
       "      <td>0</td>\n",
       "      <td>9b98b8c7a33c4b65b9aebfe6a799e6d9</td>\n",
       "      <td>NaN</td>\n",
       "      <td>NaN</td>\n",
       "      <td>...</td>\n",
       "      <td>2233</td>\n",
       "      <td>1</td>\n",
       "      <td>0</td>\n",
       "      <td>0</td>\n",
       "      <td>0</td>\n",
       "      <td>0</td>\n",
       "      <td>0</td>\n",
       "      <td>0</td>\n",
       "      <td>1</td>\n",
       "      <td>0</td>\n",
       "    </tr>\n",
       "    <tr>\n",
       "      <th>1</th>\n",
       "      <td>a03223e636434f42ac4c3df47e8bac43</td>\n",
       "      <td>offer-received</td>\n",
       "      <td>0</td>\n",
       "      <td>0</td>\n",
       "      <td>1</td>\n",
       "      <td>0</td>\n",
       "      <td>0</td>\n",
       "      <td>0b1e1539f2cc45b7b9fa7c272da2e1d7</td>\n",
       "      <td>NaN</td>\n",
       "      <td>NaN</td>\n",
       "      <td>...</td>\n",
       "      <td>2146</td>\n",
       "      <td>0</td>\n",
       "      <td>0</td>\n",
       "      <td>0</td>\n",
       "      <td>0</td>\n",
       "      <td>0</td>\n",
       "      <td>0</td>\n",
       "      <td>0</td>\n",
       "      <td>1</td>\n",
       "      <td>0</td>\n",
       "    </tr>\n",
       "    <tr>\n",
       "      <th>2</th>\n",
       "      <td>e2127556f4f64592b11af22de27a7932</td>\n",
       "      <td>offer-received</td>\n",
       "      <td>0</td>\n",
       "      <td>0</td>\n",
       "      <td>1</td>\n",
       "      <td>0</td>\n",
       "      <td>0</td>\n",
       "      <td>2906b810c7d4411798c6938adc9daaa5</td>\n",
       "      <td>NaN</td>\n",
       "      <td>NaN</td>\n",
       "      <td>...</td>\n",
       "      <td>1881</td>\n",
       "      <td>0</td>\n",
       "      <td>1</td>\n",
       "      <td>0</td>\n",
       "      <td>0</td>\n",
       "      <td>0</td>\n",
       "      <td>0</td>\n",
       "      <td>0</td>\n",
       "      <td>0</td>\n",
       "      <td>1</td>\n",
       "    </tr>\n",
       "    <tr>\n",
       "      <th>3</th>\n",
       "      <td>8ec6ce2a7e7949b1bf142def7d0e0586</td>\n",
       "      <td>offer-received</td>\n",
       "      <td>0</td>\n",
       "      <td>0</td>\n",
       "      <td>1</td>\n",
       "      <td>0</td>\n",
       "      <td>0</td>\n",
       "      <td>fafdcd668e3743c1bb461111dcafc2a4</td>\n",
       "      <td>NaN</td>\n",
       "      <td>NaN</td>\n",
       "      <td>...</td>\n",
       "      <td>2094</td>\n",
       "      <td>0</td>\n",
       "      <td>0</td>\n",
       "      <td>0</td>\n",
       "      <td>0</td>\n",
       "      <td>0</td>\n",
       "      <td>0</td>\n",
       "      <td>0</td>\n",
       "      <td>1</td>\n",
       "      <td>0</td>\n",
       "    </tr>\n",
       "    <tr>\n",
       "      <th>4</th>\n",
       "      <td>68617ca6246f4fbc85e91a2a49552598</td>\n",
       "      <td>offer-received</td>\n",
       "      <td>0</td>\n",
       "      <td>0</td>\n",
       "      <td>1</td>\n",
       "      <td>0</td>\n",
       "      <td>0</td>\n",
       "      <td>4d5c57ea9a6940dd891ad53e9dbe8da0</td>\n",
       "      <td>NaN</td>\n",
       "      <td>NaN</td>\n",
       "      <td>...</td>\n",
       "      <td>2087</td>\n",
       "      <td>0</td>\n",
       "      <td>0</td>\n",
       "      <td>0</td>\n",
       "      <td>0</td>\n",
       "      <td>0</td>\n",
       "      <td>0</td>\n",
       "      <td>0</td>\n",
       "      <td>1</td>\n",
       "      <td>0</td>\n",
       "    </tr>\n",
       "  </tbody>\n",
       "</table>\n",
       "<p>5 rows × 25 columns</p>\n",
       "</div>"
      ],
      "text/plain": [
       "                        customer_id           event  time  offer-completed   \n",
       "0  78afa995795e4d85b5d9ceeca43f5fef  offer-received     0                0  \\\n",
       "1  a03223e636434f42ac4c3df47e8bac43  offer-received     0                0   \n",
       "2  e2127556f4f64592b11af22de27a7932  offer-received     0                0   \n",
       "3  8ec6ce2a7e7949b1bf142def7d0e0586  offer-received     0                0   \n",
       "4  68617ca6246f4fbc85e91a2a49552598  offer-received     0                0   \n",
       "\n",
       "   offer-received  offer-viewed  transaction   \n",
       "0               1             0            0  \\\n",
       "1               1             0            0   \n",
       "2               1             0            0   \n",
       "3               1             0            0   \n",
       "4               1             0            0   \n",
       "\n",
       "                           offer_id  amount  reward  ...   \n",
       "0  9b98b8c7a33c4b65b9aebfe6a799e6d9     NaN     NaN  ...  \\\n",
       "1  0b1e1539f2cc45b7b9fa7c272da2e1d7     NaN     NaN  ...   \n",
       "2  2906b810c7d4411798c6938adc9daaa5     NaN     NaN  ...   \n",
       "3  fafdcd668e3743c1bb461111dcafc2a4     NaN     NaN  ...   \n",
       "4  4d5c57ea9a6940dd891ad53e9dbe8da0     NaN     NaN  ...   \n",
       "\n",
       "  customer_loyalty_days  gender_F gender_M  gender_O year_joined_2013   \n",
       "0                  2233         1        0         0                0  \\\n",
       "1                  2146         0        0         0                0   \n",
       "2                  1881         0        1         0                0   \n",
       "3                  2094         0        0         0                0   \n",
       "4                  2087         0        0         0                0   \n",
       "\n",
       "   year_joined_2014  year_joined_2015  year_joined_2016  year_joined_2017   \n",
       "0                 0                 0                 0                 1  \\\n",
       "1                 0                 0                 0                 1   \n",
       "2                 0                 0                 0                 0   \n",
       "3                 0                 0                 0                 1   \n",
       "4                 0                 0                 0                 1   \n",
       "\n",
       "   year_joined_2018  \n",
       "0                 0  \n",
       "1                 0  \n",
       "2                 1  \n",
       "3                 0  \n",
       "4                 0  \n",
       "\n",
       "[5 rows x 25 columns]"
      ]
     },
     "execution_count": 121,
     "metadata": {},
     "output_type": "execute_result"
    }
   ],
   "source": [
    "temp_merge = pd.merge(transcript_clean, profile_clean, on='customer_id', how='left')\n",
    "temp_merge.head()"
   ]
  },
  {
   "cell_type": "code",
   "execution_count": 122,
   "metadata": {},
   "outputs": [
    {
     "data": {
      "text/html": [
       "<div>\n",
       "<style scoped>\n",
       "    .dataframe tbody tr th:only-of-type {\n",
       "        vertical-align: middle;\n",
       "    }\n",
       "\n",
       "    .dataframe tbody tr th {\n",
       "        vertical-align: top;\n",
       "    }\n",
       "\n",
       "    .dataframe thead th {\n",
       "        text-align: right;\n",
       "    }\n",
       "</style>\n",
       "<table border=\"1\" class=\"dataframe\">\n",
       "  <thead>\n",
       "    <tr style=\"text-align: right;\">\n",
       "      <th></th>\n",
       "      <th>customer_id</th>\n",
       "      <th>event</th>\n",
       "      <th>time</th>\n",
       "      <th>offer-completed</th>\n",
       "      <th>offer-received</th>\n",
       "      <th>offer-viewed</th>\n",
       "      <th>transaction</th>\n",
       "      <th>offer_id</th>\n",
       "      <th>amount</th>\n",
       "      <th>reward_x</th>\n",
       "      <th>...</th>\n",
       "      <th>difficulty</th>\n",
       "      <th>duration</th>\n",
       "      <th>offer_type</th>\n",
       "      <th>email</th>\n",
       "      <th>mobile</th>\n",
       "      <th>social</th>\n",
       "      <th>web</th>\n",
       "      <th>bogo</th>\n",
       "      <th>discount</th>\n",
       "      <th>informational</th>\n",
       "    </tr>\n",
       "  </thead>\n",
       "  <tbody>\n",
       "    <tr>\n",
       "      <th>55972</th>\n",
       "      <td>0009655768c64bdeb2e877511632db8f</td>\n",
       "      <td>offer-received</td>\n",
       "      <td>168</td>\n",
       "      <td>0</td>\n",
       "      <td>1</td>\n",
       "      <td>0</td>\n",
       "      <td>0</td>\n",
       "      <td>5a8bc65990b245e5a138643cd4eb9837</td>\n",
       "      <td>NaN</td>\n",
       "      <td>NaN</td>\n",
       "      <td>...</td>\n",
       "      <td>0.0</td>\n",
       "      <td>3.0</td>\n",
       "      <td>informational</td>\n",
       "      <td>1.0</td>\n",
       "      <td>1.0</td>\n",
       "      <td>1.0</td>\n",
       "      <td>0.0</td>\n",
       "      <td>0.0</td>\n",
       "      <td>0.0</td>\n",
       "      <td>1.0</td>\n",
       "    </tr>\n",
       "    <tr>\n",
       "      <th>77705</th>\n",
       "      <td>0009655768c64bdeb2e877511632db8f</td>\n",
       "      <td>offer-viewed</td>\n",
       "      <td>192</td>\n",
       "      <td>0</td>\n",
       "      <td>0</td>\n",
       "      <td>1</td>\n",
       "      <td>0</td>\n",
       "      <td>5a8bc65990b245e5a138643cd4eb9837</td>\n",
       "      <td>NaN</td>\n",
       "      <td>NaN</td>\n",
       "      <td>...</td>\n",
       "      <td>0.0</td>\n",
       "      <td>3.0</td>\n",
       "      <td>informational</td>\n",
       "      <td>1.0</td>\n",
       "      <td>1.0</td>\n",
       "      <td>1.0</td>\n",
       "      <td>0.0</td>\n",
       "      <td>0.0</td>\n",
       "      <td>0.0</td>\n",
       "      <td>1.0</td>\n",
       "    </tr>\n",
       "    <tr>\n",
       "      <th>89291</th>\n",
       "      <td>0009655768c64bdeb2e877511632db8f</td>\n",
       "      <td>transaction</td>\n",
       "      <td>228</td>\n",
       "      <td>0</td>\n",
       "      <td>0</td>\n",
       "      <td>0</td>\n",
       "      <td>1</td>\n",
       "      <td>NaN</td>\n",
       "      <td>22.16</td>\n",
       "      <td>NaN</td>\n",
       "      <td>...</td>\n",
       "      <td>NaN</td>\n",
       "      <td>NaN</td>\n",
       "      <td>NaN</td>\n",
       "      <td>NaN</td>\n",
       "      <td>NaN</td>\n",
       "      <td>NaN</td>\n",
       "      <td>NaN</td>\n",
       "      <td>NaN</td>\n",
       "      <td>NaN</td>\n",
       "      <td>NaN</td>\n",
       "    </tr>\n",
       "    <tr>\n",
       "      <th>113605</th>\n",
       "      <td>0009655768c64bdeb2e877511632db8f</td>\n",
       "      <td>offer-received</td>\n",
       "      <td>336</td>\n",
       "      <td>0</td>\n",
       "      <td>1</td>\n",
       "      <td>0</td>\n",
       "      <td>0</td>\n",
       "      <td>3f207df678b143eea3cee63160fa8bed</td>\n",
       "      <td>NaN</td>\n",
       "      <td>NaN</td>\n",
       "      <td>...</td>\n",
       "      <td>0.0</td>\n",
       "      <td>4.0</td>\n",
       "      <td>informational</td>\n",
       "      <td>1.0</td>\n",
       "      <td>1.0</td>\n",
       "      <td>0.0</td>\n",
       "      <td>1.0</td>\n",
       "      <td>0.0</td>\n",
       "      <td>0.0</td>\n",
       "      <td>1.0</td>\n",
       "    </tr>\n",
       "    <tr>\n",
       "      <th>139992</th>\n",
       "      <td>0009655768c64bdeb2e877511632db8f</td>\n",
       "      <td>offer-viewed</td>\n",
       "      <td>372</td>\n",
       "      <td>0</td>\n",
       "      <td>0</td>\n",
       "      <td>1</td>\n",
       "      <td>0</td>\n",
       "      <td>3f207df678b143eea3cee63160fa8bed</td>\n",
       "      <td>NaN</td>\n",
       "      <td>NaN</td>\n",
       "      <td>...</td>\n",
       "      <td>0.0</td>\n",
       "      <td>4.0</td>\n",
       "      <td>informational</td>\n",
       "      <td>1.0</td>\n",
       "      <td>1.0</td>\n",
       "      <td>0.0</td>\n",
       "      <td>1.0</td>\n",
       "      <td>0.0</td>\n",
       "      <td>0.0</td>\n",
       "      <td>1.0</td>\n",
       "    </tr>\n",
       "  </tbody>\n",
       "</table>\n",
       "<p>5 rows × 36 columns</p>\n",
       "</div>"
      ],
      "text/plain": [
       "                             customer_id           event  time   \n",
       "55972   0009655768c64bdeb2e877511632db8f  offer-received   168  \\\n",
       "77705   0009655768c64bdeb2e877511632db8f    offer-viewed   192   \n",
       "89291   0009655768c64bdeb2e877511632db8f     transaction   228   \n",
       "113605  0009655768c64bdeb2e877511632db8f  offer-received   336   \n",
       "139992  0009655768c64bdeb2e877511632db8f    offer-viewed   372   \n",
       "\n",
       "        offer-completed  offer-received  offer-viewed  transaction   \n",
       "55972                 0               1             0            0  \\\n",
       "77705                 0               0             1            0   \n",
       "89291                 0               0             0            1   \n",
       "113605                0               1             0            0   \n",
       "139992                0               0             1            0   \n",
       "\n",
       "                                offer_id  amount  reward_x  ... difficulty   \n",
       "55972   5a8bc65990b245e5a138643cd4eb9837     NaN       NaN  ...        0.0  \\\n",
       "77705   5a8bc65990b245e5a138643cd4eb9837     NaN       NaN  ...        0.0   \n",
       "89291                                NaN   22.16       NaN  ...        NaN   \n",
       "113605  3f207df678b143eea3cee63160fa8bed     NaN       NaN  ...        0.0   \n",
       "139992  3f207df678b143eea3cee63160fa8bed     NaN       NaN  ...        0.0   \n",
       "\n",
       "        duration     offer_type  email mobile  social  web  bogo  discount   \n",
       "55972        3.0  informational    1.0    1.0     1.0  0.0   0.0       0.0  \\\n",
       "77705        3.0  informational    1.0    1.0     1.0  0.0   0.0       0.0   \n",
       "89291        NaN            NaN    NaN    NaN     NaN  NaN   NaN       NaN   \n",
       "113605       4.0  informational    1.0    1.0     0.0  1.0   0.0       0.0   \n",
       "139992       4.0  informational    1.0    1.0     0.0  1.0   0.0       0.0   \n",
       "\n",
       "        informational  \n",
       "55972             1.0  \n",
       "77705             1.0  \n",
       "89291             NaN  \n",
       "113605            1.0  \n",
       "139992            1.0  \n",
       "\n",
       "[5 rows x 36 columns]"
      ]
     },
     "execution_count": 122,
     "metadata": {},
     "output_type": "execute_result"
    }
   ],
   "source": [
    "df_merge = pd.merge(temp_merge, portfolio_clean, on='offer_id', how='left')\n",
    "df_merge.sort_values(by = ['customer_id', 'time'], inplace=True)\n",
    "df_merge.head()"
   ]
  },
  {
   "cell_type": "code",
   "execution_count": 123,
   "metadata": {},
   "outputs": [
    {
     "data": {
      "text/plain": [
       "(306534, 36)"
      ]
     },
     "execution_count": 123,
     "metadata": {},
     "output_type": "execute_result"
    }
   ],
   "source": [
    "df_merge.shape"
   ]
  },
  {
   "cell_type": "code",
   "execution_count": 124,
   "metadata": {},
   "outputs": [
    {
     "data": {
      "text/plain": [
       "Index(['customer_id', 'event', 'time', 'offer-completed', 'offer-received',\n",
       "       'offer-viewed', 'transaction', 'offer_id', 'amount', 'reward_x',\n",
       "       'gender', 'age', 'became_member_on', 'income', 'membership_year',\n",
       "       'customer_loyalty_days', 'gender_F', 'gender_M', 'gender_O',\n",
       "       'year_joined_2013', 'year_joined_2014', 'year_joined_2015',\n",
       "       'year_joined_2016', 'year_joined_2017', 'year_joined_2018', 'reward_y',\n",
       "       'difficulty', 'duration', 'offer_type', 'email', 'mobile', 'social',\n",
       "       'web', 'bogo', 'discount', 'informational'],\n",
       "      dtype='object')"
      ]
     },
     "execution_count": 124,
     "metadata": {},
     "output_type": "execute_result"
    }
   ],
   "source": [
    "df_merge.columns"
   ]
  },
  {
   "cell_type": "code",
   "execution_count": 125,
   "metadata": {},
   "outputs": [],
   "source": [
    "# going back to those 2175 customers with missing age, gender and income data\n",
    "profile_missing = df_merge[df_merge['income'].isna()]\n",
    "len(profile_missing.customer_id.value_counts().index)\n",
    "\n",
    "# now that we have those people matched by their customer ids, we can drop the rows\n",
    "df_merge.dropna(subset=['income'], inplace=True)"
   ]
  },
  {
   "attachments": {},
   "cell_type": "markdown",
   "metadata": {},
   "source": [
    "## Exploratory Data Analysis"
   ]
  },
  {
   "attachments": {},
   "cell_type": "markdown",
   "metadata": {},
   "source": [
    "### Customer Demographics"
   ]
  },
  {
   "attachments": {},
   "cell_type": "markdown",
   "metadata": {},
   "source": [
    "#### Age Distribution"
   ]
  },
  {
   "cell_type": "code",
   "execution_count": 126,
   "metadata": {},
   "outputs": [],
   "source": [
    "# dropping the 2175 rows with NA values from the cleaned profile table to use for visualisations\n",
    "profile_clean.dropna(subset=['income'], inplace=True)"
   ]
  },
  {
   "cell_type": "code",
   "execution_count": 127,
   "metadata": {},
   "outputs": [
    {
     "data": {
      "image/png": "[encoded data removed]",
      "text/plain": [
       "<Figure size 500x500 with 1 Axes>"
      ]
     },
     "metadata": {},
     "output_type": "display_data"
    }
   ],
   "source": [
    "ax = sns.displot(profile_clean, x='age', bins=30)\n",
    "ax.set(title='Distribution of Customer Age', xlabel='Age (years)', ylabel='Number of People');"
   ]
  },
  {
   "cell_type": "code",
   "execution_count": 128,
   "metadata": {},
   "outputs": [
    {
     "name": "stdout",
     "output_type": "stream",
     "text": [
      "Mean age of customers:  54.39352445193929\n",
      "Median age of customers:  55.0\n"
     ]
    }
   ],
   "source": [
    "print('Mean age of customers: ', profile_clean['age'].mean())\n",
    "print('Median age of customers: ', profile_clean['age'].median())\n",
    "# left skewed"
   ]
  },
  {
   "attachments": {},
   "cell_type": "markdown",
   "metadata": {},
   "source": [
    "The distribution is slightly left skewed since the median is larger than the mean, but overall we can see that the majority of customers are 50-70 years old, which is older than I was expecting it to be. "
   ]
  },
  {
   "cell_type": "code",
   "execution_count": 196,
   "metadata": {},
   "outputs": [
    {
     "data": {
      "text/plain": [
       "gender\n",
       "F    57.544950\n",
       "M    52.116690\n",
       "O    54.400943\n",
       "Name: age, dtype: float64"
      ]
     },
     "execution_count": 196,
     "metadata": {},
     "output_type": "execute_result"
    }
   ],
   "source": [
    "profile_clean.groupby('gender')['age'].mean()"
   ]
  },
  {
   "cell_type": "code",
   "execution_count": 129,
   "metadata": {},
   "outputs": [
    {
     "data": {
      "image/png": "[encoded data removed]",
      "text/plain": [
       "<Figure size 562x500 with 1 Axes>"
      ]
     },
     "metadata": {},
     "output_type": "display_data"
    }
   ],
   "source": [
    "ax = sns.displot(profile_clean, x='age', hue='gender', element='step', bins=30)\n",
    "ax.set(title='Distribution of Customer Age by Gender', xlabel='Age (years)', ylabel='Number of People');"
   ]
  },
  {
   "attachments": {},
   "cell_type": "markdown",
   "metadata": {},
   "source": [
    "The graph above shows the age distribution split by gender, where we can clearly see that there are a lot more males aged 20-40 than females, especially between 20-30 where it seems almost double the number of female customers. From approxiamtely 70 years old onwards the distribution between males and females appears pretty even. The mean age for females is 57 whereas for males it is 52, clearly showing that the younger generations on the app are more likely to be male."
   ]
  },
  {
   "attachments": {},
   "cell_type": "markdown",
   "metadata": {},
   "source": [
    "#### Gender Distribution"
   ]
  },
  {
   "cell_type": "code",
   "execution_count": 130,
   "metadata": {},
   "outputs": [
    {
     "data": {
      "image/png": "[encoded data removed]",
      "text/plain": [
       "<Figure size 2000x1000 with 1 Axes>"
      ]
     },
     "metadata": {},
     "output_type": "display_data"
    }
   ],
   "source": [
    "ax = sns.countplot(profile_clean, x='gender')\n",
    "ax.set(title='Distribution of Customer Gender', xlabel='Gender', ylabel='Number of People');"
   ]
  },
  {
   "cell_type": "code",
   "execution_count": 131,
   "metadata": {},
   "outputs": [
    {
     "data": {
      "text/html": [
       "<div>\n",
       "<style scoped>\n",
       "    .dataframe tbody tr th:only-of-type {\n",
       "        vertical-align: middle;\n",
       "    }\n",
       "\n",
       "    .dataframe tbody tr th {\n",
       "        vertical-align: top;\n",
       "    }\n",
       "\n",
       "    .dataframe thead th {\n",
       "        text-align: right;\n",
       "    }\n",
       "</style>\n",
       "<table border=\"1\" class=\"dataframe\">\n",
       "  <thead>\n",
       "    <tr style=\"text-align: right;\">\n",
       "      <th></th>\n",
       "      <th>count</th>\n",
       "      <th>proportion</th>\n",
       "    </tr>\n",
       "    <tr>\n",
       "      <th>gender</th>\n",
       "      <th></th>\n",
       "      <th></th>\n",
       "    </tr>\n",
       "  </thead>\n",
       "  <tbody>\n",
       "    <tr>\n",
       "      <th>M</th>\n",
       "      <td>8484</td>\n",
       "      <td>0.572277</td>\n",
       "    </tr>\n",
       "    <tr>\n",
       "      <th>F</th>\n",
       "      <td>6129</td>\n",
       "      <td>0.413423</td>\n",
       "    </tr>\n",
       "    <tr>\n",
       "      <th>O</th>\n",
       "      <td>212</td>\n",
       "      <td>0.014300</td>\n",
       "    </tr>\n",
       "  </tbody>\n",
       "</table>\n",
       "</div>"
      ],
      "text/plain": [
       "        count  proportion\n",
       "gender                   \n",
       "M        8484    0.572277\n",
       "F        6129    0.413423\n",
       "O         212    0.014300"
      ]
     },
     "execution_count": 131,
     "metadata": {},
     "output_type": "execute_result"
    }
   ],
   "source": [
    "gender_props = pd.DataFrame(profile_clean['gender'].value_counts())\n",
    "gender_props['proportion'] = gender_props['count']/profile_clean.shape[0]\n",
    "gender_props"
   ]
  },
  {
   "attachments": {},
   "cell_type": "markdown",
   "metadata": {},
   "source": [
    "57% of the customer base in the datasets are male, with 41% female and approximately 200 people identifying as 'Other'."
   ]
  },
  {
   "attachments": {},
   "cell_type": "markdown",
   "metadata": {},
   "source": [
    "#### Income Distribtuion"
   ]
  },
  {
   "cell_type": "code",
   "execution_count": 132,
   "metadata": {},
   "outputs": [
    {
     "name": "stdout",
     "output_type": "stream",
     "text": [
      "Mean income of customers:  65404.9915682968\n",
      "Median income of customers:  64000.0\n"
     ]
    }
   ],
   "source": [
    "print('Mean income of customers: ', profile_clean['income'].mean())\n",
    "print('Median income of customers: ', profile_clean['income'].median())\n",
    "# right skewed"
   ]
  },
  {
   "attachments": {},
   "cell_type": "markdown",
   "metadata": {},
   "source": [
    "In terms of the income distribution of the customers, we see that it is slightly right skewed as this time the median is less than the mean."
   ]
  },
  {
   "cell_type": "code",
   "execution_count": 133,
   "metadata": {},
   "outputs": [
    {
     "data": {
      "image/png": "[encoded data removed]",
      "text/plain": [
       "<Figure size 562x500 with 1 Axes>"
      ]
     },
     "metadata": {},
     "output_type": "display_data"
    }
   ],
   "source": [
    "ax = sns.displot(profile_clean, x='income', hue='gender', element='step', bins=30)\n",
    "ax.set(title='Distribution of Customer Income by Gender', xlabel='Income', ylabel='Number of People');"
   ]
  },
  {
   "cell_type": "code",
   "execution_count": 192,
   "metadata": {},
   "outputs": [
    {
     "data": {
      "text/plain": [
       "gender\n",
       "F    71306.412139\n",
       "M    61194.601603\n",
       "O    63287.735849\n",
       "Name: income, dtype: float64"
      ]
     },
     "execution_count": 192,
     "metadata": {},
     "output_type": "execute_result"
    }
   ],
   "source": [
    "profile_clean.groupby('gender')['income'].mean()"
   ]
  },
  {
   "cell_type": "code",
   "execution_count": 134,
   "metadata": {},
   "outputs": [
    {
     "data": {
      "image/png": "[encoded data removed]",
      "text/plain": [
       "<Figure size 2000x1000 with 1 Axes>"
      ]
     },
     "metadata": {},
     "output_type": "display_data"
    }
   ],
   "source": [
    "ax = sns.barplot(data=profile_clean, x=\"gender\", y=\"income\")\n",
    "ax.axhline(y=profile_clean['income'].mean());\n",
    "ax.set(title='Average Customer Income by Gender', xlabel='Gender', ylabel='Mean Income');"
   ]
  },
  {
   "attachments": {},
   "cell_type": "markdown",
   "metadata": {},
   "source": [
    "The charts above show that, on average, females earn significantly higher than males and other gender of the customers. The blue line in the second chart represents the average income for the whole of the dataset.\n",
    "\n",
    "The first graph shows an interesting trend in that, for females, the income distribution follows more closely to a normal bell curve than for males. For males, the bulk of customers seem to be earning 75,000 or less, which is interesting as we saw earlier that the younger generations are more likely to be male, implying that we possibly have a split of younger, low-income males on the app and older, high-income females. The income distribution does make sense in that you would expect people who earn less money would be more likely to download and use the app, and consequentially be more likely to utilise drinks offers - hence why we would see more males on the app than females in the low-income range."
   ]
  },
  {
   "attachments": {},
   "cell_type": "markdown",
   "metadata": {},
   "source": [
    "### Offer Type Analysis"
   ]
  },
  {
   "attachments": {},
   "cell_type": "markdown",
   "metadata": {},
   "source": [
    "Finally, we will conduct some exploratory analysis on the offers that were sent to customers in order to understand which offer types were the best recieved, and by which demographic."
   ]
  },
  {
   "cell_type": "code",
   "execution_count": 199,
   "metadata": {},
   "outputs": [
    {
     "data": {
      "text/html": [
       "<div>\n",
       "<style scoped>\n",
       "    .dataframe tbody tr th:only-of-type {\n",
       "        vertical-align: middle;\n",
       "    }\n",
       "\n",
       "    .dataframe tbody tr th {\n",
       "        vertical-align: top;\n",
       "    }\n",
       "\n",
       "    .dataframe thead th {\n",
       "        text-align: right;\n",
       "    }\n",
       "</style>\n",
       "<table border=\"1\" class=\"dataframe\">\n",
       "  <thead>\n",
       "    <tr style=\"text-align: right;\">\n",
       "      <th></th>\n",
       "      <th>channel</th>\n",
       "      <th>count</th>\n",
       "    </tr>\n",
       "  </thead>\n",
       "  <tbody>\n",
       "    <tr>\n",
       "      <th>0</th>\n",
       "      <td>email</td>\n",
       "      <td>10</td>\n",
       "    </tr>\n",
       "    <tr>\n",
       "      <th>1</th>\n",
       "      <td>mobile</td>\n",
       "      <td>9</td>\n",
       "    </tr>\n",
       "    <tr>\n",
       "      <th>2</th>\n",
       "      <td>social</td>\n",
       "      <td>6</td>\n",
       "    </tr>\n",
       "    <tr>\n",
       "      <th>3</th>\n",
       "      <td>web</td>\n",
       "      <td>8</td>\n",
       "    </tr>\n",
       "  </tbody>\n",
       "</table>\n",
       "</div>"
      ],
      "text/plain": [
       "  channel  count\n",
       "0   email     10\n",
       "1  mobile      9\n",
       "2  social      6\n",
       "3     web      8"
      ]
     },
     "execution_count": 199,
     "metadata": {},
     "output_type": "execute_result"
    }
   ],
   "source": [
    "channel_count = pd.DataFrame(portfolio_clean[['email', 'mobile', 'social', 'web']].sum()).reset_index(names='channel').rename(columns={0:'count'})\n",
    "type_count = pd.DataFrame(portfolio_clean[['bogo', 'discount', 'informational']].sum()).reset_index(names='offer_type').rename(columns={0:'count'})\n",
    "channel_count"
   ]
  },
  {
   "attachments": {},
   "cell_type": "markdown",
   "metadata": {},
   "source": [
    "Email and mobile channels of communication were the most common, and web was the least common. All offers were communicated by email."
   ]
  },
  {
   "cell_type": "code",
   "execution_count": 136,
   "metadata": {},
   "outputs": [
    {
     "data": {
      "text/html": [
       "<div>\n",
       "<style scoped>\n",
       "    .dataframe tbody tr th:only-of-type {\n",
       "        vertical-align: middle;\n",
       "    }\n",
       "\n",
       "    .dataframe tbody tr th {\n",
       "        vertical-align: top;\n",
       "    }\n",
       "\n",
       "    .dataframe thead th {\n",
       "        text-align: right;\n",
       "    }\n",
       "</style>\n",
       "<table border=\"1\" class=\"dataframe\">\n",
       "  <thead>\n",
       "    <tr style=\"text-align: right;\">\n",
       "      <th></th>\n",
       "      <th>offer_type</th>\n",
       "      <th>count</th>\n",
       "    </tr>\n",
       "  </thead>\n",
       "  <tbody>\n",
       "    <tr>\n",
       "      <th>0</th>\n",
       "      <td>bogo</td>\n",
       "      <td>4</td>\n",
       "    </tr>\n",
       "    <tr>\n",
       "      <th>1</th>\n",
       "      <td>discount</td>\n",
       "      <td>4</td>\n",
       "    </tr>\n",
       "    <tr>\n",
       "      <th>2</th>\n",
       "      <td>informational</td>\n",
       "      <td>2</td>\n",
       "    </tr>\n",
       "  </tbody>\n",
       "</table>\n",
       "</div>"
      ],
      "text/plain": [
       "      offer_type  count\n",
       "0           bogo      4\n",
       "1       discount      4\n",
       "2  informational      2"
      ]
     },
     "execution_count": 136,
     "metadata": {},
     "output_type": "execute_result"
    }
   ],
   "source": [
    "type_count"
   ]
  },
  {
   "cell_type": "code",
   "execution_count": 197,
   "metadata": {},
   "outputs": [
    {
     "data": {
      "text/html": [
       "<div>\n",
       "<style scoped>\n",
       "    .dataframe tbody tr th:only-of-type {\n",
       "        vertical-align: middle;\n",
       "    }\n",
       "\n",
       "    .dataframe tbody tr th {\n",
       "        vertical-align: top;\n",
       "    }\n",
       "\n",
       "    .dataframe thead th {\n",
       "        text-align: right;\n",
       "    }\n",
       "</style>\n",
       "<table border=\"1\" class=\"dataframe\">\n",
       "  <thead>\n",
       "    <tr style=\"text-align: right;\">\n",
       "      <th></th>\n",
       "      <th>offer_type</th>\n",
       "      <th>email</th>\n",
       "      <th>mobile</th>\n",
       "      <th>social</th>\n",
       "      <th>web</th>\n",
       "    </tr>\n",
       "  </thead>\n",
       "  <tbody>\n",
       "    <tr>\n",
       "      <th>0</th>\n",
       "      <td>bogo</td>\n",
       "      <td>4</td>\n",
       "      <td>4</td>\n",
       "      <td>3</td>\n",
       "      <td>3</td>\n",
       "    </tr>\n",
       "    <tr>\n",
       "      <th>1</th>\n",
       "      <td>discount</td>\n",
       "      <td>4</td>\n",
       "      <td>3</td>\n",
       "      <td>2</td>\n",
       "      <td>4</td>\n",
       "    </tr>\n",
       "    <tr>\n",
       "      <th>2</th>\n",
       "      <td>informational</td>\n",
       "      <td>2</td>\n",
       "      <td>2</td>\n",
       "      <td>1</td>\n",
       "      <td>1</td>\n",
       "    </tr>\n",
       "  </tbody>\n",
       "</table>\n",
       "</div>"
      ],
      "text/plain": [
       "      offer_type  email  mobile  social  web\n",
       "0           bogo      4       4       3    3\n",
       "1       discount      4       3       2    4\n",
       "2  informational      2       2       1    1"
      ]
     },
     "execution_count": 197,
     "metadata": {},
     "output_type": "execute_result"
    }
   ],
   "source": [
    "test = pd.DataFrame(portfolio_clean[['offer_type','email', 'mobile', 'social', 'web']].groupby('offer_type').sum().reset_index())\n",
    "test"
   ]
  },
  {
   "attachments": {},
   "cell_type": "markdown",
   "metadata": {},
   "source": [
    "Discount offers were more common by web or email channels of communication, whereas bogo and informational offers were more common by email and mobile channels."
   ]
  },
  {
   "cell_type": "code",
   "execution_count": 138,
   "metadata": {},
   "outputs": [
    {
     "data": {
      "image/png": "[encoded data removed]",
      "text/plain": [
       "<Figure size 1200x800 with 1 Axes>"
      ]
     },
     "metadata": {},
     "output_type": "display_data"
    }
   ],
   "source": [
    "plt.figure(figsize=(12,8))\n",
    "ax = sns.scatterplot(portfolio_clean, x='difficulty', y='reward', hue='offer_type')\n",
    "ax.set(title='Difficulty vs Reward', xlabel='Difficulty', ylabel='Reward');"
   ]
  },
  {
   "attachments": {},
   "cell_type": "markdown",
   "metadata": {},
   "source": [
    "Looking at a scattergraph of difficulty (how much a customer has to spend to complete an offer) against reward (how much a customer gets after completing the offer), we can see that discount offers seemed to have less reward for the difficulty, whereas bogo offers had, of course, the same reward for difficulty which would make them more attractive to customers."
   ]
  },
  {
   "cell_type": "code",
   "execution_count": 139,
   "metadata": {},
   "outputs": [
    {
     "data": {
      "image/png": "[encoded data removed]",
      "text/plain": [
       "<Figure size 1200x800 with 1 Axes>"
      ]
     },
     "metadata": {},
     "output_type": "display_data"
    }
   ],
   "source": [
    "plt.figure(figsize=(12,8))\n",
    "ax = sns.scatterplot(portfolio_clean, x='duration', y='reward', hue='offer_type')\n",
    "ax.set(title='Duration vs Reward', xlabel='Duration', ylabel='Reward');"
   ]
  },
  {
   "attachments": {},
   "cell_type": "markdown",
   "metadata": {},
   "source": [
    "This scattergraph shows that ser see a cluster of discount offers in the bottom right corner implying that they lasted for a longer time than bogo offers but had less reward.\n",
    "In comparison, bogo offers were shorter than discount offers and had more reward."
   ]
  },
  {
   "cell_type": "code",
   "execution_count": 140,
   "metadata": {},
   "outputs": [
    {
     "data": {
      "text/plain": [
       "email     66501.0\n",
       "mobile    59775.0\n",
       "social    39802.0\n",
       "web       53175.0\n",
       "dtype: float64"
      ]
     },
     "execution_count": 140,
     "metadata": {},
     "output_type": "execute_result"
    }
   ],
   "source": [
    "df_merge[df_merge['offer-received'] == 1][['email', 'mobile', 'social', 'web']].sum()"
   ]
  },
  {
   "attachments": {},
   "cell_type": "markdown",
   "metadata": {},
   "source": [
    "Out of the offers that were sent to customers, we can see that most common channel of communication was by email, then web, then mobile and finally social being the least common."
   ]
  },
  {
   "cell_type": "code",
   "execution_count": 141,
   "metadata": {},
   "outputs": [
    {
     "data": {
      "text/plain": [
       "bogo             26537.0\n",
       "discount         26664.0\n",
       "informational    13300.0\n",
       "dtype: float64"
      ]
     },
     "execution_count": 141,
     "metadata": {},
     "output_type": "execute_result"
    }
   ],
   "source": [
    "df_merge[df_merge['offer-received'] == 1][['bogo', 'discount', 'informational']].sum()"
   ]
  },
  {
   "attachments": {},
   "cell_type": "markdown",
   "metadata": {},
   "source": [
    "Looking at the offers that were receievd by customers, there were slightly more discount offers sent than bogo offers, although the split is fairly even. The number of informational offers sent, in comparison, was approximately half that of bogo or discount offers."
   ]
  },
  {
   "attachments": {},
   "cell_type": "markdown",
   "metadata": {},
   "source": [
    "### Transaction/Gender Analysis"
   ]
  },
  {
   "cell_type": "code",
   "execution_count": 142,
   "metadata": {},
   "outputs": [],
   "source": [
    "transaction_df = df_merge[df_merge['transaction'] == 1]\n",
    "\n",
    "transaction_df_F = transaction_df[transaction_df['gender_F'] == 1]\n",
    "transaction_df_M = transaction_df[transaction_df['gender_M'] == 1]\n",
    "transaction_df_O = transaction_df[transaction_df['gender_O'] == 1]"
   ]
  },
  {
   "cell_type": "code",
   "execution_count": 143,
   "metadata": {},
   "outputs": [
    {
     "data": {
      "text/html": [
       "<div>\n",
       "<style scoped>\n",
       "    .dataframe tbody tr th:only-of-type {\n",
       "        vertical-align: middle;\n",
       "    }\n",
       "\n",
       "    .dataframe tbody tr th {\n",
       "        vertical-align: top;\n",
       "    }\n",
       "\n",
       "    .dataframe thead th {\n",
       "        text-align: right;\n",
       "    }\n",
       "</style>\n",
       "<table border=\"1\" class=\"dataframe\">\n",
       "  <thead>\n",
       "    <tr style=\"text-align: right;\">\n",
       "      <th></th>\n",
       "      <th>Amount_F</th>\n",
       "      <th>Amount_M</th>\n",
       "      <th>Amount_O</th>\n",
       "      <th>Income_F</th>\n",
       "      <th>Income_M</th>\n",
       "      <th>Income_O</th>\n",
       "    </tr>\n",
       "  </thead>\n",
       "  <tbody>\n",
       "    <tr>\n",
       "      <th>count</th>\n",
       "      <td>49382.000000</td>\n",
       "      <td>72794.000000</td>\n",
       "      <td>1781.000000</td>\n",
       "      <td>49382.000000</td>\n",
       "      <td>72794.000000</td>\n",
       "      <td>1781.000000</td>\n",
       "    </tr>\n",
       "    <tr>\n",
       "      <th>mean</th>\n",
       "      <td>17.490077</td>\n",
       "      <td>11.606600</td>\n",
       "      <td>14.798731</td>\n",
       "      <td>66813.960552</td>\n",
       "      <td>58491.317966</td>\n",
       "      <td>61039.865244</td>\n",
       "    </tr>\n",
       "    <tr>\n",
       "      <th>std</th>\n",
       "      <td>35.342611</td>\n",
       "      <td>28.964542</td>\n",
       "      <td>25.748149</td>\n",
       "      <td>21965.016643</td>\n",
       "      <td>19048.170156</td>\n",
       "      <td>19009.521115</td>\n",
       "    </tr>\n",
       "    <tr>\n",
       "      <th>min</th>\n",
       "      <td>0.050000</td>\n",
       "      <td>0.050000</td>\n",
       "      <td>0.050000</td>\n",
       "      <td>30000.000000</td>\n",
       "      <td>30000.000000</td>\n",
       "      <td>30000.000000</td>\n",
       "    </tr>\n",
       "    <tr>\n",
       "      <th>25%</th>\n",
       "      <td>7.970000</td>\n",
       "      <td>2.570000</td>\n",
       "      <td>7.010000</td>\n",
       "      <td>51000.000000</td>\n",
       "      <td>43000.000000</td>\n",
       "      <td>47000.000000</td>\n",
       "    </tr>\n",
       "    <tr>\n",
       "      <th>50%</th>\n",
       "      <td>15.000000</td>\n",
       "      <td>7.050000</td>\n",
       "      <td>13.300000</td>\n",
       "      <td>65000.000000</td>\n",
       "      <td>56000.000000</td>\n",
       "      <td>60000.000000</td>\n",
       "    </tr>\n",
       "    <tr>\n",
       "      <th>75%</th>\n",
       "      <td>22.120000</td>\n",
       "      <td>16.220000</td>\n",
       "      <td>19.290000</td>\n",
       "      <td>82000.000000</td>\n",
       "      <td>70000.000000</td>\n",
       "      <td>74000.000000</td>\n",
       "    </tr>\n",
       "    <tr>\n",
       "      <th>max</th>\n",
       "      <td>1062.280000</td>\n",
       "      <td>977.780000</td>\n",
       "      <td>713.120000</td>\n",
       "      <td>120000.000000</td>\n",
       "      <td>120000.000000</td>\n",
       "      <td>100000.000000</td>\n",
       "    </tr>\n",
       "  </tbody>\n",
       "</table>\n",
       "</div>"
      ],
      "text/plain": [
       "           Amount_F      Amount_M     Amount_O       Income_F       Income_M   \n",
       "count  49382.000000  72794.000000  1781.000000   49382.000000   72794.000000  \\\n",
       "mean      17.490077     11.606600    14.798731   66813.960552   58491.317966   \n",
       "std       35.342611     28.964542    25.748149   21965.016643   19048.170156   \n",
       "min        0.050000      0.050000     0.050000   30000.000000   30000.000000   \n",
       "25%        7.970000      2.570000     7.010000   51000.000000   43000.000000   \n",
       "50%       15.000000      7.050000    13.300000   65000.000000   56000.000000   \n",
       "75%       22.120000     16.220000    19.290000   82000.000000   70000.000000   \n",
       "max     1062.280000    977.780000   713.120000  120000.000000  120000.000000   \n",
       "\n",
       "            Income_O  \n",
       "count    1781.000000  \n",
       "mean    61039.865244  \n",
       "std     19009.521115  \n",
       "min     30000.000000  \n",
       "25%     47000.000000  \n",
       "50%     60000.000000  \n",
       "75%     74000.000000  \n",
       "max    100000.000000  "
      ]
     },
     "execution_count": 143,
     "metadata": {},
     "output_type": "execute_result"
    }
   ],
   "source": [
    "transaction_gender_df = pd.DataFrame(transaction_df_F['amount'].describe()).rename(columns={'amount':'Amount_F'})\n",
    "transaction_gender_df['Amount_M'] = list(transaction_df_M['amount'].describe())\n",
    "transaction_gender_df['Amount_O'] = list(transaction_df_O['amount'].describe())\n",
    "\n",
    "transaction_gender_df['Income_F'] = list(transaction_df_F['income'].describe())\n",
    "transaction_gender_df['Income_M'] = list(transaction_df_M['income'].describe())\n",
    "transaction_gender_df['Income_O'] = list(transaction_df_O['income'].describe())\n",
    "transaction_gender_df"
   ]
  },
  {
   "attachments": {},
   "cell_type": "markdown",
   "metadata": {},
   "source": [
    "The table above gives more detailed descriptive statistics on the transactional amount spent and income separated by gender. It shows that women clearly spend more than men do, with a far higher mean ($17.50 vs $11.61) and standard deviation, despite men seemingly purchasing drinks more often (as seen by count - 72794 vs 49382). The biggest disparity we see is in income. Females were seen to have a higher mean and 25/50/70 percentage quantile shows that the average female customer earns more than the average male customer."
   ]
  },
  {
   "cell_type": "code",
   "execution_count": 144,
   "metadata": {},
   "outputs": [
    {
     "data": {
      "image/png": "[encoded data removed]",
      "text/plain": [
       "<Figure size 2000x1000 with 1 Axes>"
      ]
     },
     "metadata": {},
     "output_type": "display_data"
    }
   ],
   "source": [
    "ax = sns.countplot(transaction_df, x='gender')\n",
    "ax.set(title='Number of Transactions by Gender', xlabel='Gender', ylabel='Number of Transactions');"
   ]
  },
  {
   "cell_type": "code",
   "execution_count": 145,
   "metadata": {},
   "outputs": [
    {
     "name": "stdout",
     "output_type": "stream",
     "text": [
      "Average number of transactions per female customer: 8.239946604371767\n",
      "Average number of transactions per male customer: 8.775647980711272\n",
      "Average number of transactions per other customer: 8.730392156862745\n"
     ]
    }
   ],
   "source": [
    "print('Average number of transactions per female customer:', transaction_df_F['amount'].count()/transaction_df_F['customer_id'].nunique())\n",
    "print('Average number of transactions per male customer:', transaction_df_M['amount'].count()/transaction_df_M['customer_id'].nunique())\n",
    "print('Average number of transactions per other customer:', transaction_df_O['amount'].count()/transaction_df_O['customer_id'].nunique())"
   ]
  },
  {
   "attachments": {},
   "cell_type": "markdown",
   "metadata": {},
   "source": [
    "Although the count vaulue for the number of total transactions was far higher for males than females, the average number of transactions per customer in each gendered dataset is actually roughly the same, albeit slightly higher for males, therefore we can amend our initial observation and say that men do not spend more often than women."
   ]
  },
  {
   "cell_type": "code",
   "execution_count": 146,
   "metadata": {},
   "outputs": [
    {
     "data": {
      "text/html": [
       "<div>\n",
       "<style scoped>\n",
       "    .dataframe tbody tr th:only-of-type {\n",
       "        vertical-align: middle;\n",
       "    }\n",
       "\n",
       "    .dataframe tbody tr th {\n",
       "        vertical-align: top;\n",
       "    }\n",
       "\n",
       "    .dataframe thead th {\n",
       "        text-align: right;\n",
       "    }\n",
       "</style>\n",
       "<table border=\"1\" class=\"dataframe\">\n",
       "  <thead>\n",
       "    <tr style=\"text-align: right;\">\n",
       "      <th></th>\n",
       "      <th>customer_id</th>\n",
       "      <th>amount</th>\n",
       "      <th>count</th>\n",
       "      <th>gender</th>\n",
       "    </tr>\n",
       "  </thead>\n",
       "  <tbody>\n",
       "    <tr>\n",
       "      <th>0</th>\n",
       "      <td>0009655768c64bdeb2e877511632db8f</td>\n",
       "      <td>127.60</td>\n",
       "      <td>8</td>\n",
       "      <td>M</td>\n",
       "    </tr>\n",
       "    <tr>\n",
       "      <th>1</th>\n",
       "      <td>0011e0d4e6b944f998e987f904e8c1e5</td>\n",
       "      <td>79.46</td>\n",
       "      <td>5</td>\n",
       "      <td>O</td>\n",
       "    </tr>\n",
       "    <tr>\n",
       "      <th>2</th>\n",
       "      <td>0020c2b971eb4e9188eac86d93036a77</td>\n",
       "      <td>196.86</td>\n",
       "      <td>8</td>\n",
       "      <td>F</td>\n",
       "    </tr>\n",
       "    <tr>\n",
       "      <th>3</th>\n",
       "      <td>0020ccbbb6d84e358d3414a3ff76cffd</td>\n",
       "      <td>154.05</td>\n",
       "      <td>12</td>\n",
       "      <td>F</td>\n",
       "    </tr>\n",
       "    <tr>\n",
       "      <th>4</th>\n",
       "      <td>003d66b6608740288d6cc97a6903f4f0</td>\n",
       "      <td>48.34</td>\n",
       "      <td>18</td>\n",
       "      <td>F</td>\n",
       "    </tr>\n",
       "    <tr>\n",
       "      <th>...</th>\n",
       "      <td>...</td>\n",
       "      <td>...</td>\n",
       "      <td>...</td>\n",
       "      <td>...</td>\n",
       "    </tr>\n",
       "    <tr>\n",
       "      <th>14487</th>\n",
       "      <td>fff3ba4757bd42088c044ca26d73817a</td>\n",
       "      <td>580.98</td>\n",
       "      <td>11</td>\n",
       "      <td>F</td>\n",
       "    </tr>\n",
       "    <tr>\n",
       "      <th>14488</th>\n",
       "      <td>fff7576017104bcc8677a8d63322b5e1</td>\n",
       "      <td>29.94</td>\n",
       "      <td>6</td>\n",
       "      <td>M</td>\n",
       "    </tr>\n",
       "    <tr>\n",
       "      <th>14489</th>\n",
       "      <td>fff8957ea8b240a6b5e634b6ee8eafcf</td>\n",
       "      <td>12.15</td>\n",
       "      <td>5</td>\n",
       "      <td>M</td>\n",
       "    </tr>\n",
       "    <tr>\n",
       "      <th>14490</th>\n",
       "      <td>fffad4f4828548d1b5583907f2e9906b</td>\n",
       "      <td>88.83</td>\n",
       "      <td>12</td>\n",
       "      <td>M</td>\n",
       "    </tr>\n",
       "    <tr>\n",
       "      <th>14491</th>\n",
       "      <td>ffff82501cea40309d5fdd7edcca4a07</td>\n",
       "      <td>226.07</td>\n",
       "      <td>15</td>\n",
       "      <td>F</td>\n",
       "    </tr>\n",
       "  </tbody>\n",
       "</table>\n",
       "<p>14492 rows × 4 columns</p>\n",
       "</div>"
      ],
      "text/plain": [
       "                            customer_id  amount  count gender\n",
       "0      0009655768c64bdeb2e877511632db8f  127.60      8      M\n",
       "1      0011e0d4e6b944f998e987f904e8c1e5   79.46      5      O\n",
       "2      0020c2b971eb4e9188eac86d93036a77  196.86      8      F\n",
       "3      0020ccbbb6d84e358d3414a3ff76cffd  154.05     12      F\n",
       "4      003d66b6608740288d6cc97a6903f4f0   48.34     18      F\n",
       "...                                 ...     ...    ...    ...\n",
       "14487  fff3ba4757bd42088c044ca26d73817a  580.98     11      F\n",
       "14488  fff7576017104bcc8677a8d63322b5e1   29.94      6      M\n",
       "14489  fff8957ea8b240a6b5e634b6ee8eafcf   12.15      5      M\n",
       "14490  fffad4f4828548d1b5583907f2e9906b   88.83     12      M\n",
       "14491  ffff82501cea40309d5fdd7edcca4a07  226.07     15      F\n",
       "\n",
       "[14492 rows x 4 columns]"
      ]
     },
     "execution_count": 146,
     "metadata": {},
     "output_type": "execute_result"
    }
   ],
   "source": [
    "transaction_amount = transaction_df[['customer_id', 'amount']].groupby(['customer_id']).sum(['amount']).reset_index()\n",
    "transaction_count = transaction_df[['customer_id', 'amount']].groupby(['customer_id']).count().reset_index().rename(columns={'amount':'count'})\n",
    "\n",
    "transaction_plot_df = pd.merge(transaction_amount, transaction_count, on='customer_id', how='left')\n",
    "transaction_plot_df = pd.merge(transaction_plot_df, profile_clean[['customer_id','gender']], on='customer_id', how='left')\n",
    "transaction_plot_df"
   ]
  },
  {
   "cell_type": "code",
   "execution_count": 147,
   "metadata": {},
   "outputs": [
    {
     "data": {
      "text/plain": [
       "<seaborn.axisgrid.FacetGrid at 0x1c7fe9b5bd0>"
      ]
     },
     "execution_count": 147,
     "metadata": {},
     "output_type": "execute_result"
    },
    {
     "data": {
      "image/png": "[encoded data removed]",
      "text/plain": [
       "<Figure size 562x500 with 1 Axes>"
      ]
     },
     "metadata": {},
     "output_type": "display_data"
    },
    {
     "data": {
      "image/png": "[encoded data removed]",
      "text/plain": [
       "<Figure size 562x500 with 1 Axes>"
      ]
     },
     "metadata": {},
     "output_type": "display_data"
    }
   ],
   "source": [
    "sns.displot(transaction_plot_df, x=\"amount\", hue='gender', element='step').set(title='Distribution of Total Value of Transactions per Customer by Gender', xlabel='Total Transaction Sum per Customer', ylabel='Frequency')\n",
    "sns.displot(transaction_plot_df, x=\"count\", hue='gender', element='step').set(title='Distribution of Number of Transactions per Customer by Gender', xlabel='Number of Transactions per Customer', ylabel='Frequency')"
   ]
  },
  {
   "attachments": {},
   "cell_type": "markdown",
   "metadata": {},
   "source": [
    "The two plots above further back up our observations so far. The first plot, showing total value of transactions, shows that between $0-100 total value, there is a sharp spike in the male customer base. Above $100, the distribution is fairly even between males and females. This means that the far higher number of men that spend in total between $0-100 would bring the average total transactional amount lower than that of females. The second plot shows that the peaks and the spread of data about them are roughly the same for both males and females. Across the board there are higher counts of men for each number of transactions which simply show the larger male customer base."
   ]
  },
  {
   "attachments": {},
   "cell_type": "markdown",
   "metadata": {},
   "source": [
    "*This answers our first question on the influence of gender on purchases. Women on average spend more at Starbucks then men do, with an average difference of about $6 per purchase. The customer base on the Starbucks app is predominately male, although these males on average earn less than the average female spender. The number of transactions between males and females is approximately the same.*"
   ]
  },
  {
   "attachments": {},
   "cell_type": "markdown",
   "metadata": {},
   "source": [
    "### Completion Trails Analysis"
   ]
  },
  {
   "attachments": {},
   "cell_type": "markdown",
   "metadata": {},
   "source": [
    "#### Offers Completed in General"
   ]
  },
  {
   "cell_type": "code",
   "execution_count": 148,
   "metadata": {},
   "outputs": [
    {
     "data": {
      "text/html": [
       "<div>\n",
       "<style scoped>\n",
       "    .dataframe tbody tr th:only-of-type {\n",
       "        vertical-align: middle;\n",
       "    }\n",
       "\n",
       "    .dataframe tbody tr th {\n",
       "        vertical-align: top;\n",
       "    }\n",
       "\n",
       "    .dataframe thead th {\n",
       "        text-align: right;\n",
       "    }\n",
       "</style>\n",
       "<table border=\"1\" class=\"dataframe\">\n",
       "  <thead>\n",
       "    <tr style=\"text-align: right;\">\n",
       "      <th></th>\n",
       "      <th>offer_id</th>\n",
       "      <th>count</th>\n",
       "      <th>bogo</th>\n",
       "      <th>discount</th>\n",
       "      <th>informational</th>\n",
       "    </tr>\n",
       "  </thead>\n",
       "  <tbody>\n",
       "    <tr>\n",
       "      <th>7</th>\n",
       "      <td>fafdcd668e3743c1bb461111dcafc2a4</td>\n",
       "      <td>5003</td>\n",
       "      <td>0</td>\n",
       "      <td>1</td>\n",
       "      <td>0</td>\n",
       "    </tr>\n",
       "    <tr>\n",
       "      <th>1</th>\n",
       "      <td>2298d6c36e964ae4a3e7e9706d1fb8c2</td>\n",
       "      <td>4886</td>\n",
       "      <td>0</td>\n",
       "      <td>1</td>\n",
       "      <td>0</td>\n",
       "    </tr>\n",
       "    <tr>\n",
       "      <th>4</th>\n",
       "      <td>9b98b8c7a33c4b65b9aebfe6a799e6d9</td>\n",
       "      <td>4188</td>\n",
       "      <td>1</td>\n",
       "      <td>0</td>\n",
       "      <td>0</td>\n",
       "    </tr>\n",
       "    <tr>\n",
       "      <th>6</th>\n",
       "      <td>f19421c1d4aa40978ebb69ca19b0e20d</td>\n",
       "      <td>4103</td>\n",
       "      <td>1</td>\n",
       "      <td>0</td>\n",
       "      <td>0</td>\n",
       "    </tr>\n",
       "    <tr>\n",
       "      <th>2</th>\n",
       "      <td>2906b810c7d4411798c6938adc9daaa5</td>\n",
       "      <td>3911</td>\n",
       "      <td>0</td>\n",
       "      <td>1</td>\n",
       "      <td>0</td>\n",
       "    </tr>\n",
       "    <tr>\n",
       "      <th>5</th>\n",
       "      <td>ae264e3637204a6fb9bb56bc8210ddfd</td>\n",
       "      <td>3657</td>\n",
       "      <td>1</td>\n",
       "      <td>0</td>\n",
       "      <td>0</td>\n",
       "    </tr>\n",
       "    <tr>\n",
       "      <th>0</th>\n",
       "      <td>0b1e1539f2cc45b7b9fa7c272da2e1d7</td>\n",
       "      <td>3386</td>\n",
       "      <td>0</td>\n",
       "      <td>1</td>\n",
       "      <td>0</td>\n",
       "    </tr>\n",
       "    <tr>\n",
       "      <th>3</th>\n",
       "      <td>4d5c57ea9a6940dd891ad53e9dbe8da0</td>\n",
       "      <td>3310</td>\n",
       "      <td>1</td>\n",
       "      <td>0</td>\n",
       "      <td>0</td>\n",
       "    </tr>\n",
       "  </tbody>\n",
       "</table>\n",
       "</div>"
      ],
      "text/plain": [
       "                           offer_id  count  bogo  discount  informational\n",
       "7  fafdcd668e3743c1bb461111dcafc2a4   5003     0         1              0\n",
       "1  2298d6c36e964ae4a3e7e9706d1fb8c2   4886     0         1              0\n",
       "4  9b98b8c7a33c4b65b9aebfe6a799e6d9   4188     1         0              0\n",
       "6  f19421c1d4aa40978ebb69ca19b0e20d   4103     1         0              0\n",
       "2  2906b810c7d4411798c6938adc9daaa5   3911     0         1              0\n",
       "5  ae264e3637204a6fb9bb56bc8210ddfd   3657     1         0              0\n",
       "0  0b1e1539f2cc45b7b9fa7c272da2e1d7   3386     0         1              0\n",
       "3  4d5c57ea9a6940dd891ad53e9dbe8da0   3310     1         0              0"
      ]
     },
     "execution_count": 148,
     "metadata": {},
     "output_type": "execute_result"
    }
   ],
   "source": [
    "offer_compl_df = df_merge[df_merge['offer-completed'] == 1].groupby(['offer_id']).count()[['customer_id']].reset_index().rename(columns={'customer_id':'count'})\n",
    "offer_compl_df = pd.merge(offer_compl_df, portfolio_clean[['offer_id','bogo','discount','informational']], on='offer_id', how='left').sort_values(by='count', ascending=False)\n",
    "offer_compl_df"
   ]
  },
  {
   "cell_type": "code",
   "execution_count": 149,
   "metadata": {},
   "outputs": [
    {
     "name": "stdout",
     "output_type": "stream",
     "text": [
      "Number of completed BOGO offers: 15258\n",
      "Number of completed discount offers: 17186\n",
      "Number of completed informational offers: 0\n"
     ]
    }
   ],
   "source": [
    "print('Number of completed BOGO offers:',offer_compl_df[offer_compl_df['bogo']==1]['count'].sum())\n",
    "print('Number of completed discount offers:',offer_compl_df[offer_compl_df['discount']==1]['count'].sum())\n",
    "print('Number of completed informational offers:',offer_compl_df[offer_compl_df['informational']==1]['count'].sum())"
   ]
  },
  {
   "attachments": {},
   "cell_type": "markdown",
   "metadata": {},
   "source": [
    "The most common offers to be completed by customers were discount offers. No informational offers were completed, probably because there is no difficulty or reward and the current dataset doesn't capture information about what drink was featured on the information offer and what drinks the customer purchased with each transaction. If this data was captured we'd be able to see when customers bought a drink that was featured in an informational offer."
   ]
  },
  {
   "cell_type": "code",
   "execution_count": 150,
   "metadata": {},
   "outputs": [
    {
     "data": {
      "image/png": "[encoded data removed]",
      "text/plain": [
       "<Figure size 2000x1000 with 1 Axes>"
      ]
     },
     "metadata": {},
     "output_type": "display_data"
    }
   ],
   "source": [
    "df_merge.groupby(['event', 'offer_type']).size().unstack().plot(kind='bar', stacked=False)\n",
    "plt.title('Distribution of Offer Type by Event')\n",
    "plt.xlabel('Event')\n",
    "plt.show()"
   ]
  },
  {
   "attachments": {},
   "cell_type": "markdown",
   "metadata": {},
   "source": [
    "From the above chart, it can be seen that customers mostly received bogo and discount offers however, they were more likely to view the bogo offers. We already know that all offers are communicated via email, but bogo offers are more common via mobile and social, whereas discount offers were more common on the web. Even though customers viewed more bogo offers, offers thay mostly likely to complete discount offers, perhaps because the duration of these offers was on average longer, which allowed customers more time to spend the necessary amount."
   ]
  },
  {
   "cell_type": "code",
   "execution_count": 210,
   "metadata": {},
   "outputs": [
    {
     "data": {
      "text/html": [
       "<div>\n",
       "<style scoped>\n",
       "    .dataframe tbody tr th:only-of-type {\n",
       "        vertical-align: middle;\n",
       "    }\n",
       "\n",
       "    .dataframe tbody tr th {\n",
       "        vertical-align: top;\n",
       "    }\n",
       "\n",
       "    .dataframe thead th {\n",
       "        text-align: right;\n",
       "    }\n",
       "</style>\n",
       "<table border=\"1\" class=\"dataframe\">\n",
       "  <thead>\n",
       "    <tr style=\"text-align: right;\">\n",
       "      <th></th>\n",
       "      <th>customer_id</th>\n",
       "      <th>event</th>\n",
       "      <th>time</th>\n",
       "      <th>offer-completed</th>\n",
       "      <th>offer-received</th>\n",
       "      <th>offer-viewed</th>\n",
       "      <th>transaction</th>\n",
       "      <th>offer_id</th>\n",
       "      <th>amount</th>\n",
       "      <th>reward</th>\n",
       "    </tr>\n",
       "  </thead>\n",
       "  <tbody>\n",
       "    <tr>\n",
       "      <th>0</th>\n",
       "      <td>78afa995795e4d85b5d9ceeca43f5fef</td>\n",
       "      <td>offer-received</td>\n",
       "      <td>0</td>\n",
       "      <td>0</td>\n",
       "      <td>1</td>\n",
       "      <td>0</td>\n",
       "      <td>0</td>\n",
       "      <td>9b98b8c7a33c4b65b9aebfe6a799e6d9</td>\n",
       "      <td>NaN</td>\n",
       "      <td>NaN</td>\n",
       "    </tr>\n",
       "    <tr>\n",
       "      <th>1</th>\n",
       "      <td>a03223e636434f42ac4c3df47e8bac43</td>\n",
       "      <td>offer-received</td>\n",
       "      <td>0</td>\n",
       "      <td>0</td>\n",
       "      <td>1</td>\n",
       "      <td>0</td>\n",
       "      <td>0</td>\n",
       "      <td>0b1e1539f2cc45b7b9fa7c272da2e1d7</td>\n",
       "      <td>NaN</td>\n",
       "      <td>NaN</td>\n",
       "    </tr>\n",
       "    <tr>\n",
       "      <th>2</th>\n",
       "      <td>e2127556f4f64592b11af22de27a7932</td>\n",
       "      <td>offer-received</td>\n",
       "      <td>0</td>\n",
       "      <td>0</td>\n",
       "      <td>1</td>\n",
       "      <td>0</td>\n",
       "      <td>0</td>\n",
       "      <td>2906b810c7d4411798c6938adc9daaa5</td>\n",
       "      <td>NaN</td>\n",
       "      <td>NaN</td>\n",
       "    </tr>\n",
       "    <tr>\n",
       "      <th>3</th>\n",
       "      <td>8ec6ce2a7e7949b1bf142def7d0e0586</td>\n",
       "      <td>offer-received</td>\n",
       "      <td>0</td>\n",
       "      <td>0</td>\n",
       "      <td>1</td>\n",
       "      <td>0</td>\n",
       "      <td>0</td>\n",
       "      <td>fafdcd668e3743c1bb461111dcafc2a4</td>\n",
       "      <td>NaN</td>\n",
       "      <td>NaN</td>\n",
       "    </tr>\n",
       "    <tr>\n",
       "      <th>4</th>\n",
       "      <td>68617ca6246f4fbc85e91a2a49552598</td>\n",
       "      <td>offer-received</td>\n",
       "      <td>0</td>\n",
       "      <td>0</td>\n",
       "      <td>1</td>\n",
       "      <td>0</td>\n",
       "      <td>0</td>\n",
       "      <td>4d5c57ea9a6940dd891ad53e9dbe8da0</td>\n",
       "      <td>NaN</td>\n",
       "      <td>NaN</td>\n",
       "    </tr>\n",
       "    <tr>\n",
       "      <th>...</th>\n",
       "      <td>...</td>\n",
       "      <td>...</td>\n",
       "      <td>...</td>\n",
       "      <td>...</td>\n",
       "      <td>...</td>\n",
       "      <td>...</td>\n",
       "      <td>...</td>\n",
       "      <td>...</td>\n",
       "      <td>...</td>\n",
       "      <td>...</td>\n",
       "    </tr>\n",
       "    <tr>\n",
       "      <th>306529</th>\n",
       "      <td>b3a1272bc9904337b331bf348c3e8c17</td>\n",
       "      <td>transaction</td>\n",
       "      <td>714</td>\n",
       "      <td>0</td>\n",
       "      <td>0</td>\n",
       "      <td>0</td>\n",
       "      <td>1</td>\n",
       "      <td>NaN</td>\n",
       "      <td>1.59</td>\n",
       "      <td>NaN</td>\n",
       "    </tr>\n",
       "    <tr>\n",
       "      <th>306530</th>\n",
       "      <td>68213b08d99a4ae1b0dcb72aebd9aa35</td>\n",
       "      <td>transaction</td>\n",
       "      <td>714</td>\n",
       "      <td>0</td>\n",
       "      <td>0</td>\n",
       "      <td>0</td>\n",
       "      <td>1</td>\n",
       "      <td>NaN</td>\n",
       "      <td>9.53</td>\n",
       "      <td>NaN</td>\n",
       "    </tr>\n",
       "    <tr>\n",
       "      <th>306531</th>\n",
       "      <td>a00058cf10334a308c68e7631c529907</td>\n",
       "      <td>transaction</td>\n",
       "      <td>714</td>\n",
       "      <td>0</td>\n",
       "      <td>0</td>\n",
       "      <td>0</td>\n",
       "      <td>1</td>\n",
       "      <td>NaN</td>\n",
       "      <td>3.61</td>\n",
       "      <td>NaN</td>\n",
       "    </tr>\n",
       "    <tr>\n",
       "      <th>306532</th>\n",
       "      <td>76ddbd6576844afe811f1a3c0fbb5bec</td>\n",
       "      <td>transaction</td>\n",
       "      <td>714</td>\n",
       "      <td>0</td>\n",
       "      <td>0</td>\n",
       "      <td>0</td>\n",
       "      <td>1</td>\n",
       "      <td>NaN</td>\n",
       "      <td>3.53</td>\n",
       "      <td>NaN</td>\n",
       "    </tr>\n",
       "    <tr>\n",
       "      <th>306533</th>\n",
       "      <td>c02b10e8752c4d8e9b73f918558531f7</td>\n",
       "      <td>transaction</td>\n",
       "      <td>714</td>\n",
       "      <td>0</td>\n",
       "      <td>0</td>\n",
       "      <td>0</td>\n",
       "      <td>1</td>\n",
       "      <td>NaN</td>\n",
       "      <td>4.05</td>\n",
       "      <td>NaN</td>\n",
       "    </tr>\n",
       "  </tbody>\n",
       "</table>\n",
       "<p>306534 rows × 10 columns</p>\n",
       "</div>"
      ],
      "text/plain": [
       "                             customer_id           event  time   \n",
       "0       78afa995795e4d85b5d9ceeca43f5fef  offer-received     0  \\\n",
       "1       a03223e636434f42ac4c3df47e8bac43  offer-received     0   \n",
       "2       e2127556f4f64592b11af22de27a7932  offer-received     0   \n",
       "3       8ec6ce2a7e7949b1bf142def7d0e0586  offer-received     0   \n",
       "4       68617ca6246f4fbc85e91a2a49552598  offer-received     0   \n",
       "...                                  ...             ...   ...   \n",
       "306529  b3a1272bc9904337b331bf348c3e8c17     transaction   714   \n",
       "306530  68213b08d99a4ae1b0dcb72aebd9aa35     transaction   714   \n",
       "306531  a00058cf10334a308c68e7631c529907     transaction   714   \n",
       "306532  76ddbd6576844afe811f1a3c0fbb5bec     transaction   714   \n",
       "306533  c02b10e8752c4d8e9b73f918558531f7     transaction   714   \n",
       "\n",
       "        offer-completed  offer-received  offer-viewed  transaction   \n",
       "0                     0               1             0            0  \\\n",
       "1                     0               1             0            0   \n",
       "2                     0               1             0            0   \n",
       "3                     0               1             0            0   \n",
       "4                     0               1             0            0   \n",
       "...                 ...             ...           ...          ...   \n",
       "306529                0               0             0            1   \n",
       "306530                0               0             0            1   \n",
       "306531                0               0             0            1   \n",
       "306532                0               0             0            1   \n",
       "306533                0               0             0            1   \n",
       "\n",
       "                                offer_id  amount  reward  \n",
       "0       9b98b8c7a33c4b65b9aebfe6a799e6d9     NaN     NaN  \n",
       "1       0b1e1539f2cc45b7b9fa7c272da2e1d7     NaN     NaN  \n",
       "2       2906b810c7d4411798c6938adc9daaa5     NaN     NaN  \n",
       "3       fafdcd668e3743c1bb461111dcafc2a4     NaN     NaN  \n",
       "4       4d5c57ea9a6940dd891ad53e9dbe8da0     NaN     NaN  \n",
       "...                                  ...     ...     ...  \n",
       "306529                               NaN    1.59     NaN  \n",
       "306530                               NaN    9.53     NaN  \n",
       "306531                               NaN    3.61     NaN  \n",
       "306532                               NaN    3.53     NaN  \n",
       "306533                               NaN    4.05     NaN  \n",
       "\n",
       "[306534 rows x 10 columns]"
      ]
     },
     "execution_count": 210,
     "metadata": {},
     "output_type": "execute_result"
    }
   ],
   "source": [
    "transcript_clean"
   ]
  },
  {
   "attachments": {},
   "cell_type": "markdown",
   "metadata": {},
   "source": [
    "#### Offers Completed after Viewing"
   ]
  },
  {
   "cell_type": "code",
   "execution_count": 152,
   "metadata": {},
   "outputs": [],
   "source": [
    "transcript_portfolio = pd.merge(transcript_clean, portfolio_clean, on='offer_id', how='left')\n",
    "transcript_by_group = transcript_portfolio.groupby(['customer_id', 'offer_id'])"
   ]
  },
  {
   "attachments": {},
   "cell_type": "markdown",
   "metadata": {},
   "source": [
    "As we know, it's possible for customers to complete an offer without having viewed it perviously, therefore it's not enough for us to just look at the totals for each offer status (received, viewed, completed) as we did previously. Below, I have created a new column called _'status'_ which has four possible values:\n",
    "- 'completed_after_viewed': the ideal completion trail that we want to observe where the order of statuses is first received, then viewed, then completed.\n",
    "- 'completed_before_viewed': the misleading completion trail where the order of statuses is received, then completed, then viewed.\n",
    "- 'not_viewed_but_completed': another misleading completion trail where customers only received and completed the offer without ever viewing it.\n",
    "- 'not_completed': either the customer received and viewed the offer, or just receieved it. There is no completion of the offer."
   ]
  },
  {
   "cell_type": "code",
   "execution_count": 153,
   "metadata": {},
   "outputs": [
    {
     "name": "stdout",
     "output_type": "stream",
     "text": [
      "CPU times: total: 8.12 s\n",
      "Wall time: 17.2 s\n"
     ]
    }
   ],
   "source": [
    "%%time\n",
    "\n",
    "completion_details = [];\n",
    "\n",
    "for pair, g in transcript_by_group:\n",
    "    record = {}\n",
    "    event = list(g['event'])\n",
    "    \n",
    "    if all(item in event for item in ['offer-received', 'offer-viewed', 'offer-completed']):\n",
    "        if event.index('offer-viewed') < event.index('offer-completed'):\n",
    "            record['status'] = 'completed_after_viewed';\n",
    "        else:\n",
    "            record['status'] = 'completed_before_viewed';\n",
    "    elif all(item in event for item in ['offer-received', 'offer-completed']) and ('offer-viewed' not in event):\n",
    "        record['status'] = 'not_viewed_but_completed';\n",
    "    else:\n",
    "        record['status'] = 'not_completed';\n",
    "\n",
    "    person_id, offer_id = g['customer_id'].iloc[0], g['offer_id'].iloc[0];\n",
    "    record['customer_id'], record['offer_id'] = person_id, offer_id;\n",
    "\n",
    "    completion_details.append(record);\n",
    "\n",
    "completion_details_df = pd.DataFrame(completion_details)"
   ]
  },
  {
   "cell_type": "code",
   "execution_count": 154,
   "metadata": {},
   "outputs": [
    {
     "data": {
      "text/html": [
       "<div>\n",
       "<style scoped>\n",
       "    .dataframe tbody tr th:only-of-type {\n",
       "        vertical-align: middle;\n",
       "    }\n",
       "\n",
       "    .dataframe tbody tr th {\n",
       "        vertical-align: top;\n",
       "    }\n",
       "\n",
       "    .dataframe thead th {\n",
       "        text-align: right;\n",
       "    }\n",
       "</style>\n",
       "<table border=\"1\" class=\"dataframe\">\n",
       "  <thead>\n",
       "    <tr style=\"text-align: right;\">\n",
       "      <th></th>\n",
       "      <th>status</th>\n",
       "      <th>count</th>\n",
       "      <th>proportion</th>\n",
       "    </tr>\n",
       "  </thead>\n",
       "  <tbody>\n",
       "    <tr>\n",
       "      <th>0</th>\n",
       "      <td>not_completed</td>\n",
       "      <td>34292</td>\n",
       "      <td>0.541840</td>\n",
       "    </tr>\n",
       "    <tr>\n",
       "      <th>1</th>\n",
       "      <td>completed_after_viewed</td>\n",
       "      <td>20752</td>\n",
       "      <td>0.327898</td>\n",
       "    </tr>\n",
       "    <tr>\n",
       "      <th>2</th>\n",
       "      <td>not_viewed_but_completed</td>\n",
       "      <td>4536</td>\n",
       "      <td>0.071672</td>\n",
       "    </tr>\n",
       "    <tr>\n",
       "      <th>3</th>\n",
       "      <td>completed_before_viewed</td>\n",
       "      <td>3708</td>\n",
       "      <td>0.058589</td>\n",
       "    </tr>\n",
       "  </tbody>\n",
       "</table>\n",
       "</div>"
      ],
      "text/plain": [
       "                     status  count  proportion\n",
       "0             not_completed  34292    0.541840\n",
       "1    completed_after_viewed  20752    0.327898\n",
       "2  not_viewed_but_completed   4536    0.071672\n",
       "3   completed_before_viewed   3708    0.058589"
      ]
     },
     "execution_count": 154,
     "metadata": {},
     "output_type": "execute_result"
    }
   ],
   "source": [
    "# the count and proportion of offers that are in each status category\n",
    "status_df = pd.DataFrame(completion_details_df['status'].value_counts()).reset_index()\n",
    "status_df['proportion'] = status_df['count']/completion_details_df.shape[0]\n",
    "status_df"
   ]
  },
  {
   "cell_type": "code",
   "execution_count": 220,
   "metadata": {},
   "outputs": [
    {
     "data": {
      "text/plain": [
       "status\n",
       "completed_after_viewed      11568\n",
       "completed_before_viewed      3233\n",
       "not_completed               14674\n",
       "not_viewed_but_completed     3850\n",
       "Name: customer_id, dtype: int64"
      ]
     },
     "execution_count": 220,
     "metadata": {},
     "output_type": "execute_result"
    }
   ],
   "source": [
    "# the number of customers that have at least one offer for each offer status\n",
    "completion_details_df.groupby('status')['customer_id'].nunique()"
   ]
  },
  {
   "cell_type": "code",
   "execution_count": 155,
   "metadata": {},
   "outputs": [
    {
     "data": {
      "image/png": "[encoded data removed]",
      "text/plain": [
       "<Figure size 1200x800 with 1 Axes>"
      ]
     },
     "metadata": {},
     "output_type": "display_data"
    }
   ],
   "source": [
    "plt.figure(figsize=(12,8))\n",
    "ax = sns.countplot(completion_details_df, x='status');\n",
    "ax.set(title='Distribution of Offer Status', xlabel='Status', ylabel='Frequency');"
   ]
  },
  {
   "attachments": {},
   "cell_type": "markdown",
   "metadata": {},
   "source": [
    "- The 'not_completed' status includes the offers which were received, as well as those that were received and viewed. Most of the offer statuses fall into this category (54%)\n",
    "- 33% of offers had a status of 'completed_after_viewed' which is the 'ideal' completion trail of the offer being received, then viewed, the completed. This was the second most common offer status and had 20,752 offers falling into this category.\n",
    "- 13% were offers fell into the last two categories of 'not_viewed_but_completed' and 'not_completed' i.e. they were completed and either not viewed or viewed afterwards.\n",
    "- 28,996 offers were utilised.\n",
    "- 11,568 customers completed an offer after viewing it, and 3,233 people completed offers before viewing them."
   ]
  },
  {
   "attachments": {},
   "cell_type": "markdown",
   "metadata": {},
   "source": [
    "*This answers our second question about how many customers complete offers before and after viewing them. 11,568 customers completed an offer after viewing it, and 3,233 customers completed the offer first before viewing it. Over half of the offers that were sent were not completed.*"
   ]
  },
  {
   "cell_type": "code",
   "execution_count": 156,
   "metadata": {},
   "outputs": [
    {
     "data": {
      "text/html": [
       "<div>\n",
       "<style scoped>\n",
       "    .dataframe tbody tr th:only-of-type {\n",
       "        vertical-align: middle;\n",
       "    }\n",
       "\n",
       "    .dataframe tbody tr th {\n",
       "        vertical-align: top;\n",
       "    }\n",
       "\n",
       "    .dataframe thead th {\n",
       "        text-align: right;\n",
       "    }\n",
       "</style>\n",
       "<table border=\"1\" class=\"dataframe\">\n",
       "  <thead>\n",
       "    <tr style=\"text-align: right;\">\n",
       "      <th></th>\n",
       "      <th>offer_id</th>\n",
       "      <th>count</th>\n",
       "      <th>reward</th>\n",
       "      <th>difficulty</th>\n",
       "      <th>duration</th>\n",
       "      <th>offer_type</th>\n",
       "      <th>email</th>\n",
       "      <th>mobile</th>\n",
       "      <th>social</th>\n",
       "      <th>web</th>\n",
       "      <th>bogo</th>\n",
       "      <th>discount</th>\n",
       "      <th>informational</th>\n",
       "    </tr>\n",
       "  </thead>\n",
       "  <tbody>\n",
       "    <tr>\n",
       "      <th>0</th>\n",
       "      <td>fafdcd668e3743c1bb461111dcafc2a4</td>\n",
       "      <td>4033</td>\n",
       "      <td>2</td>\n",
       "      <td>10</td>\n",
       "      <td>10</td>\n",
       "      <td>discount</td>\n",
       "      <td>1</td>\n",
       "      <td>1</td>\n",
       "      <td>1</td>\n",
       "      <td>1</td>\n",
       "      <td>0</td>\n",
       "      <td>1</td>\n",
       "      <td>0</td>\n",
       "    </tr>\n",
       "    <tr>\n",
       "      <th>1</th>\n",
       "      <td>2298d6c36e964ae4a3e7e9706d1fb8c2</td>\n",
       "      <td>3820</td>\n",
       "      <td>3</td>\n",
       "      <td>7</td>\n",
       "      <td>7</td>\n",
       "      <td>discount</td>\n",
       "      <td>1</td>\n",
       "      <td>1</td>\n",
       "      <td>1</td>\n",
       "      <td>1</td>\n",
       "      <td>0</td>\n",
       "      <td>1</td>\n",
       "      <td>0</td>\n",
       "    </tr>\n",
       "    <tr>\n",
       "      <th>2</th>\n",
       "      <td>f19421c1d4aa40978ebb69ca19b0e20d</td>\n",
       "      <td>3129</td>\n",
       "      <td>5</td>\n",
       "      <td>5</td>\n",
       "      <td>5</td>\n",
       "      <td>bogo</td>\n",
       "      <td>1</td>\n",
       "      <td>1</td>\n",
       "      <td>1</td>\n",
       "      <td>1</td>\n",
       "      <td>1</td>\n",
       "      <td>0</td>\n",
       "      <td>0</td>\n",
       "    </tr>\n",
       "    <tr>\n",
       "      <th>3</th>\n",
       "      <td>4d5c57ea9a6940dd891ad53e9dbe8da0</td>\n",
       "      <td>2436</td>\n",
       "      <td>10</td>\n",
       "      <td>10</td>\n",
       "      <td>5</td>\n",
       "      <td>bogo</td>\n",
       "      <td>1</td>\n",
       "      <td>1</td>\n",
       "      <td>1</td>\n",
       "      <td>1</td>\n",
       "      <td>1</td>\n",
       "      <td>0</td>\n",
       "      <td>0</td>\n",
       "    </tr>\n",
       "    <tr>\n",
       "      <th>4</th>\n",
       "      <td>ae264e3637204a6fb9bb56bc8210ddfd</td>\n",
       "      <td>2314</td>\n",
       "      <td>10</td>\n",
       "      <td>10</td>\n",
       "      <td>7</td>\n",
       "      <td>bogo</td>\n",
       "      <td>1</td>\n",
       "      <td>1</td>\n",
       "      <td>1</td>\n",
       "      <td>0</td>\n",
       "      <td>1</td>\n",
       "      <td>0</td>\n",
       "      <td>0</td>\n",
       "    </tr>\n",
       "    <tr>\n",
       "      <th>5</th>\n",
       "      <td>9b98b8c7a33c4b65b9aebfe6a799e6d9</td>\n",
       "      <td>1922</td>\n",
       "      <td>5</td>\n",
       "      <td>5</td>\n",
       "      <td>7</td>\n",
       "      <td>bogo</td>\n",
       "      <td>1</td>\n",
       "      <td>1</td>\n",
       "      <td>0</td>\n",
       "      <td>1</td>\n",
       "      <td>1</td>\n",
       "      <td>0</td>\n",
       "      <td>0</td>\n",
       "    </tr>\n",
       "    <tr>\n",
       "      <th>6</th>\n",
       "      <td>2906b810c7d4411798c6938adc9daaa5</td>\n",
       "      <td>1891</td>\n",
       "      <td>2</td>\n",
       "      <td>10</td>\n",
       "      <td>7</td>\n",
       "      <td>discount</td>\n",
       "      <td>1</td>\n",
       "      <td>1</td>\n",
       "      <td>0</td>\n",
       "      <td>1</td>\n",
       "      <td>0</td>\n",
       "      <td>1</td>\n",
       "      <td>0</td>\n",
       "    </tr>\n",
       "    <tr>\n",
       "      <th>7</th>\n",
       "      <td>0b1e1539f2cc45b7b9fa7c272da2e1d7</td>\n",
       "      <td>1207</td>\n",
       "      <td>5</td>\n",
       "      <td>20</td>\n",
       "      <td>10</td>\n",
       "      <td>discount</td>\n",
       "      <td>1</td>\n",
       "      <td>0</td>\n",
       "      <td>0</td>\n",
       "      <td>1</td>\n",
       "      <td>0</td>\n",
       "      <td>1</td>\n",
       "      <td>0</td>\n",
       "    </tr>\n",
       "  </tbody>\n",
       "</table>\n",
       "</div>"
      ],
      "text/plain": [
       "                           offer_id  count  reward  difficulty  duration   \n",
       "0  fafdcd668e3743c1bb461111dcafc2a4   4033       2          10        10  \\\n",
       "1  2298d6c36e964ae4a3e7e9706d1fb8c2   3820       3           7         7   \n",
       "2  f19421c1d4aa40978ebb69ca19b0e20d   3129       5           5         5   \n",
       "3  4d5c57ea9a6940dd891ad53e9dbe8da0   2436      10          10         5   \n",
       "4  ae264e3637204a6fb9bb56bc8210ddfd   2314      10          10         7   \n",
       "5  9b98b8c7a33c4b65b9aebfe6a799e6d9   1922       5           5         7   \n",
       "6  2906b810c7d4411798c6938adc9daaa5   1891       2          10         7   \n",
       "7  0b1e1539f2cc45b7b9fa7c272da2e1d7   1207       5          20        10   \n",
       "\n",
       "  offer_type  email  mobile  social  web  bogo  discount  informational  \n",
       "0   discount      1       1       1    1     0         1              0  \n",
       "1   discount      1       1       1    1     0         1              0  \n",
       "2       bogo      1       1       1    1     1         0              0  \n",
       "3       bogo      1       1       1    1     1         0              0  \n",
       "4       bogo      1       1       1    0     1         0              0  \n",
       "5       bogo      1       1       0    1     1         0              0  \n",
       "6   discount      1       1       0    1     0         1              0  \n",
       "7   discount      1       0       0    1     0         1              0  "
      ]
     },
     "execution_count": 156,
     "metadata": {},
     "output_type": "execute_result"
    }
   ],
   "source": [
    "# merging the completed after viewing counts for each offer to the cleaned portfolio dataset\n",
    "completed_offers = pd.DataFrame(completion_details_df[completion_details_df['status'] == 'completed_after_viewed']['offer_id'].value_counts()).reset_index()\n",
    "pd.merge(completed_offers, portfolio_clean, on='offer_id', how='left')"
   ]
  },
  {
   "cell_type": "code",
   "execution_count": 157,
   "metadata": {},
   "outputs": [
    {
     "data": {
      "text/plain": [
       "offer_type\n",
       "bogo         9801\n",
       "discount    10951\n",
       "Name: count, dtype: int64"
      ]
     },
     "execution_count": 157,
     "metadata": {},
     "output_type": "execute_result"
    }
   ],
   "source": [
    "pd.merge(completed_offers, portfolio_clean, on='offer_id', how='left').groupby('offer_type')['count'].sum()"
   ]
  },
  {
   "attachments": {},
   "cell_type": "markdown",
   "metadata": {},
   "source": [
    "*This answers our third question about the offer type that was most likely to be completed. Surprisingly, it appears that discount offers are both the most common and least common type of offer to be completed after viewed, even with the same durations and similar reward/difficulty. Overall though, discount offers were the most likely type of offer to be completed after being viewed, with 1,150 more discount offers being completed after being viewed than bogo offers.*"
   ]
  },
  {
   "cell_type": "code",
   "execution_count": 158,
   "metadata": {},
   "outputs": [
    {
     "data": {
      "image/png": "[encoded data removed]",
      "text/plain": [
       "<Figure size 1200x800 with 1 Axes>"
      ]
     },
     "metadata": {},
     "output_type": "display_data"
    }
   ],
   "source": [
    "plt.figure(figsize=(12,8))\n",
    "sns.countplot(pd.merge(completion_details_df, profile_clean[['customer_id','gender']], on='customer_id', how='left'), x = 'status', hue='gender')\n",
    "ax.set(title='Distribution of Offer Status by Gender', xlabel='Status', ylabel='Frequency');"
   ]
  },
  {
   "attachments": {},
   "cell_type": "markdown",
   "metadata": {},
   "source": [
    "This final graph above is very interesting as we see the difference between male and females for each offer status is largest for the offers that were not completed. A lot more men than women didn't complete offers, whereas for the 'ideal' completion track of completion_after_viewed, the difference between the two is a lot smaller."
   ]
  },
  {
   "attachments": {},
   "cell_type": "markdown",
   "metadata": {},
   "source": [
    "## Data Modelling"
   ]
  },
  {
   "attachments": {},
   "cell_type": "markdown",
   "metadata": {},
   "source": [
    "Now that problem questions 1-3 have been answered through exploratory analysis with visualisations and descriptive statistics, we will move onto answering the fourth and final question of understanding which attributes in the dataset most contribute to a customer's likelihood of completing an offer after viewing it. We will do this by building a machine learning pipeline that uses cross-validation and also has optimised hyperparameters to select the model with the highest accuracy score."
   ]
  },
  {
   "attachments": {},
   "cell_type": "markdown",
   "metadata": {},
   "source": [
    "### Feature Engineering"
   ]
  },
  {
   "attachments": {},
   "cell_type": "markdown",
   "metadata": {},
   "source": [
    "First we need to create the dataframe that would have our X matrix of features and Y response variable to be used in the model."
   ]
  },
  {
   "cell_type": "code",
   "execution_count": 159,
   "metadata": {},
   "outputs": [
    {
     "name": "stdout",
     "output_type": "stream",
     "text": [
      "<class 'pandas.core.frame.DataFrame'>\n",
      "RangeIndex: 63288 entries, 0 to 63287\n",
      "Data columns (total 3 columns):\n",
      " #   Column       Non-Null Count  Dtype \n",
      "---  ------       --------------  ----- \n",
      " 0   status       63288 non-null  object\n",
      " 1   customer_id  63288 non-null  object\n",
      " 2   offer_id     63288 non-null  object\n",
      "dtypes: object(3)\n",
      "memory usage: 1.4+ MB\n"
     ]
    }
   ],
   "source": [
    "model_df = completion_details_df.copy()\n",
    "model_df.info()"
   ]
  },
  {
   "cell_type": "code",
   "execution_count": 160,
   "metadata": {},
   "outputs": [],
   "source": [
    "model_df['completed_after_viewed'] = pd.get_dummies(model_df['status']).groupby(level=0).sum().drop(columns=['not_viewed_but_completed','not_completed','completed_before_viewed'])"
   ]
  },
  {
   "cell_type": "code",
   "execution_count": 161,
   "metadata": {},
   "outputs": [],
   "source": [
    "model_df = pd.merge(model_df, portfolio_clean, on='offer_id', how='left')\n",
    "model_df = pd.merge(model_df, profile_clean.drop(columns=['gender','became_member_on']), on='customer_id', how='left')\n",
    "model_df = pd.merge(model_df, transaction_plot_df.drop(columns=['gender']).rename(columns={'amount':'transaction_amount', 'count':'transaction_count'}), on='customer_id', how='left')\n",
    "model_df.drop(columns=['status','customer_id','offer_id','offer_type','membership_year'], inplace=True)"
   ]
  },
  {
   "cell_type": "code",
   "execution_count": 162,
   "metadata": {},
   "outputs": [
    {
     "data": {
      "text/html": [
       "<div>\n",
       "<style scoped>\n",
       "    .dataframe tbody tr th:only-of-type {\n",
       "        vertical-align: middle;\n",
       "    }\n",
       "\n",
       "    .dataframe tbody tr th {\n",
       "        vertical-align: top;\n",
       "    }\n",
       "\n",
       "    .dataframe thead th {\n",
       "        text-align: right;\n",
       "    }\n",
       "</style>\n",
       "<table border=\"1\" class=\"dataframe\">\n",
       "  <thead>\n",
       "    <tr style=\"text-align: right;\">\n",
       "      <th></th>\n",
       "      <th>completed_after_viewed</th>\n",
       "      <th>reward</th>\n",
       "      <th>difficulty</th>\n",
       "      <th>duration</th>\n",
       "      <th>email</th>\n",
       "      <th>mobile</th>\n",
       "      <th>social</th>\n",
       "      <th>web</th>\n",
       "      <th>bogo</th>\n",
       "      <th>discount</th>\n",
       "      <th>...</th>\n",
       "      <th>gender_M</th>\n",
       "      <th>gender_O</th>\n",
       "      <th>year_joined_2013</th>\n",
       "      <th>year_joined_2014</th>\n",
       "      <th>year_joined_2015</th>\n",
       "      <th>year_joined_2016</th>\n",
       "      <th>year_joined_2017</th>\n",
       "      <th>year_joined_2018</th>\n",
       "      <th>transaction_amount</th>\n",
       "      <th>transaction_count</th>\n",
       "    </tr>\n",
       "  </thead>\n",
       "  <tbody>\n",
       "    <tr>\n",
       "      <th>0</th>\n",
       "      <td>0</td>\n",
       "      <td>2</td>\n",
       "      <td>10</td>\n",
       "      <td>7</td>\n",
       "      <td>1</td>\n",
       "      <td>1</td>\n",
       "      <td>0</td>\n",
       "      <td>1</td>\n",
       "      <td>0</td>\n",
       "      <td>1</td>\n",
       "      <td>...</td>\n",
       "      <td>1.0</td>\n",
       "      <td>0.0</td>\n",
       "      <td>0.0</td>\n",
       "      <td>0.0</td>\n",
       "      <td>0.0</td>\n",
       "      <td>0.0</td>\n",
       "      <td>1.0</td>\n",
       "      <td>0.0</td>\n",
       "      <td>127.60</td>\n",
       "      <td>8.0</td>\n",
       "    </tr>\n",
       "    <tr>\n",
       "      <th>1</th>\n",
       "      <td>0</td>\n",
       "      <td>0</td>\n",
       "      <td>0</td>\n",
       "      <td>4</td>\n",
       "      <td>1</td>\n",
       "      <td>1</td>\n",
       "      <td>0</td>\n",
       "      <td>1</td>\n",
       "      <td>0</td>\n",
       "      <td>0</td>\n",
       "      <td>...</td>\n",
       "      <td>1.0</td>\n",
       "      <td>0.0</td>\n",
       "      <td>0.0</td>\n",
       "      <td>0.0</td>\n",
       "      <td>0.0</td>\n",
       "      <td>0.0</td>\n",
       "      <td>1.0</td>\n",
       "      <td>0.0</td>\n",
       "      <td>127.60</td>\n",
       "      <td>8.0</td>\n",
       "    </tr>\n",
       "    <tr>\n",
       "      <th>2</th>\n",
       "      <td>0</td>\n",
       "      <td>0</td>\n",
       "      <td>0</td>\n",
       "      <td>3</td>\n",
       "      <td>1</td>\n",
       "      <td>1</td>\n",
       "      <td>1</td>\n",
       "      <td>0</td>\n",
       "      <td>0</td>\n",
       "      <td>0</td>\n",
       "      <td>...</td>\n",
       "      <td>1.0</td>\n",
       "      <td>0.0</td>\n",
       "      <td>0.0</td>\n",
       "      <td>0.0</td>\n",
       "      <td>0.0</td>\n",
       "      <td>0.0</td>\n",
       "      <td>1.0</td>\n",
       "      <td>0.0</td>\n",
       "      <td>127.60</td>\n",
       "      <td>8.0</td>\n",
       "    </tr>\n",
       "    <tr>\n",
       "      <th>3</th>\n",
       "      <td>0</td>\n",
       "      <td>5</td>\n",
       "      <td>5</td>\n",
       "      <td>5</td>\n",
       "      <td>1</td>\n",
       "      <td>1</td>\n",
       "      <td>1</td>\n",
       "      <td>1</td>\n",
       "      <td>1</td>\n",
       "      <td>0</td>\n",
       "      <td>...</td>\n",
       "      <td>1.0</td>\n",
       "      <td>0.0</td>\n",
       "      <td>0.0</td>\n",
       "      <td>0.0</td>\n",
       "      <td>0.0</td>\n",
       "      <td>0.0</td>\n",
       "      <td>1.0</td>\n",
       "      <td>0.0</td>\n",
       "      <td>127.60</td>\n",
       "      <td>8.0</td>\n",
       "    </tr>\n",
       "    <tr>\n",
       "      <th>4</th>\n",
       "      <td>0</td>\n",
       "      <td>2</td>\n",
       "      <td>10</td>\n",
       "      <td>10</td>\n",
       "      <td>1</td>\n",
       "      <td>1</td>\n",
       "      <td>1</td>\n",
       "      <td>1</td>\n",
       "      <td>0</td>\n",
       "      <td>1</td>\n",
       "      <td>...</td>\n",
       "      <td>1.0</td>\n",
       "      <td>0.0</td>\n",
       "      <td>0.0</td>\n",
       "      <td>0.0</td>\n",
       "      <td>0.0</td>\n",
       "      <td>0.0</td>\n",
       "      <td>1.0</td>\n",
       "      <td>0.0</td>\n",
       "      <td>127.60</td>\n",
       "      <td>8.0</td>\n",
       "    </tr>\n",
       "    <tr>\n",
       "      <th>6</th>\n",
       "      <td>1</td>\n",
       "      <td>5</td>\n",
       "      <td>20</td>\n",
       "      <td>10</td>\n",
       "      <td>1</td>\n",
       "      <td>0</td>\n",
       "      <td>0</td>\n",
       "      <td>1</td>\n",
       "      <td>0</td>\n",
       "      <td>1</td>\n",
       "      <td>...</td>\n",
       "      <td>0.0</td>\n",
       "      <td>1.0</td>\n",
       "      <td>0.0</td>\n",
       "      <td>0.0</td>\n",
       "      <td>0.0</td>\n",
       "      <td>0.0</td>\n",
       "      <td>0.0</td>\n",
       "      <td>1.0</td>\n",
       "      <td>79.46</td>\n",
       "      <td>5.0</td>\n",
       "    </tr>\n",
       "    <tr>\n",
       "      <th>7</th>\n",
       "      <td>1</td>\n",
       "      <td>3</td>\n",
       "      <td>7</td>\n",
       "      <td>7</td>\n",
       "      <td>1</td>\n",
       "      <td>1</td>\n",
       "      <td>1</td>\n",
       "      <td>1</td>\n",
       "      <td>0</td>\n",
       "      <td>1</td>\n",
       "      <td>...</td>\n",
       "      <td>0.0</td>\n",
       "      <td>1.0</td>\n",
       "      <td>0.0</td>\n",
       "      <td>0.0</td>\n",
       "      <td>0.0</td>\n",
       "      <td>0.0</td>\n",
       "      <td>0.0</td>\n",
       "      <td>1.0</td>\n",
       "      <td>79.46</td>\n",
       "      <td>5.0</td>\n",
       "    </tr>\n",
       "    <tr>\n",
       "      <th>8</th>\n",
       "      <td>0</td>\n",
       "      <td>0</td>\n",
       "      <td>0</td>\n",
       "      <td>4</td>\n",
       "      <td>1</td>\n",
       "      <td>1</td>\n",
       "      <td>0</td>\n",
       "      <td>1</td>\n",
       "      <td>0</td>\n",
       "      <td>0</td>\n",
       "      <td>...</td>\n",
       "      <td>0.0</td>\n",
       "      <td>1.0</td>\n",
       "      <td>0.0</td>\n",
       "      <td>0.0</td>\n",
       "      <td>0.0</td>\n",
       "      <td>0.0</td>\n",
       "      <td>0.0</td>\n",
       "      <td>1.0</td>\n",
       "      <td>79.46</td>\n",
       "      <td>5.0</td>\n",
       "    </tr>\n",
       "    <tr>\n",
       "      <th>9</th>\n",
       "      <td>0</td>\n",
       "      <td>0</td>\n",
       "      <td>0</td>\n",
       "      <td>3</td>\n",
       "      <td>1</td>\n",
       "      <td>1</td>\n",
       "      <td>1</td>\n",
       "      <td>0</td>\n",
       "      <td>0</td>\n",
       "      <td>0</td>\n",
       "      <td>...</td>\n",
       "      <td>0.0</td>\n",
       "      <td>1.0</td>\n",
       "      <td>0.0</td>\n",
       "      <td>0.0</td>\n",
       "      <td>0.0</td>\n",
       "      <td>0.0</td>\n",
       "      <td>0.0</td>\n",
       "      <td>1.0</td>\n",
       "      <td>79.46</td>\n",
       "      <td>5.0</td>\n",
       "    </tr>\n",
       "    <tr>\n",
       "      <th>10</th>\n",
       "      <td>1</td>\n",
       "      <td>5</td>\n",
       "      <td>5</td>\n",
       "      <td>7</td>\n",
       "      <td>1</td>\n",
       "      <td>1</td>\n",
       "      <td>0</td>\n",
       "      <td>1</td>\n",
       "      <td>1</td>\n",
       "      <td>0</td>\n",
       "      <td>...</td>\n",
       "      <td>0.0</td>\n",
       "      <td>1.0</td>\n",
       "      <td>0.0</td>\n",
       "      <td>0.0</td>\n",
       "      <td>0.0</td>\n",
       "      <td>0.0</td>\n",
       "      <td>0.0</td>\n",
       "      <td>1.0</td>\n",
       "      <td>79.46</td>\n",
       "      <td>5.0</td>\n",
       "    </tr>\n",
       "  </tbody>\n",
       "</table>\n",
       "<p>10 rows × 25 columns</p>\n",
       "</div>"
      ],
      "text/plain": [
       "    completed_after_viewed  reward  difficulty  duration  email  mobile   \n",
       "0                        0       2          10         7      1       1  \\\n",
       "1                        0       0           0         4      1       1   \n",
       "2                        0       0           0         3      1       1   \n",
       "3                        0       5           5         5      1       1   \n",
       "4                        0       2          10        10      1       1   \n",
       "6                        1       5          20        10      1       0   \n",
       "7                        1       3           7         7      1       1   \n",
       "8                        0       0           0         4      1       1   \n",
       "9                        0       0           0         3      1       1   \n",
       "10                       1       5           5         7      1       1   \n",
       "\n",
       "    social  web  bogo  discount  ...  gender_M  gender_O  year_joined_2013   \n",
       "0        0    1     0         1  ...       1.0       0.0               0.0  \\\n",
       "1        0    1     0         0  ...       1.0       0.0               0.0   \n",
       "2        1    0     0         0  ...       1.0       0.0               0.0   \n",
       "3        1    1     1         0  ...       1.0       0.0               0.0   \n",
       "4        1    1     0         1  ...       1.0       0.0               0.0   \n",
       "6        0    1     0         1  ...       0.0       1.0               0.0   \n",
       "7        1    1     0         1  ...       0.0       1.0               0.0   \n",
       "8        0    1     0         0  ...       0.0       1.0               0.0   \n",
       "9        1    0     0         0  ...       0.0       1.0               0.0   \n",
       "10       0    1     1         0  ...       0.0       1.0               0.0   \n",
       "\n",
       "    year_joined_2014  year_joined_2015  year_joined_2016  year_joined_2017   \n",
       "0                0.0               0.0               0.0               1.0  \\\n",
       "1                0.0               0.0               0.0               1.0   \n",
       "2                0.0               0.0               0.0               1.0   \n",
       "3                0.0               0.0               0.0               1.0   \n",
       "4                0.0               0.0               0.0               1.0   \n",
       "6                0.0               0.0               0.0               0.0   \n",
       "7                0.0               0.0               0.0               0.0   \n",
       "8                0.0               0.0               0.0               0.0   \n",
       "9                0.0               0.0               0.0               0.0   \n",
       "10               0.0               0.0               0.0               0.0   \n",
       "\n",
       "    year_joined_2018  transaction_amount  transaction_count  \n",
       "0                0.0              127.60                8.0  \n",
       "1                0.0              127.60                8.0  \n",
       "2                0.0              127.60                8.0  \n",
       "3                0.0              127.60                8.0  \n",
       "4                0.0              127.60                8.0  \n",
       "6                1.0               79.46                5.0  \n",
       "7                1.0               79.46                5.0  \n",
       "8                1.0               79.46                5.0  \n",
       "9                1.0               79.46                5.0  \n",
       "10               1.0               79.46                5.0  \n",
       "\n",
       "[10 rows x 25 columns]"
      ]
     },
     "execution_count": 162,
     "metadata": {},
     "output_type": "execute_result"
    }
   ],
   "source": [
    "model_df = model_df.dropna(axis=0)\n",
    "model_df.head(10)"
   ]
  },
  {
   "attachments": {},
   "cell_type": "markdown",
   "metadata": {},
   "source": [
    "### Modelling"
   ]
  },
  {
   "attachments": {},
   "cell_type": "markdown",
   "metadata": {},
   "source": [
    "In order to build a predictive model to be able to predict whether an offer will be completed after being viewed, we will first normalise the data, determine which classifier gives a higher accuracy score, and then use SelectKBest to select the features that produce the best accuracy score. The data first needs to be split into train and test sets."
   ]
  },
  {
   "cell_type": "code",
   "execution_count": 164,
   "metadata": {},
   "outputs": [],
   "source": [
    "Y = model_df['completed_after_viewed']\n",
    "X = model_df.drop(columns='completed_after_viewed')"
   ]
  },
  {
   "cell_type": "code",
   "execution_count": 165,
   "metadata": {},
   "outputs": [
    {
     "data": {
      "text/plain": [
       "reward                   0\n",
       "difficulty               0\n",
       "duration                 0\n",
       "email                    0\n",
       "mobile                   0\n",
       "social                   0\n",
       "web                      0\n",
       "bogo                     0\n",
       "discount                 0\n",
       "informational            0\n",
       "age                      0\n",
       "income                   0\n",
       "customer_loyalty_days    0\n",
       "gender_F                 0\n",
       "gender_M                 0\n",
       "gender_O                 0\n",
       "year_joined_2013         0\n",
       "year_joined_2014         0\n",
       "year_joined_2015         0\n",
       "year_joined_2016         0\n",
       "year_joined_2017         0\n",
       "year_joined_2018         0\n",
       "transaction_amount       0\n",
       "transaction_count        0\n",
       "dtype: int64"
      ]
     },
     "execution_count": 165,
     "metadata": {},
     "output_type": "execute_result"
    }
   ],
   "source": [
    "# checking for any missing data in the features\n",
    "X.isna().sum()"
   ]
  },
  {
   "cell_type": "code",
   "execution_count": 166,
   "metadata": {},
   "outputs": [
    {
     "data": {
      "text/html": [
       "<div>\n",
       "<style scoped>\n",
       "    .dataframe tbody tr th:only-of-type {\n",
       "        vertical-align: middle;\n",
       "    }\n",
       "\n",
       "    .dataframe tbody tr th {\n",
       "        vertical-align: top;\n",
       "    }\n",
       "\n",
       "    .dataframe thead th {\n",
       "        text-align: right;\n",
       "    }\n",
       "</style>\n",
       "<table border=\"1\" class=\"dataframe\">\n",
       "  <thead>\n",
       "    <tr style=\"text-align: right;\">\n",
       "      <th></th>\n",
       "      <th>reward</th>\n",
       "      <th>difficulty</th>\n",
       "      <th>duration</th>\n",
       "      <th>email</th>\n",
       "      <th>mobile</th>\n",
       "      <th>social</th>\n",
       "      <th>web</th>\n",
       "      <th>bogo</th>\n",
       "      <th>discount</th>\n",
       "      <th>informational</th>\n",
       "      <th>...</th>\n",
       "      <th>gender_M</th>\n",
       "      <th>gender_O</th>\n",
       "      <th>year_joined_2013</th>\n",
       "      <th>year_joined_2014</th>\n",
       "      <th>year_joined_2015</th>\n",
       "      <th>year_joined_2016</th>\n",
       "      <th>year_joined_2017</th>\n",
       "      <th>year_joined_2018</th>\n",
       "      <th>transaction_amount</th>\n",
       "      <th>transaction_count</th>\n",
       "    </tr>\n",
       "  </thead>\n",
       "  <tbody>\n",
       "    <tr>\n",
       "      <th>count</th>\n",
       "      <td>53987.000000</td>\n",
       "      <td>53987.000000</td>\n",
       "      <td>53987.000000</td>\n",
       "      <td>53987.0</td>\n",
       "      <td>53987.000000</td>\n",
       "      <td>53987.000000</td>\n",
       "      <td>53987.000000</td>\n",
       "      <td>53987.000000</td>\n",
       "      <td>53987.000000</td>\n",
       "      <td>53987.000000</td>\n",
       "      <td>...</td>\n",
       "      <td>53987.000000</td>\n",
       "      <td>53987.000000</td>\n",
       "      <td>53987.000000</td>\n",
       "      <td>53987.000000</td>\n",
       "      <td>53987.000000</td>\n",
       "      <td>53987.000000</td>\n",
       "      <td>53987.000000</td>\n",
       "      <td>53987.000000</td>\n",
       "      <td>53987.000000</td>\n",
       "      <td>53987.000000</td>\n",
       "    </tr>\n",
       "    <tr>\n",
       "      <th>mean</th>\n",
       "      <td>4.206346</td>\n",
       "      <td>7.713801</td>\n",
       "      <td>6.506085</td>\n",
       "      <td>1.0</td>\n",
       "      <td>0.899031</td>\n",
       "      <td>0.599811</td>\n",
       "      <td>0.798933</td>\n",
       "      <td>0.399763</td>\n",
       "      <td>0.400096</td>\n",
       "      <td>0.200141</td>\n",
       "      <td>...</td>\n",
       "      <td>0.573064</td>\n",
       "      <td>0.013651</td>\n",
       "      <td>0.018838</td>\n",
       "      <td>0.045585</td>\n",
       "      <td>0.108841</td>\n",
       "      <td>0.207068</td>\n",
       "      <td>0.377461</td>\n",
       "      <td>0.242206</td>\n",
       "      <td>121.906929</td>\n",
       "      <td>8.715469</td>\n",
       "    </tr>\n",
       "    <tr>\n",
       "      <th>std</th>\n",
       "      <td>3.404103</td>\n",
       "      <td>5.545905</td>\n",
       "      <td>2.205351</td>\n",
       "      <td>0.0</td>\n",
       "      <td>0.301290</td>\n",
       "      <td>0.489941</td>\n",
       "      <td>0.400802</td>\n",
       "      <td>0.489854</td>\n",
       "      <td>0.489922</td>\n",
       "      <td>0.400109</td>\n",
       "      <td>...</td>\n",
       "      <td>0.494637</td>\n",
       "      <td>0.116040</td>\n",
       "      <td>0.135953</td>\n",
       "      <td>0.208585</td>\n",
       "      <td>0.311443</td>\n",
       "      <td>0.405209</td>\n",
       "      <td>0.484756</td>\n",
       "      <td>0.428423</td>\n",
       "      <td>131.904318</td>\n",
       "      <td>5.159581</td>\n",
       "    </tr>\n",
       "    <tr>\n",
       "      <th>min</th>\n",
       "      <td>0.000000</td>\n",
       "      <td>0.000000</td>\n",
       "      <td>3.000000</td>\n",
       "      <td>1.0</td>\n",
       "      <td>0.000000</td>\n",
       "      <td>0.000000</td>\n",
       "      <td>0.000000</td>\n",
       "      <td>0.000000</td>\n",
       "      <td>0.000000</td>\n",
       "      <td>0.000000</td>\n",
       "      <td>...</td>\n",
       "      <td>0.000000</td>\n",
       "      <td>0.000000</td>\n",
       "      <td>0.000000</td>\n",
       "      <td>0.000000</td>\n",
       "      <td>0.000000</td>\n",
       "      <td>0.000000</td>\n",
       "      <td>0.000000</td>\n",
       "      <td>0.000000</td>\n",
       "      <td>0.150000</td>\n",
       "      <td>1.000000</td>\n",
       "    </tr>\n",
       "    <tr>\n",
       "      <th>25%</th>\n",
       "      <td>2.000000</td>\n",
       "      <td>5.000000</td>\n",
       "      <td>5.000000</td>\n",
       "      <td>1.0</td>\n",
       "      <td>1.000000</td>\n",
       "      <td>0.000000</td>\n",
       "      <td>1.000000</td>\n",
       "      <td>0.000000</td>\n",
       "      <td>0.000000</td>\n",
       "      <td>0.000000</td>\n",
       "      <td>...</td>\n",
       "      <td>0.000000</td>\n",
       "      <td>0.000000</td>\n",
       "      <td>0.000000</td>\n",
       "      <td>0.000000</td>\n",
       "      <td>0.000000</td>\n",
       "      <td>0.000000</td>\n",
       "      <td>0.000000</td>\n",
       "      <td>0.000000</td>\n",
       "      <td>35.010000</td>\n",
       "      <td>5.000000</td>\n",
       "    </tr>\n",
       "    <tr>\n",
       "      <th>50%</th>\n",
       "      <td>5.000000</td>\n",
       "      <td>10.000000</td>\n",
       "      <td>7.000000</td>\n",
       "      <td>1.0</td>\n",
       "      <td>1.000000</td>\n",
       "      <td>1.000000</td>\n",
       "      <td>1.000000</td>\n",
       "      <td>0.000000</td>\n",
       "      <td>0.000000</td>\n",
       "      <td>0.000000</td>\n",
       "      <td>...</td>\n",
       "      <td>1.000000</td>\n",
       "      <td>0.000000</td>\n",
       "      <td>0.000000</td>\n",
       "      <td>0.000000</td>\n",
       "      <td>0.000000</td>\n",
       "      <td>0.000000</td>\n",
       "      <td>0.000000</td>\n",
       "      <td>0.000000</td>\n",
       "      <td>91.680000</td>\n",
       "      <td>8.000000</td>\n",
       "    </tr>\n",
       "    <tr>\n",
       "      <th>75%</th>\n",
       "      <td>5.000000</td>\n",
       "      <td>10.000000</td>\n",
       "      <td>7.000000</td>\n",
       "      <td>1.0</td>\n",
       "      <td>1.000000</td>\n",
       "      <td>1.000000</td>\n",
       "      <td>1.000000</td>\n",
       "      <td>1.000000</td>\n",
       "      <td>1.000000</td>\n",
       "      <td>0.000000</td>\n",
       "      <td>...</td>\n",
       "      <td>1.000000</td>\n",
       "      <td>0.000000</td>\n",
       "      <td>0.000000</td>\n",
       "      <td>0.000000</td>\n",
       "      <td>0.000000</td>\n",
       "      <td>0.000000</td>\n",
       "      <td>1.000000</td>\n",
       "      <td>0.000000</td>\n",
       "      <td>166.520000</td>\n",
       "      <td>12.000000</td>\n",
       "    </tr>\n",
       "    <tr>\n",
       "      <th>max</th>\n",
       "      <td>10.000000</td>\n",
       "      <td>20.000000</td>\n",
       "      <td>10.000000</td>\n",
       "      <td>1.0</td>\n",
       "      <td>1.000000</td>\n",
       "      <td>1.000000</td>\n",
       "      <td>1.000000</td>\n",
       "      <td>1.000000</td>\n",
       "      <td>1.000000</td>\n",
       "      <td>1.000000</td>\n",
       "      <td>...</td>\n",
       "      <td>1.000000</td>\n",
       "      <td>1.000000</td>\n",
       "      <td>1.000000</td>\n",
       "      <td>1.000000</td>\n",
       "      <td>1.000000</td>\n",
       "      <td>1.000000</td>\n",
       "      <td>1.000000</td>\n",
       "      <td>1.000000</td>\n",
       "      <td>1608.690000</td>\n",
       "      <td>36.000000</td>\n",
       "    </tr>\n",
       "  </tbody>\n",
       "</table>\n",
       "<p>8 rows × 24 columns</p>\n",
       "</div>"
      ],
      "text/plain": [
       "             reward    difficulty      duration    email        mobile   \n",
       "count  53987.000000  53987.000000  53987.000000  53987.0  53987.000000  \\\n",
       "mean       4.206346      7.713801      6.506085      1.0      0.899031   \n",
       "std        3.404103      5.545905      2.205351      0.0      0.301290   \n",
       "min        0.000000      0.000000      3.000000      1.0      0.000000   \n",
       "25%        2.000000      5.000000      5.000000      1.0      1.000000   \n",
       "50%        5.000000     10.000000      7.000000      1.0      1.000000   \n",
       "75%        5.000000     10.000000      7.000000      1.0      1.000000   \n",
       "max       10.000000     20.000000     10.000000      1.0      1.000000   \n",
       "\n",
       "             social           web          bogo      discount  informational   \n",
       "count  53987.000000  53987.000000  53987.000000  53987.000000   53987.000000  \\\n",
       "mean       0.599811      0.798933      0.399763      0.400096       0.200141   \n",
       "std        0.489941      0.400802      0.489854      0.489922       0.400109   \n",
       "min        0.000000      0.000000      0.000000      0.000000       0.000000   \n",
       "25%        0.000000      1.000000      0.000000      0.000000       0.000000   \n",
       "50%        1.000000      1.000000      0.000000      0.000000       0.000000   \n",
       "75%        1.000000      1.000000      1.000000      1.000000       0.000000   \n",
       "max        1.000000      1.000000      1.000000      1.000000       1.000000   \n",
       "\n",
       "       ...      gender_M      gender_O  year_joined_2013  year_joined_2014   \n",
       "count  ...  53987.000000  53987.000000      53987.000000      53987.000000  \\\n",
       "mean   ...      0.573064      0.013651          0.018838          0.045585   \n",
       "std    ...      0.494637      0.116040          0.135953          0.208585   \n",
       "min    ...      0.000000      0.000000          0.000000          0.000000   \n",
       "25%    ...      0.000000      0.000000          0.000000          0.000000   \n",
       "50%    ...      1.000000      0.000000          0.000000          0.000000   \n",
       "75%    ...      1.000000      0.000000          0.000000          0.000000   \n",
       "max    ...      1.000000      1.000000          1.000000          1.000000   \n",
       "\n",
       "       year_joined_2015  year_joined_2016  year_joined_2017  year_joined_2018   \n",
       "count      53987.000000      53987.000000      53987.000000      53987.000000  \\\n",
       "mean           0.108841          0.207068          0.377461          0.242206   \n",
       "std            0.311443          0.405209          0.484756          0.428423   \n",
       "min            0.000000          0.000000          0.000000          0.000000   \n",
       "25%            0.000000          0.000000          0.000000          0.000000   \n",
       "50%            0.000000          0.000000          0.000000          0.000000   \n",
       "75%            0.000000          0.000000          1.000000          0.000000   \n",
       "max            1.000000          1.000000          1.000000          1.000000   \n",
       "\n",
       "       transaction_amount  transaction_count  \n",
       "count        53987.000000       53987.000000  \n",
       "mean           121.906929           8.715469  \n",
       "std            131.904318           5.159581  \n",
       "min              0.150000           1.000000  \n",
       "25%             35.010000           5.000000  \n",
       "50%             91.680000           8.000000  \n",
       "75%            166.520000          12.000000  \n",
       "max           1608.690000          36.000000  \n",
       "\n",
       "[8 rows x 24 columns]"
      ]
     },
     "execution_count": 166,
     "metadata": {},
     "output_type": "execute_result"
    }
   ],
   "source": [
    "X.describe()"
   ]
  },
  {
   "cell_type": "code",
   "execution_count": 167,
   "metadata": {},
   "outputs": [],
   "source": [
    "# email column only has '1' values in it therefore will provide no extra benefit for the model\n",
    "X.drop(columns=['email'], inplace=True)"
   ]
  },
  {
   "cell_type": "code",
   "execution_count": 168,
   "metadata": {},
   "outputs": [
    {
     "data": {
      "text/plain": [
       "((37790, 23), (16197, 23), (37790,), (16197,))"
      ]
     },
     "execution_count": 168,
     "metadata": {},
     "output_type": "execute_result"
    }
   ],
   "source": [
    "X_train, X_test, y_train, y_test = train_test_split(X, Y, test_size=0.3, random_state=23)\n",
    "X_train.shape, X_test.shape, y_train.shape, y_test.shape"
   ]
  },
  {
   "cell_type": "code",
   "execution_count": 169,
   "metadata": {},
   "outputs": [],
   "source": [
    "# normalising the data\n",
    "scaler = StandardScaler()\n",
    "X_train = scaler.fit_transform(X_train)\n",
    "X_test = scaler.fit_transform(X_test)"
   ]
  },
  {
   "cell_type": "code",
   "execution_count": 227,
   "metadata": {},
   "outputs": [
    {
     "data": {
      "text/plain": [
       "0.36742178672643416"
      ]
     },
     "execution_count": 227,
     "metadata": {},
     "output_type": "execute_result"
    }
   ],
   "source": [
    "Y.mean()"
   ]
  },
  {
   "attachments": {},
   "cell_type": "markdown",
   "metadata": {},
   "source": [
    "As this is a classification problem, we will use an f1 score as the metric of choice instead of an accuracy score. The f1 score is more accurate than an accuracy score when there is uneven class distribution present. We have this situation here as only 36% of the response variable is the true value.\n",
    "\n",
    "This is the metric we optimize, since the f1 score is a way to take into account both precision and recall and therefore the metric that compensantes and optimised the full picture."
   ]
  },
  {
   "attachments": {},
   "cell_type": "markdown",
   "metadata": {},
   "source": [
    "We perform a comparision of three classifiers and perform hyperparamter tuning for them to oprtimize for the best f1 score. \n",
    "Firt we will not tune the hyperparameters but use the default values in order to get the classifier with the best score and then we will perform hyperparameter tuning over this classifier to optimize computational efforts."
   ]
  },
  {
   "attachments": {},
   "cell_type": "markdown",
   "metadata": {},
   "source": [
    "#### Finding the Best Classifier"
   ]
  },
  {
   "cell_type": "code",
   "execution_count": 170,
   "metadata": {},
   "outputs": [
    {
     "data": {
      "text/plain": [
       "0.6715392743923917"
      ]
     },
     "execution_count": 170,
     "metadata": {},
     "output_type": "execute_result"
    }
   ],
   "source": [
    "baseline_model = LogisticRegression()\n",
    "baseline_model.fit(X_train,y_train)\n",
    "\n",
    "y_pred = baseline_model.predict(X_test)\n",
    "accuracy = f1_score(y_test, y_pred)\n",
    "accuracy"
   ]
  },
  {
   "cell_type": "code",
   "execution_count": 171,
   "metadata": {},
   "outputs": [
    {
     "data": {
      "image/png": "[encoded data removed]",
      "text/plain": [
       "<Figure size 500x500 with 2 Axes>"
      ]
     },
     "metadata": {},
     "output_type": "display_data"
    }
   ],
   "source": [
    "# plot confusion matrix\n",
    "\n",
    "plt.figure(figsize=(5, 5))\n",
    "sns.heatmap(confusion_matrix(y_test, y_pred), annot=True, fmt=\"d\");\n",
    "plt.ylabel('Actual');\n",
    "plt.xlabel('Predicted');\n",
    "plt.title('Accuracy Score: {}'.format(f1_score(y_test, y_pred)));\n",
    "plt.show() "
   ]
  },
  {
   "cell_type": "code",
   "execution_count": 172,
   "metadata": {},
   "outputs": [
    {
     "data": {
      "text/plain": [
       "0.70342405618964"
      ]
     },
     "execution_count": 172,
     "metadata": {},
     "output_type": "execute_result"
    }
   ],
   "source": [
    "baseline_model_2 = SVC()\n",
    "baseline_model_2.fit(X_train,y_train)\n",
    "\n",
    "y_pred_2 = baseline_model_2.predict(X_test)\n",
    "accuracy_2 = f1_score(y_test, y_pred_2)\n",
    "accuracy_2"
   ]
  },
  {
   "cell_type": "code",
   "execution_count": 173,
   "metadata": {},
   "outputs": [
    {
     "data": {
      "text/plain": [
       "0.6423885618166526"
      ]
     },
     "execution_count": 173,
     "metadata": {},
     "output_type": "execute_result"
    }
   ],
   "source": [
    "baseline_model_3 = DecisionTreeClassifier()\n",
    "baseline_model_3.fit(X_train,y_train)\n",
    "\n",
    "y_pred_3 = baseline_model_3.predict(X_test)\n",
    "accuracy_3 = f1_score(y_test, y_pred_3)\n",
    "accuracy_3"
   ]
  },
  {
   "cell_type": "code",
   "execution_count": null,
   "metadata": {},
   "outputs": [],
   "source": [
    "metrics_df = pd.DataFrame({'model':['Logistic Regression', 'SVC', 'Decision Tree'],'metrics':[accuracy, accuracy_2, accuracy_3]})"
   ]
  },
  {
   "attachments": {},
   "cell_type": "markdown",
   "metadata": {},
   "source": [
    "SVC seems to give the highest f1 score = 70.3%, and this is on the full set of features in X i.e. 23 variables. We will ise this classifier and try improvements on the model by using GridSearch to find the optimal hyperparameters that optimise the f1 score for the model."
   ]
  },
  {
   "attachments": {},
   "cell_type": "markdown",
   "metadata": {},
   "source": [
    "#### Optimising the Model"
   ]
  },
  {
   "cell_type": "code",
   "execution_count": 174,
   "metadata": {},
   "outputs": [],
   "source": [
    "# Create pipeline\n",
    "pipeline = make_pipeline(RobustScaler(),\n",
    "                         SelectKBest(f_classif),\n",
    "                         SVC())"
   ]
  },
  {
   "cell_type": "code",
   "execution_count": 175,
   "metadata": {},
   "outputs": [
    {
     "name": "stdout",
     "output_type": "stream",
     "text": [
      "Fitting 5 folds for each of 40 candidates, totalling 200 fits\n",
      "[CV] END selectkbest__k=3, svc__C=0.0001, svc__class_weight=None; total time= 1.4min\n",
      "[CV] END selectkbest__k=3, svc__C=0.0001, svc__class_weight=None; total time= 1.4min\n",
      "[CV] END selectkbest__k=3, svc__C=0.0001, svc__class_weight=None; total time= 1.4min\n",
      "[CV] END selectkbest__k=3, svc__C=0.0001, svc__class_weight=None; total time= 1.4min\n",
      "[CV] END selectkbest__k=3, svc__C=0.0001, svc__class_weight=None; total time=  31.8s\n",
      "[CV] END selectkbest__k=3, svc__C=0.0001, svc__class_weight=balanced; total time=  57.8s\n",
      "[CV] END selectkbest__k=3, svc__C=0.0001, svc__class_weight=balanced; total time=  42.5s\n",
      "[CV] END selectkbest__k=3, svc__C=0.0001, svc__class_weight=balanced; total time=  43.4s\n",
      "[CV] END selectkbest__k=3, svc__C=0.0001, svc__class_weight=balanced; total time=  42.7s\n",
      "[CV] END selectkbest__k=3, svc__C=0.0001, svc__class_weight=balanced; total time=  42.6s\n",
      "[CV] END selectkbest__k=3, svc__C=0.001, svc__class_weight=None; total time=  28.8s\n",
      "[CV] END selectkbest__k=3, svc__C=0.001, svc__class_weight=None; total time=  28.8s\n",
      "[CV] END selectkbest__k=3, svc__C=0.001, svc__class_weight=None; total time=  29.4s\n",
      "[CV] END selectkbest__k=3, svc__C=0.001, svc__class_weight=None; total time=  28.9s\n",
      "[CV] END selectkbest__k=3, svc__C=0.001, svc__class_weight=None; total time=  29.0s\n",
      "[CV] END selectkbest__k=3, svc__C=0.001, svc__class_weight=balanced; total time=  35.1s\n",
      "[CV] END selectkbest__k=3, svc__C=0.001, svc__class_weight=balanced; total time=  34.2s\n",
      "[CV] END selectkbest__k=3, svc__C=0.001, svc__class_weight=balanced; total time=  34.0s\n",
      "[CV] END selectkbest__k=3, svc__C=0.001, svc__class_weight=balanced; total time=  33.8s\n",
      "[CV] END selectkbest__k=3, svc__C=0.001, svc__class_weight=balanced; total time=  34.3s\n",
      "[CV] END selectkbest__k=3, svc__C=0.01, svc__class_weight=None; total time=  25.9s\n",
      "[CV] END selectkbest__k=3, svc__C=0.01, svc__class_weight=None; total time=  25.7s\n",
      "[CV] END selectkbest__k=3, svc__C=0.01, svc__class_weight=None; total time=  26.0s\n",
      "[CV] END selectkbest__k=3, svc__C=0.01, svc__class_weight=None; total time=  26.0s\n",
      "[CV] END selectkbest__k=3, svc__C=0.01, svc__class_weight=None; total time=  26.2s\n",
      "[CV] END selectkbest__k=3, svc__C=0.01, svc__class_weight=balanced; total time=  27.3s\n",
      "[CV] END selectkbest__k=3, svc__C=0.01, svc__class_weight=balanced; total time=  27.6s\n",
      "[CV] END selectkbest__k=3, svc__C=0.01, svc__class_weight=balanced; total time=  27.4s\n",
      "[CV] END selectkbest__k=3, svc__C=0.01, svc__class_weight=balanced; total time=  27.4s\n",
      "[CV] END selectkbest__k=3, svc__C=0.01, svc__class_weight=balanced; total time=  28.3s\n",
      "[CV] END selectkbest__k=3, svc__C=0.1, svc__class_weight=None; total time=  25.8s\n",
      "[CV] END selectkbest__k=3, svc__C=0.1, svc__class_weight=None; total time=  25.2s\n",
      "[CV] END selectkbest__k=3, svc__C=0.1, svc__class_weight=None; total time=  25.0s\n",
      "[CV] END selectkbest__k=3, svc__C=0.1, svc__class_weight=None; total time=  25.0s\n",
      "[CV] END selectkbest__k=3, svc__C=0.1, svc__class_weight=None; total time=  25.0s\n",
      "[CV] END selectkbest__k=3, svc__C=0.1, svc__class_weight=balanced; total time=  27.9s\n",
      "[CV] END selectkbest__k=3, svc__C=0.1, svc__class_weight=balanced; total time=  26.2s\n",
      "[CV] END selectkbest__k=3, svc__C=0.1, svc__class_weight=balanced; total time=  26.3s\n",
      "[CV] END selectkbest__k=3, svc__C=0.1, svc__class_weight=balanced; total time=  26.4s\n",
      "[CV] END selectkbest__k=3, svc__C=0.1, svc__class_weight=balanced; total time=  26.5s\n",
      "[CV] END selectkbest__k=4, svc__C=0.0001, svc__class_weight=None; total time=  29.9s\n",
      "[CV] END selectkbest__k=4, svc__C=0.0001, svc__class_weight=None; total time=  29.7s\n",
      "[CV] END selectkbest__k=4, svc__C=0.0001, svc__class_weight=None; total time=  30.7s\n",
      "[CV] END selectkbest__k=4, svc__C=0.0001, svc__class_weight=None; total time=  30.6s\n",
      "[CV] END selectkbest__k=4, svc__C=0.0001, svc__class_weight=None; total time=  30.9s\n",
      "[CV] END selectkbest__k=4, svc__C=0.0001, svc__class_weight=balanced; total time=  46.1s\n",
      "[CV] END selectkbest__k=4, svc__C=0.0001, svc__class_weight=balanced; total time=  46.3s\n",
      "[CV] END selectkbest__k=4, svc__C=0.0001, svc__class_weight=balanced; total time=  46.8s\n",
      "[CV] END selectkbest__k=4, svc__C=0.0001, svc__class_weight=balanced; total time=  46.4s\n",
      "[CV] END selectkbest__k=4, svc__C=0.0001, svc__class_weight=balanced; total time=  47.3s\n",
      "[CV] END selectkbest__k=4, svc__C=0.001, svc__class_weight=None; total time=  29.8s\n",
      "[CV] END selectkbest__k=4, svc__C=0.001, svc__class_weight=None; total time=  29.8s\n",
      "[CV] END selectkbest__k=4, svc__C=0.001, svc__class_weight=None; total time=  30.7s\n",
      "[CV] END selectkbest__k=4, svc__C=0.001, svc__class_weight=None; total time=  29.9s\n",
      "[CV] END selectkbest__k=4, svc__C=0.001, svc__class_weight=None; total time=  29.7s\n",
      "[CV] END selectkbest__k=4, svc__C=0.001, svc__class_weight=balanced; total time=  36.5s\n",
      "[CV] END selectkbest__k=4, svc__C=0.001, svc__class_weight=balanced; total time=  36.6s\n",
      "[CV] END selectkbest__k=4, svc__C=0.001, svc__class_weight=balanced; total time=  36.4s\n",
      "[CV] END selectkbest__k=4, svc__C=0.001, svc__class_weight=balanced; total time=  36.3s\n",
      "[CV] END selectkbest__k=4, svc__C=0.001, svc__class_weight=balanced; total time=  36.2s\n",
      "[CV] END selectkbest__k=4, svc__C=0.01, svc__class_weight=None; total time=  25.3s\n",
      "[CV] END selectkbest__k=4, svc__C=0.01, svc__class_weight=None; total time=  25.3s\n",
      "[CV] END selectkbest__k=4, svc__C=0.01, svc__class_weight=None; total time=  24.4s\n",
      "[CV] END selectkbest__k=4, svc__C=0.01, svc__class_weight=None; total time=  25.5s\n",
      "[CV] END selectkbest__k=4, svc__C=0.01, svc__class_weight=None; total time=  25.4s\n",
      "[CV] END selectkbest__k=4, svc__C=0.01, svc__class_weight=balanced; total time=  29.5s\n",
      "[CV] END selectkbest__k=4, svc__C=0.01, svc__class_weight=balanced; total time=  29.3s\n",
      "[CV] END selectkbest__k=4, svc__C=0.01, svc__class_weight=balanced; total time=  29.1s\n",
      "[CV] END selectkbest__k=4, svc__C=0.01, svc__class_weight=balanced; total time=  29.3s\n",
      "[CV] END selectkbest__k=4, svc__C=0.01, svc__class_weight=balanced; total time=  29.4s\n",
      "[CV] END selectkbest__k=4, svc__C=0.1, svc__class_weight=None; total time=  24.3s\n",
      "[CV] END selectkbest__k=4, svc__C=0.1, svc__class_weight=None; total time=  23.9s\n",
      "[CV] END selectkbest__k=4, svc__C=0.1, svc__class_weight=None; total time=  24.9s\n",
      "[CV] END selectkbest__k=4, svc__C=0.1, svc__class_weight=None; total time=  24.9s\n",
      "[CV] END selectkbest__k=4, svc__C=0.1, svc__class_weight=None; total time=  24.2s\n",
      "[CV] END selectkbest__k=4, svc__C=0.1, svc__class_weight=balanced; total time=  27.6s\n",
      "[CV] END selectkbest__k=4, svc__C=0.1, svc__class_weight=balanced; total time=  27.5s\n",
      "[CV] END selectkbest__k=4, svc__C=0.1, svc__class_weight=balanced; total time=  27.5s\n",
      "[CV] END selectkbest__k=4, svc__C=0.1, svc__class_weight=balanced; total time=  27.6s\n",
      "[CV] END selectkbest__k=4, svc__C=0.1, svc__class_weight=balanced; total time=  27.1s\n",
      "[CV] END selectkbest__k=5, svc__C=0.0001, svc__class_weight=None; total time=  30.1s\n",
      "[CV] END selectkbest__k=5, svc__C=0.0001, svc__class_weight=None; total time=  30.0s\n",
      "[CV] END selectkbest__k=5, svc__C=0.0001, svc__class_weight=None; total time=  30.0s\n",
      "[CV] END selectkbest__k=5, svc__C=0.0001, svc__class_weight=None; total time=  29.9s\n",
      "[CV] END selectkbest__k=5, svc__C=0.0001, svc__class_weight=None; total time=  30.6s\n",
      "[CV] END selectkbest__k=5, svc__C=0.0001, svc__class_weight=balanced; total time=  45.6s\n",
      "[CV] END selectkbest__k=5, svc__C=0.0001, svc__class_weight=balanced; total time=  45.6s\n",
      "[CV] END selectkbest__k=5, svc__C=0.0001, svc__class_weight=balanced; total time=  45.4s\n",
      "[CV] END selectkbest__k=5, svc__C=0.0001, svc__class_weight=balanced; total time=  45.6s\n",
      "[CV] END selectkbest__k=5, svc__C=0.0001, svc__class_weight=balanced; total time=  45.4s\n",
      "[CV] END selectkbest__k=5, svc__C=0.001, svc__class_weight=None; total time=  30.4s\n",
      "[CV] END selectkbest__k=5, svc__C=0.001, svc__class_weight=None; total time=  34.3s\n",
      "[CV] END selectkbest__k=5, svc__C=0.001, svc__class_weight=None; total time=  30.4s\n",
      "[CV] END selectkbest__k=5, svc__C=0.001, svc__class_weight=None; total time=  30.5s\n",
      "[CV] END selectkbest__k=5, svc__C=0.001, svc__class_weight=None; total time=  30.4s\n",
      "[CV] END selectkbest__k=5, svc__C=0.001, svc__class_weight=balanced; total time=  37.5s\n",
      "[CV] END selectkbest__k=5, svc__C=0.001, svc__class_weight=balanced; total time=  37.1s\n",
      "[CV] END selectkbest__k=5, svc__C=0.001, svc__class_weight=balanced; total time=  37.2s\n",
      "[CV] END selectkbest__k=5, svc__C=0.001, svc__class_weight=balanced; total time=  37.5s\n",
      "[CV] END selectkbest__k=5, svc__C=0.001, svc__class_weight=balanced; total time=  37.2s\n",
      "[CV] END selectkbest__k=5, svc__C=0.01, svc__class_weight=None; total time=  25.5s\n",
      "[CV] END selectkbest__k=5, svc__C=0.01, svc__class_weight=None; total time=  24.9s\n",
      "[CV] END selectkbest__k=5, svc__C=0.01, svc__class_weight=None; total time=  25.9s\n",
      "[CV] END selectkbest__k=5, svc__C=0.01, svc__class_weight=None; total time=  25.7s\n",
      "[CV] END selectkbest__k=5, svc__C=0.01, svc__class_weight=None; total time=  25.6s\n",
      "[CV] END selectkbest__k=5, svc__C=0.01, svc__class_weight=balanced; total time=  29.4s\n",
      "[CV] END selectkbest__k=5, svc__C=0.01, svc__class_weight=balanced; total time=  29.6s\n",
      "[CV] END selectkbest__k=5, svc__C=0.01, svc__class_weight=balanced; total time=  29.6s\n",
      "[CV] END selectkbest__k=5, svc__C=0.01, svc__class_weight=balanced; total time=  33.5s\n",
      "[CV] END selectkbest__k=5, svc__C=0.01, svc__class_weight=balanced; total time=856.5min\n",
      "[CV] END selectkbest__k=5, svc__C=0.1, svc__class_weight=None; total time=275.9min\n",
      "[CV] END selectkbest__k=5, svc__C=0.1, svc__class_weight=None; total time=  31.6s\n",
      "[CV] END selectkbest__k=5, svc__C=0.1, svc__class_weight=None; total time=  24.8s\n",
      "[CV] END selectkbest__k=5, svc__C=0.1, svc__class_weight=None; total time=  25.1s\n",
      "[CV] END selectkbest__k=5, svc__C=0.1, svc__class_weight=None; total time=  24.8s\n",
      "[CV] END selectkbest__k=5, svc__C=0.1, svc__class_weight=balanced; total time=  27.9s\n",
      "[CV] END selectkbest__k=5, svc__C=0.1, svc__class_weight=balanced; total time=  31.2s\n",
      "[CV] END selectkbest__k=5, svc__C=0.1, svc__class_weight=balanced; total time=  28.7s\n",
      "[CV] END selectkbest__k=5, svc__C=0.1, svc__class_weight=balanced; total time=  27.7s\n",
      "[CV] END selectkbest__k=5, svc__C=0.1, svc__class_weight=balanced; total time=  27.5s\n",
      "[CV] END selectkbest__k=6, svc__C=0.0001, svc__class_weight=None; total time=  30.4s\n",
      "[CV] END selectkbest__k=6, svc__C=0.0001, svc__class_weight=None; total time=  30.6s\n",
      "[CV] END selectkbest__k=6, svc__C=0.0001, svc__class_weight=None; total time=  31.3s\n",
      "[CV] END selectkbest__k=6, svc__C=0.0001, svc__class_weight=None; total time=  30.6s\n",
      "[CV] END selectkbest__k=6, svc__C=0.0001, svc__class_weight=None; total time=  32.1s\n",
      "[CV] END selectkbest__k=6, svc__C=0.0001, svc__class_weight=balanced; total time=  51.1s\n",
      "[CV] END selectkbest__k=6, svc__C=0.0001, svc__class_weight=balanced; total time=  49.7s\n",
      "[CV] END selectkbest__k=6, svc__C=0.0001, svc__class_weight=balanced; total time=  49.1s\n",
      "[CV] END selectkbest__k=6, svc__C=0.0001, svc__class_weight=balanced; total time=  47.1s\n",
      "[CV] END selectkbest__k=6, svc__C=0.0001, svc__class_weight=balanced; total time=  50.2s\n",
      "[CV] END selectkbest__k=6, svc__C=0.001, svc__class_weight=None; total time=  31.7s\n",
      "[CV] END selectkbest__k=6, svc__C=0.001, svc__class_weight=None; total time=  31.0s\n",
      "[CV] END selectkbest__k=6, svc__C=0.001, svc__class_weight=None; total time=  30.3s\n",
      "[CV] END selectkbest__k=6, svc__C=0.001, svc__class_weight=None; total time=  31.4s\n",
      "[CV] END selectkbest__k=6, svc__C=0.001, svc__class_weight=None; total time=  33.6s\n",
      "[CV] END selectkbest__k=6, svc__C=0.001, svc__class_weight=balanced; total time=  42.3s\n",
      "[CV] END selectkbest__k=6, svc__C=0.001, svc__class_weight=balanced; total time=  42.1s\n",
      "[CV] END selectkbest__k=6, svc__C=0.001, svc__class_weight=balanced; total time=  44.2s\n",
      "[CV] END selectkbest__k=6, svc__C=0.001, svc__class_weight=balanced; total time=  42.0s\n",
      "[CV] END selectkbest__k=6, svc__C=0.001, svc__class_weight=balanced; total time=  42.2s\n",
      "[CV] END selectkbest__k=6, svc__C=0.01, svc__class_weight=None; total time=  28.2s\n",
      "[CV] END selectkbest__k=6, svc__C=0.01, svc__class_weight=None; total time=  27.7s\n",
      "[CV] END selectkbest__k=6, svc__C=0.01, svc__class_weight=None; total time=  27.3s\n",
      "[CV] END selectkbest__k=6, svc__C=0.01, svc__class_weight=None; total time=  27.9s\n",
      "[CV] END selectkbest__k=6, svc__C=0.01, svc__class_weight=None; total time=  28.2s\n",
      "[CV] END selectkbest__k=6, svc__C=0.01, svc__class_weight=balanced; total time=  31.9s\n",
      "[CV] END selectkbest__k=6, svc__C=0.01, svc__class_weight=balanced; total time=  30.4s\n",
      "[CV] END selectkbest__k=6, svc__C=0.01, svc__class_weight=balanced; total time=  30.8s\n",
      "[CV] END selectkbest__k=6, svc__C=0.01, svc__class_weight=balanced; total time=  31.5s\n",
      "[CV] END selectkbest__k=6, svc__C=0.01, svc__class_weight=balanced; total time=  31.7s\n",
      "[CV] END selectkbest__k=6, svc__C=0.1, svc__class_weight=None; total time=  25.1s\n",
      "[CV] END selectkbest__k=6, svc__C=0.1, svc__class_weight=None; total time=  23.3s\n",
      "[CV] END selectkbest__k=6, svc__C=0.1, svc__class_weight=None; total time=  24.2s\n",
      "[CV] END selectkbest__k=6, svc__C=0.1, svc__class_weight=None; total time=  24.3s\n",
      "[CV] END selectkbest__k=6, svc__C=0.1, svc__class_weight=None; total time=  24.4s\n",
      "[CV] END selectkbest__k=6, svc__C=0.1, svc__class_weight=balanced; total time=  27.6s\n",
      "[CV] END selectkbest__k=6, svc__C=0.1, svc__class_weight=balanced; total time=  26.1s\n",
      "[CV] END selectkbest__k=6, svc__C=0.1, svc__class_weight=balanced; total time=  27.2s\n",
      "[CV] END selectkbest__k=6, svc__C=0.1, svc__class_weight=balanced; total time=  27.4s\n",
      "[CV] END selectkbest__k=6, svc__C=0.1, svc__class_weight=balanced; total time=  27.9s\n",
      "[CV] END selectkbest__k=7, svc__C=0.0001, svc__class_weight=None; total time=  35.3s\n",
      "[CV] END selectkbest__k=7, svc__C=0.0001, svc__class_weight=None; total time=  38.3s\n",
      "[CV] END selectkbest__k=7, svc__C=0.0001, svc__class_weight=None; total time=  39.5s\n",
      "[CV] END selectkbest__k=7, svc__C=0.0001, svc__class_weight=None; total time=  35.9s\n",
      "[CV] END selectkbest__k=7, svc__C=0.0001, svc__class_weight=None; total time=  32.9s\n",
      "[CV] END selectkbest__k=7, svc__C=0.0001, svc__class_weight=balanced; total time=  52.2s\n",
      "[CV] END selectkbest__k=7, svc__C=0.0001, svc__class_weight=balanced; total time=  49.9s\n",
      "[CV] END selectkbest__k=7, svc__C=0.0001, svc__class_weight=balanced; total time=  48.0s\n",
      "[CV] END selectkbest__k=7, svc__C=0.0001, svc__class_weight=balanced; total time=  48.7s\n",
      "[CV] END selectkbest__k=7, svc__C=0.0001, svc__class_weight=balanced; total time=  48.5s\n",
      "[CV] END selectkbest__k=7, svc__C=0.001, svc__class_weight=None; total time=  31.7s\n",
      "[CV] END selectkbest__k=7, svc__C=0.001, svc__class_weight=None; total time=  31.8s\n",
      "[CV] END selectkbest__k=7, svc__C=0.001, svc__class_weight=None; total time=  31.9s\n",
      "[CV] END selectkbest__k=7, svc__C=0.001, svc__class_weight=None; total time=  31.6s\n",
      "[CV] END selectkbest__k=7, svc__C=0.001, svc__class_weight=None; total time=  31.5s\n",
      "[CV] END selectkbest__k=7, svc__C=0.001, svc__class_weight=balanced; total time=  39.8s\n",
      "[CV] END selectkbest__k=7, svc__C=0.001, svc__class_weight=balanced; total time=  39.4s\n",
      "[CV] END selectkbest__k=7, svc__C=0.001, svc__class_weight=balanced; total time=  39.6s\n",
      "[CV] END selectkbest__k=7, svc__C=0.001, svc__class_weight=balanced; total time=  39.4s\n",
      "[CV] END selectkbest__k=7, svc__C=0.001, svc__class_weight=balanced; total time=  40.4s\n",
      "[CV] END selectkbest__k=7, svc__C=0.01, svc__class_weight=None; total time=  26.6s\n",
      "[CV] END selectkbest__k=7, svc__C=0.01, svc__class_weight=None; total time=  26.1s\n",
      "[CV] END selectkbest__k=7, svc__C=0.01, svc__class_weight=None; total time=  26.5s\n",
      "[CV] END selectkbest__k=7, svc__C=0.01, svc__class_weight=None; total time=  26.8s\n",
      "[CV] END selectkbest__k=7, svc__C=0.01, svc__class_weight=None; total time=  26.4s\n",
      "[CV] END selectkbest__k=7, svc__C=0.01, svc__class_weight=balanced; total time=  30.5s\n",
      "[CV] END selectkbest__k=7, svc__C=0.01, svc__class_weight=balanced; total time=  30.3s\n",
      "[CV] END selectkbest__k=7, svc__C=0.01, svc__class_weight=balanced; total time=  30.9s\n",
      "[CV] END selectkbest__k=7, svc__C=0.01, svc__class_weight=balanced; total time=  31.3s\n",
      "[CV] END selectkbest__k=7, svc__C=0.01, svc__class_weight=balanced; total time=  31.4s\n",
      "[CV] END selectkbest__k=7, svc__C=0.1, svc__class_weight=None; total time=  24.3s\n",
      "[CV] END selectkbest__k=7, svc__C=0.1, svc__class_weight=None; total time=  24.2s\n",
      "[CV] END selectkbest__k=7, svc__C=0.1, svc__class_weight=None; total time=  24.1s\n",
      "[CV] END selectkbest__k=7, svc__C=0.1, svc__class_weight=None; total time=  24.7s\n",
      "[CV] END selectkbest__k=7, svc__C=0.1, svc__class_weight=None; total time=  24.7s\n",
      "[CV] END selectkbest__k=7, svc__C=0.1, svc__class_weight=balanced; total time=  27.2s\n",
      "[CV] END selectkbest__k=7, svc__C=0.1, svc__class_weight=balanced; total time=  27.1s\n",
      "[CV] END selectkbest__k=7, svc__C=0.1, svc__class_weight=balanced; total time=  27.2s\n",
      "[CV] END selectkbest__k=7, svc__C=0.1, svc__class_weight=balanced; total time=  27.2s\n",
      "[CV] END selectkbest__k=7, svc__C=0.1, svc__class_weight=balanced; total time=  26.9s\n"
     ]
    },
    {
     "data": {
      "text/html": [
       "<style>#sk-container-id-1 {color: black;background-color: white;}#sk-container-id-1 pre{padding: 0;}#sk-container-id-1 div.sk-toggleable {background-color: white;}#sk-container-id-1 label.sk-toggleable__label {cursor: pointer;display: block;width: 100%;margin-bottom: 0;padding: 0.3em;box-sizing: border-box;text-align: center;}#sk-container-id-1 label.sk-toggleable__label-arrow:before {content: \"▸\";float: left;margin-right: 0.25em;color: #696969;}#sk-container-id-1 label.sk-toggleable__label-arrow:hover:before {color: black;}#sk-container-id-1 div.sk-estimator:hover label.sk-toggleable__label-arrow:before {color: black;}#sk-container-id-1 div.sk-toggleable__content {max-height: 0;max-width: 0;overflow: hidden;text-align: left;background-color: #f0f8ff;}#sk-container-id-1 div.sk-toggleable__content pre {margin: 0.2em;color: black;border-radius: 0.25em;background-color: #f0f8ff;}#sk-container-id-1 input.sk-toggleable__control:checked~div.sk-toggleable__content {max-height: 200px;max-width: 100%;overflow: auto;}#sk-container-id-1 input.sk-toggleable__control:checked~label.sk-toggleable__label-arrow:before {content: \"▾\";}#sk-container-id-1 div.sk-estimator input.sk-toggleable__control:checked~label.sk-toggleable__label {background-color: #d4ebff;}#sk-container-id-1 div.sk-label input.sk-toggleable__control:checked~label.sk-toggleable__label {background-color: #d4ebff;}#sk-container-id-1 input.sk-hidden--visually {border: 0;clip: rect(1px 1px 1px 1px);clip: rect(1px, 1px, 1px, 1px);height: 1px;margin: -1px;overflow: hidden;padding: 0;position: absolute;width: 1px;}#sk-container-id-1 div.sk-estimator {font-family: monospace;background-color: #f0f8ff;border: 1px dotted black;border-radius: 0.25em;box-sizing: border-box;margin-bottom: 0.5em;}#sk-container-id-1 div.sk-estimator:hover {background-color: #d4ebff;}#sk-container-id-1 div.sk-parallel-item::after {content: \"\";width: 100%;border-bottom: 1px solid gray;flex-grow: 1;}#sk-container-id-1 div.sk-label:hover label.sk-toggleable__label {background-color: #d4ebff;}#sk-container-id-1 div.sk-serial::before {content: \"\";position: absolute;border-left: 1px solid gray;box-sizing: border-box;top: 0;bottom: 0;left: 50%;z-index: 0;}#sk-container-id-1 div.sk-serial {display: flex;flex-direction: column;align-items: center;background-color: white;padding-right: 0.2em;padding-left: 0.2em;position: relative;}#sk-container-id-1 div.sk-item {position: relative;z-index: 1;}#sk-container-id-1 div.sk-parallel {display: flex;align-items: stretch;justify-content: center;background-color: white;position: relative;}#sk-container-id-1 div.sk-item::before, #sk-container-id-1 div.sk-parallel-item::before {content: \"\";position: absolute;border-left: 1px solid gray;box-sizing: border-box;top: 0;bottom: 0;left: 50%;z-index: -1;}#sk-container-id-1 div.sk-parallel-item {display: flex;flex-direction: column;z-index: 1;position: relative;background-color: white;}#sk-container-id-1 div.sk-parallel-item:first-child::after {align-self: flex-end;width: 50%;}#sk-container-id-1 div.sk-parallel-item:last-child::after {align-self: flex-start;width: 50%;}#sk-container-id-1 div.sk-parallel-item:only-child::after {width: 0;}#sk-container-id-1 div.sk-dashed-wrapped {border: 1px dashed gray;margin: 0 0.4em 0.5em 0.4em;box-sizing: border-box;padding-bottom: 0.4em;background-color: white;}#sk-container-id-1 div.sk-label label {font-family: monospace;font-weight: bold;display: inline-block;line-height: 1.2em;}#sk-container-id-1 div.sk-label-container {text-align: center;}#sk-container-id-1 div.sk-container {/* jupyter's `normalize.less` sets `[hidden] { display: none; }` but bootstrap.min.css set `[hidden] { display: none !important; }` so we also need the `!important` here to be able to override the default hidden behavior on the sphinx rendered scikit-learn.org. See: https://github.com/scikit-learn/scikit-learn/issues/21755 */display: inline-block !important;position: relative;}#sk-container-id-1 div.sk-text-repr-fallback {display: none;}</style><div id=\"sk-container-id-1\" class=\"sk-top-container\"><div class=\"sk-text-repr-fallback\"><pre>GridSearchCV(cv=5,\n",
       "             estimator=Pipeline(steps=[(&#x27;robustscaler&#x27;, RobustScaler()),\n",
       "                                       (&#x27;selectkbest&#x27;, SelectKBest()),\n",
       "                                       (&#x27;svc&#x27;, SVC())]),\n",
       "             param_grid={&#x27;selectkbest__k&#x27;: [3, 4, 5, 6, 7],\n",
       "                         &#x27;svc__C&#x27;: [0.0001, 0.001, 0.01, 0.1],\n",
       "                         &#x27;svc__class_weight&#x27;: [None, &#x27;balanced&#x27;]},\n",
       "             scoring=&#x27;f1&#x27;, verbose=2)</pre><b>In a Jupyter environment, please rerun this cell to show the HTML representation or trust the notebook. <br />On GitHub, the HTML representation is unable to render, please try loading this page with nbviewer.org.</b></div><div class=\"sk-container\" hidden><div class=\"sk-item sk-dashed-wrapped\"><div class=\"sk-label-container\"><div class=\"sk-label sk-toggleable\"><input class=\"sk-toggleable__control sk-hidden--visually\" id=\"sk-estimator-id-1\" type=\"checkbox\" ><label for=\"sk-estimator-id-1\" class=\"sk-toggleable__label sk-toggleable__label-arrow\">GridSearchCV</label><div class=\"sk-toggleable__content\"><pre>GridSearchCV(cv=5,\n",
       "             estimator=Pipeline(steps=[(&#x27;robustscaler&#x27;, RobustScaler()),\n",
       "                                       (&#x27;selectkbest&#x27;, SelectKBest()),\n",
       "                                       (&#x27;svc&#x27;, SVC())]),\n",
       "             param_grid={&#x27;selectkbest__k&#x27;: [3, 4, 5, 6, 7],\n",
       "                         &#x27;svc__C&#x27;: [0.0001, 0.001, 0.01, 0.1],\n",
       "                         &#x27;svc__class_weight&#x27;: [None, &#x27;balanced&#x27;]},\n",
       "             scoring=&#x27;f1&#x27;, verbose=2)</pre></div></div></div><div class=\"sk-parallel\"><div class=\"sk-parallel-item\"><div class=\"sk-item\"><div class=\"sk-label-container\"><div class=\"sk-label sk-toggleable\"><input class=\"sk-toggleable__control sk-hidden--visually\" id=\"sk-estimator-id-2\" type=\"checkbox\" ><label for=\"sk-estimator-id-2\" class=\"sk-toggleable__label sk-toggleable__label-arrow\">estimator: Pipeline</label><div class=\"sk-toggleable__content\"><pre>Pipeline(steps=[(&#x27;robustscaler&#x27;, RobustScaler()),\n",
       "                (&#x27;selectkbest&#x27;, SelectKBest()), (&#x27;svc&#x27;, SVC())])</pre></div></div></div><div class=\"sk-serial\"><div class=\"sk-item\"><div class=\"sk-serial\"><div class=\"sk-item\"><div class=\"sk-estimator sk-toggleable\"><input class=\"sk-toggleable__control sk-hidden--visually\" id=\"sk-estimator-id-3\" type=\"checkbox\" ><label for=\"sk-estimator-id-3\" class=\"sk-toggleable__label sk-toggleable__label-arrow\">RobustScaler</label><div class=\"sk-toggleable__content\"><pre>RobustScaler()</pre></div></div></div><div class=\"sk-item\"><div class=\"sk-estimator sk-toggleable\"><input class=\"sk-toggleable__control sk-hidden--visually\" id=\"sk-estimator-id-4\" type=\"checkbox\" ><label for=\"sk-estimator-id-4\" class=\"sk-toggleable__label sk-toggleable__label-arrow\">SelectKBest</label><div class=\"sk-toggleable__content\"><pre>SelectKBest()</pre></div></div></div><div class=\"sk-item\"><div class=\"sk-estimator sk-toggleable\"><input class=\"sk-toggleable__control sk-hidden--visually\" id=\"sk-estimator-id-5\" type=\"checkbox\" ><label for=\"sk-estimator-id-5\" class=\"sk-toggleable__label sk-toggleable__label-arrow\">SVC</label><div class=\"sk-toggleable__content\"><pre>SVC()</pre></div></div></div></div></div></div></div></div></div></div></div></div>"
      ],
      "text/plain": [
       "GridSearchCV(cv=5,\n",
       "             estimator=Pipeline(steps=[('robustscaler', RobustScaler()),\n",
       "                                       ('selectkbest', SelectKBest()),\n",
       "                                       ('svc', SVC())]),\n",
       "             param_grid={'selectkbest__k': [3, 4, 5, 6, 7],\n",
       "                         'svc__C': [0.0001, 0.001, 0.01, 0.1],\n",
       "                         'svc__class_weight': [None, 'balanced']},\n",
       "             scoring='f1', verbose=2)"
      ]
     },
     "execution_count": 175,
     "metadata": {},
     "output_type": "execute_result"
    }
   ],
   "source": [
    "# Model validation\n",
    "param_grid = {\n",
    "    'selectkbest__k': [3, 4, 5, 6, 7],\n",
    "    'svc__class_weight': [None,'balanced'],\n",
    "    'svc__C': [.0001, .001, .01, .1]\n",
    "}\n",
    "\n",
    "grid = GridSearchCV(pipeline, param_grid=param_grid, cv=5, scoring='f1', verbose=2)\n",
    "\n",
    "grid.fit(X_train, y_train)"
   ]
  },
  {
   "cell_type": "code",
   "execution_count": 238,
   "metadata": {},
   "outputs": [
    {
     "name": "stdout",
     "output_type": "stream",
     "text": [
      "Cross Validation Score: 0.7247384145466906\n",
      "Best Parameters: {'selectkbest__k': 7, 'svc__C': 0.1, 'svc__class_weight': 'balanced'}\n",
      "Features selected:\n",
      "reward\n",
      "duration\n",
      "social\n",
      "discount\n",
      "informational\n",
      "transaction_amount\n",
      "transaction_count\n",
      "\n",
      "Features not selected:\n",
      "difficulty\n",
      "mobile\n",
      "web\n",
      "bogo\n",
      "age\n",
      "income\n",
      "customer_loyalty_days\n",
      "gender_F\n",
      "gender_M\n",
      "gender_O\n",
      "year_joined_2013\n",
      "year_joined_2014\n",
      "year_joined_2015\n",
      "year_joined_2016\n",
      "year_joined_2017\n",
      "year_joined_2018\n"
     ]
    }
   ],
   "source": [
    "# Interpret the results\n",
    "\n",
    "# Best cross validation score\n",
    "print('Cross Validation Score:', grid.best_score_)\n",
    "\n",
    "# Best parameters which resulted in the best score\n",
    "print('Best Parameters:', grid.best_params_)\n",
    "\n",
    "# Which features were selected?\n",
    "selector = grid.best_estimator_.named_steps['selectkbest']\n",
    "all_names = X.columns\n",
    "selected_mask = selector.get_support()\n",
    "selected_names = all_names[selected_mask]\n",
    "unselected_names = all_names[~selected_mask]\n",
    "\n",
    "print('Features selected:')\n",
    "for name in selected_names:\n",
    "    print(name)\n",
    "\n",
    "print()\n",
    "print('Features not selected:')\n",
    "for name in unselected_names:\n",
    "    print(name)"
   ]
  },
  {
   "cell_type": "code",
   "execution_count": 245,
   "metadata": {},
   "outputs": [
    {
     "data": {
      "text/html": [
       "<div>\n",
       "<style scoped>\n",
       "    .dataframe tbody tr th:only-of-type {\n",
       "        vertical-align: middle;\n",
       "    }\n",
       "\n",
       "    .dataframe tbody tr th {\n",
       "        vertical-align: top;\n",
       "    }\n",
       "\n",
       "    .dataframe thead th {\n",
       "        text-align: right;\n",
       "    }\n",
       "</style>\n",
       "<table border=\"1\" class=\"dataframe\">\n",
       "  <thead>\n",
       "    <tr style=\"text-align: right;\">\n",
       "      <th></th>\n",
       "      <th>feature_name</th>\n",
       "      <th>feature_selected</th>\n",
       "      <th>feature_importance_score</th>\n",
       "    </tr>\n",
       "  </thead>\n",
       "  <tbody>\n",
       "    <tr>\n",
       "      <th>8</th>\n",
       "      <td>informational</td>\n",
       "      <td>True</td>\n",
       "      <td>6379.455913</td>\n",
       "    </tr>\n",
       "    <tr>\n",
       "      <th>4</th>\n",
       "      <td>social</td>\n",
       "      <td>True</td>\n",
       "      <td>2386.538533</td>\n",
       "    </tr>\n",
       "    <tr>\n",
       "      <th>2</th>\n",
       "      <td>duration</td>\n",
       "      <td>True</td>\n",
       "      <td>2314.124561</td>\n",
       "    </tr>\n",
       "    <tr>\n",
       "      <th>21</th>\n",
       "      <td>transaction_amount</td>\n",
       "      <td>True</td>\n",
       "      <td>2182.030472</td>\n",
       "    </tr>\n",
       "    <tr>\n",
       "      <th>7</th>\n",
       "      <td>discount</td>\n",
       "      <td>True</td>\n",
       "      <td>1352.504172</td>\n",
       "    </tr>\n",
       "    <tr>\n",
       "      <th>0</th>\n",
       "      <td>reward</td>\n",
       "      <td>True</td>\n",
       "      <td>1189.828036</td>\n",
       "    </tr>\n",
       "    <tr>\n",
       "      <th>22</th>\n",
       "      <td>transaction_count</td>\n",
       "      <td>True</td>\n",
       "      <td>1167.321254</td>\n",
       "    </tr>\n",
       "    <tr>\n",
       "      <th>5</th>\n",
       "      <td>web</td>\n",
       "      <td>False</td>\n",
       "      <td>1002.494655</td>\n",
       "    </tr>\n",
       "    <tr>\n",
       "      <th>1</th>\n",
       "      <td>difficulty</td>\n",
       "      <td>False</td>\n",
       "      <td>927.965593</td>\n",
       "    </tr>\n",
       "    <tr>\n",
       "      <th>20</th>\n",
       "      <td>year_joined_2018</td>\n",
       "      <td>False</td>\n",
       "      <td>703.406414</td>\n",
       "    </tr>\n",
       "    <tr>\n",
       "      <th>6</th>\n",
       "      <td>bogo</td>\n",
       "      <td>False</td>\n",
       "      <td>593.646293</td>\n",
       "    </tr>\n",
       "    <tr>\n",
       "      <th>10</th>\n",
       "      <td>income</td>\n",
       "      <td>False</td>\n",
       "      <td>578.320730</td>\n",
       "    </tr>\n",
       "    <tr>\n",
       "      <th>11</th>\n",
       "      <td>customer_loyalty_days</td>\n",
       "      <td>False</td>\n",
       "      <td>558.013964</td>\n",
       "    </tr>\n",
       "    <tr>\n",
       "      <th>18</th>\n",
       "      <td>year_joined_2016</td>\n",
       "      <td>False</td>\n",
       "      <td>540.584784</td>\n",
       "    </tr>\n",
       "    <tr>\n",
       "      <th>3</th>\n",
       "      <td>mobile</td>\n",
       "      <td>False</td>\n",
       "      <td>421.183885</td>\n",
       "    </tr>\n",
       "  </tbody>\n",
       "</table>\n",
       "</div>"
      ],
      "text/plain": [
       "             feature_name  feature_selected  feature_importance_score\n",
       "8           informational              True               6379.455913\n",
       "4                  social              True               2386.538533\n",
       "2                duration              True               2314.124561\n",
       "21     transaction_amount              True               2182.030472\n",
       "7                discount              True               1352.504172\n",
       "0                  reward              True               1189.828036\n",
       "22      transaction_count              True               1167.321254\n",
       "5                     web             False               1002.494655\n",
       "1              difficulty             False                927.965593\n",
       "20       year_joined_2018             False                703.406414\n",
       "6                    bogo             False                593.646293\n",
       "10                 income             False                578.320730\n",
       "11  customer_loyalty_days             False                558.013964\n",
       "18       year_joined_2016             False                540.584784\n",
       "3                  mobile             False                421.183885"
      ]
     },
     "execution_count": 245,
     "metadata": {},
     "output_type": "execute_result"
    }
   ],
   "source": [
    "pd.DataFrame({'feature_name':list(X.columns),\n",
    "              'feature_selected':grid.best_estimator_.named_steps['selectkbest'].get_support(),\n",
    "              'feature_importance_score':grid.best_estimator_.named_steps['selectkbest'].scores_\n",
    "}).sort_values(by='feature_importance_score', ascending=False).head(15)"
   ]
  },
  {
   "cell_type": "code",
   "execution_count": 177,
   "metadata": {},
   "outputs": [
    {
     "data": {
      "text/plain": [
       "0.7344398340248964"
      ]
     },
     "execution_count": 177,
     "metadata": {},
     "output_type": "execute_result"
    }
   ],
   "source": [
    "#Get the best model and check it against test data set.\n",
    "\n",
    "# Predict with X_test features\n",
    "y_pred_grid = grid.predict(X_test)\n",
    "\n",
    "# Compare predictions to y_test\n",
    "f1_score(y_test, y_pred_grid)"
   ]
  },
  {
   "cell_type": "code",
   "execution_count": 181,
   "metadata": {},
   "outputs": [
    {
     "name": "stdout",
     "output_type": "stream",
     "text": [
      "              precision    recall  f1-score   support\n",
      "\n",
      "           0       0.90      0.72      0.80     10205\n",
      "           1       0.64      0.86      0.73      5992\n",
      "\n",
      "    accuracy                           0.77     16197\n",
      "   macro avg       0.77      0.79      0.77     16197\n",
      "weighted avg       0.80      0.77      0.77     16197\n",
      "\n"
     ]
    }
   ],
   "source": [
    "print(classification_report(y_test, y_pred_grid))"
   ]
  },
  {
   "attachments": {},
   "cell_type": "markdown",
   "metadata": {},
   "source": [
    "Through starting to optimise the 3 hyperparamters, GridSearch found that the best model with the highest f1 score of 73% had 7 features and a regulization parameter of 0.1. It also found that the 7 features that best predicted the completed after viewing status were: reward, duration of the offer, if the offer was communicated via social channels, the type of offer, the customer's total transactional amount and their count of transactions. \n",
    "\n",
    "Surprisingly gender is not so important although we did see previously a link between that and the customer's transactional amount and count, therefore it seems that these two features were selected over gender.\n",
    "\n",
    "*This answers our fourth question of what attributes most contribute to a customer's likelihood of completing an offer after viewing it.*"
   ]
  },
  {
   "cell_type": "code",
   "execution_count": 234,
   "metadata": {},
   "outputs": [
    {
     "data": {
      "text/plain": [
       "0.7803035413153457"
      ]
     },
     "execution_count": 234,
     "metadata": {},
     "output_type": "execute_result"
    }
   ],
   "source": [
    "11568/len(profile_clean['customer_id'].unique())"
   ]
  },
  {
   "attachments": {},
   "cell_type": "markdown",
   "metadata": {},
   "source": [
    "## Conclusion\n",
    "\n",
    "Throughout this notebook we performed exploratory data analysis and modelling to answer four questions that we set out to explore with the Starbucks Transactions dataset.\n",
    "\n",
    "1. Gender does influence how much a person spends at Starbucks. While the average number of purchases made by men and women were even, women tend to spend more than men. On average, women spend around $6 more per purchase at Starbucks.\n",
    "\n",
    "2. A significant portion of members do view and complete offers at Starbucks. Based on the dataset, 11,568 customers received, viewed, and completed the offers by making purchases associated with the offer - approximately 78%. Furthermore, 3,233 customers complete offers without actually viewing them first, therefore completing them unintentionally. We also saw that over half of the offers that were sent were not completed.\n",
    "\n",
    "3. Discount offers were the most likely type of offer to be completed after being viewed, with 1,150 more discount offers being completed after being viewed than bogo offers.\n",
    "\n",
    "4. The attributes that most contribute to the likelihood of a customer completeing an offer after viewing it are if the offer was an informational type, if it was communicated via social channels, the offer duration, and the customer's total transactional amount.\n",
    "\n",
    "These are very interesting findings, and with the data we cleaned and processed, we can use them to look at many other trends."
   ]
  }
 ],
 "metadata": {
  "kernelspec": {
   "display_name": "Python 3",
   "language": "python",
   "name": "python3"
  },
  "language_info": {
   "codemirror_mode": {
    "name": "ipython",
    "version": 3
   },
   "file_extension": ".py",
   "mimetype": "text/x-python",
   "name": "python",
   "nbconvert_exporter": "python",
   "pygments_lexer": "ipython3",
   "version": "3.11.0"
  }
 },
 "nbformat": 4,
 "nbformat_minor": 2
}
